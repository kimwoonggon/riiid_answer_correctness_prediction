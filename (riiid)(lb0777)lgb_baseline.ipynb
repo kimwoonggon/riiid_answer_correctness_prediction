{
 "cells": [
  {
   "cell_type": "code",
   "execution_count": 2,
   "metadata": {},
   "outputs": [],
   "source": [
    "import numpy as np\n",
    "import pandas as pd\n",
    "from collections import defaultdict\n",
    "import random\n",
    "import gc\n",
    "from sklearn.metrics import roc_auc_score\n",
    "import lightgbm as lgb\n",
    "import datatable as dt\n",
    "import matplotlib.pyplot as plt\n",
    "import joblib\n",
    "\n",
    "\n",
    "dtypes={'row_id': 'int64',\n",
    "                          'timestamp': 'int64',\n",
    "                          'user_id': 'int32',\n",
    "                          'content_id': 'int16',\n",
    "                          'content_type_id': 'int8',\n",
    "                          'task_container_id': 'int16',\n",
    "                          'user_answer': 'int8',\n",
    "                          'answered_correctly':'int8',\n",
    "                          'prior_question_elapsed_time': 'float32',\n",
    "                          'prior_question_had_explanation': 'boolean',\n",
    "                          'max_time_stamp' : 'int64',\n",
    "                          'viretual_time_stamp' : 'int64'}\n",
    "\n",
    "target = 'answered_correctly'\n",
    "\n",
    "train_df = dt.fread(\"(adjusted)train.csv\", columns=set(dtypes.keys())).to_pandas()\n",
    "lectures_df = pd.read_csv(\"lectures.csv\")\n",
    "\n",
    "lectures_df['type_of'] = lectures_df['type_of'].replace('solving question', 'solving_question')\n",
    "lectures_df = pd.get_dummies(lectures_df, columns=['part', 'type_of'])\n",
    "part_lectures_columns = [column for column in lectures_df.columns if column.startswith('part')]\n",
    "types_of_lectures_columns = [column for column in lectures_df.columns if column.startswith('type_of')]\n",
    "\n",
    "train_lectures = train_df[train_df.content_type_id == True].merge(lectures_df, left_on='content_id', right_on='lecture_id', how='left')\n",
    "user_lecture_stats_part = train_lectures.groupby('user_id', as_index=False)[part_lectures_columns + types_of_lectures_columns].sum()"
   ]
  },
  {
   "cell_type": "code",
   "execution_count": 2,
   "metadata": {},
   "outputs": [
    {
     "data": {
      "text/plain": [
       "20"
      ]
     },
     "execution_count": 2,
     "metadata": {},
     "output_type": "execute_result"
    }
   ],
   "source": [
    "gc.collect()"
   ]
  },
  {
   "cell_type": "code",
   "execution_count": 3,
   "metadata": {},
   "outputs": [],
   "source": [
    "lecturedata_types_dict = {   \n",
    "    'user_id': 'int32', \n",
    "    'part_1': 'int8',\n",
    "    'part_2': 'int8',\n",
    "    'part_3': 'int8',\n",
    "    'part_4': 'int8',\n",
    "    'part_5': 'int8',\n",
    "    'part_6': 'int8',\n",
    "    'part_7': 'int8',\n",
    "    'type_of_concept': 'int8',\n",
    "    'type_of_intention': 'int8',\n",
    "    'type_of_solving_question': 'int8',\n",
    "    'type_of_starter': 'int8'\n",
    "}\n",
    "\n",
    "user_lecture_stats_part = user_lecture_stats_part.astype(lecturedata_types_dict)"
   ]
  },
  {
   "cell_type": "code",
   "execution_count": 4,
   "metadata": {},
   "outputs": [],
   "source": [
    "del train_lectures"
   ]
  },
  {
   "cell_type": "code",
   "execution_count": 5,
   "metadata": {},
   "outputs": [],
   "source": [
    "cum = train_df.groupby('user_id')['content_type_id'].agg(['cumsum', 'cumcount'])\n",
    "cum['cumcount'] = cum['cumcount'] + 1\n",
    "train_df['user_interaction_count'] = cum['cumcount']\n",
    "train_df['user_interaction_viretual_time_stamp_mean'] = train_df['viretual_time_stamp']/cum['cumcount']\n",
    "train_df['user_lecture_sum'] = cum['cumsum']\n",
    "train_df['user_lecture_lv'] = cum['cumsum'] / cum['cumcount']\n",
    "\n",
    "train_df.user_lecture_lv = train_df.user_lecture_lv.astype('float16')\n",
    "train_df.user_lecture_sum = train_df.user_lecture_sum.astype('int16')\n",
    "train_df.user_interaction_count=train_df.user_interaction_count.astype('int16')\n",
    "train_df['user_interaction_viretual_time_stamp_mean'] = train_df['user_interaction_viretual_time_stamp_mean']/(1000*3600)\n",
    "train_df['user_interaction_viretual_time_stamp_mean'] = train_df['user_interaction_viretual_time_stamp_mean'].astype('float32')\n",
    "user_lecture_agg = train_df.groupby('user_id')['content_type_id'].agg(['sum', 'count'])\n",
    "user_lecture_agg = user_lecture_agg.astype('int16')"
   ]
  },
  {
   "cell_type": "code",
   "execution_count": 6,
   "metadata": {},
   "outputs": [
    {
     "data": {
      "text/plain": [
       "20"
      ]
     },
     "execution_count": 6,
     "metadata": {},
     "output_type": "execute_result"
    }
   ],
   "source": [
    "del cum\n",
    "gc.collect()"
   ]
  },
  {
   "cell_type": "code",
   "execution_count": 7,
   "metadata": {},
   "outputs": [],
   "source": [
    "max_timestamp_u = train_df[['user_id', 'timestamp']].groupby('user_id').agg(['max']).reset_index()\n",
    "max_timestamp_u.columns = ['user_id', 'max_time_stamp']\n",
    "max_timestamp_u.user_id = max_timestamp_u.user_id.astype('int32')\n",
    "\n",
    "max_viretual_stamp_u = train_df[['user_id', 'viretual_time_stamp']].groupby('user_id').agg(['max']).reset_index()\n",
    "max_viretual_stamp_u.columns = ['user_id', 'max_viretual_time_stamp']\n",
    "max_viretual_stamp_u.user_id = max_viretual_stamp_u.user_id.astype('int32')\n",
    "\n"
   ]
  },
  {
   "cell_type": "code",
   "execution_count": 69,
   "metadata": {},
   "outputs": [
    {
     "data": {
      "text/plain": [
       "200"
      ]
     },
     "execution_count": 69,
     "metadata": {},
     "output_type": "execute_result"
    }
   ],
   "source": [
    "gc.collect()"
   ]
  },
  {
   "cell_type": "code",
   "execution_count": 9,
   "metadata": {},
   "outputs": [],
   "source": [
    "train_df['lagtime'] = train_df.groupby('user_id')['viretual_time_stamp'].shift()\n",
    "train_df['temp_lag_time'] = train_df.groupby('user_id')['timestamp'].shift()\n",
    "\n",
    "max_timestamp_u2 = train_df[['user_id', 'temp_lag_time']].groupby('user_id').agg(['max']).reset_index()\n",
    "max_timestamp_u2.columns = ['user_id', 'temp_max_time_stamp2']\n",
    "max_timestamp_u2.user_id = max_timestamp_u2.user_id.astype('int32')\n",
    "#max_timestamp_u2['temp_max_time_stamp2'].fillna\n",
    "\n",
    "max_viretual_stamp_u2 = train_df[['user_id', 'lagtime']].groupby('user_id').agg(['max']).reset_index()\n",
    "max_viretual_stamp_u2.columns = ['user_id', 'max_viretual_time_stamp2']\n",
    "max_viretual_stamp_u2.user_id = max_viretual_stamp_u2.user_id.astype('int32')\n",
    "\n",
    "\n",
    "\n",
    "train_df['lagtime'] = train_df['viretual_time_stamp'] - train_df['lagtime']\n",
    "lagtime_mean = train_df['lagtime'].mean()\n",
    "train_df['lagtime'].fillna(lagtime_mean, inplace=True)\n",
    "train_df['lagtime'] = train_df['lagtime'] / (1000*3600)\n",
    "train_df['lagtime'] = train_df.lagtime.astype('float32')"
   ]
  },
  {
   "cell_type": "code",
   "execution_count": 10,
   "metadata": {},
   "outputs": [
    {
     "data": {
      "text/plain": [
       "20"
      ]
     },
     "execution_count": 10,
     "metadata": {},
     "output_type": "execute_result"
    }
   ],
   "source": [
    "gc.collect()"
   ]
  },
  {
   "cell_type": "code",
   "execution_count": 11,
   "metadata": {},
   "outputs": [],
   "source": [
    "train_df['lagtime2'] = train_df.groupby('user_id')['viretual_time_stamp'].shift(2)\n",
    "train_df['temp_lag_time2'] = train_df.groupby('user_id')['timestamp'].shift(2)\n",
    "\n",
    "max_timestamp_u3 = train_df[['user_id', 'temp_lag_time2']].groupby('user_id').agg(['max']).reset_index()\n",
    "max_timestamp_u3.columns = ['user_id', 'temp_max_time_stamp3']\n",
    "max_timestamp_u3.user_id = max_timestamp_u3.user_id.astype('int32')\n",
    "\n",
    "max_viretual_stamp_u3 = train_df[['user_id', 'lagtime2']].groupby('user_id').agg(['max']).reset_index()\n",
    "max_viretual_stamp_u3.columns = ['user_id', 'max_viretual_time_stamp3']\n",
    "max_viretual_stamp_u3.user_id = max_viretual_stamp_u3.user_id.astype('int32')\n",
    "\n",
    "\n",
    "train_df['lagtime2'] = train_df['viretual_time_stamp'] - train_df['lagtime2']\n",
    "lagtime_mean2 = train_df['lagtime2'].mean()\n",
    "train_df['lagtime2'].fillna(lagtime_mean2, inplace=True)\n",
    "train_df['lagtime2'] = train_df['lagtime2'] / (1000*3600)\n",
    "train_df.lagtime2 = train_df.lagtime2.astype('float32')\n",
    "\n",
    "gc.collect()\n",
    "\n",
    "train_df['lagtime3'] = train_df.groupby('user_id')['viretual_time_stamp'].shift(3)\n",
    "train_df['lagtime3'] = train_df['viretual_time_stamp'] - train_df['lagtime3']\n",
    "lagtime_mean3 = train_df['lagtime3'].mean()\n",
    "train_df['lagtime3'].fillna(lagtime_mean3, inplace=True)\n",
    "train_df['lagtime3'] = train_df['lagtime3']/(1000*3600)\n",
    "train_df.lagtime3 = train_df.lagtime3.astype('float32')"
   ]
  },
  {
   "cell_type": "code",
   "execution_count": 12,
   "metadata": {},
   "outputs": [
    {
     "data": {
      "text/plain": [
       "20"
      ]
     },
     "execution_count": 12,
     "metadata": {},
     "output_type": "execute_result"
    }
   ],
   "source": [
    "lagtime_agg = train_df.groupby('user_id')['lagtime'].agg(['mean'])\n",
    "train_df['lagtime_mean'] = train_df['user_id'].map(lagtime_agg['mean'])\n",
    "train_df.lagtime_mean = train_df.lagtime_mean.astype('int32')\n",
    "gc.collect()"
   ]
  },
  {
   "cell_type": "code",
   "execution_count": 13,
   "metadata": {},
   "outputs": [],
   "source": [
    "prior_question_elapsed_time_mean=train_df['prior_question_elapsed_time'].mean()\n",
    "train_df['prior_question_elapsed_time'].fillna(prior_question_elapsed_time_mean, inplace=True)"
   ]
  },
  {
   "cell_type": "code",
   "execution_count": 14,
   "metadata": {},
   "outputs": [
    {
     "data": {
      "text/plain": [
       "0"
      ]
     },
     "execution_count": 14,
     "metadata": {},
     "output_type": "execute_result"
    }
   ],
   "source": [
    "user_prior_question_elapsed_time = train_df[['user_id', 'prior_question_elapsed_time']].groupby(['user_id']).tail(1)\n",
    "user_prior_question_elapsed_time.columns = ['user_id', 'prior_question_elapsed_time']\n",
    "user_prior_question_elapsed_time_dict= user_prior_question_elapsed_time.set_index(\"user_id\").to_dict()\n",
    "\n",
    "train_df['delta_prior_question_elapsed_time'] = train_df.groupby('user_id')['prior_question_elapsed_time'].shift()\n",
    "train_df['delta_prior_question_elapsed_time'] = train_df['prior_question_elapsed_time'] - train_df['delta_prior_question_elapsed_time']\n",
    "\n",
    "\n",
    "delta_prior_question_elapsed_time_mean = train_df['delta_prior_question_elapsed_time'].mean()\n",
    "train_df['delta_prior_question_elapsed_time'].fillna(delta_prior_question_elapsed_time_mean, inplace=True)\n",
    "train_df.delta_prior_question_elapsed_time = train_df.delta_prior_question_elapsed_time.astype('int32')\n",
    "gc.collect()"
   ]
  },
  {
   "cell_type": "code",
   "execution_count": 15,
   "metadata": {},
   "outputs": [],
   "source": [
    "train_df['viretual_time_stamp'] = train_df['viretual_time_stamp']/(1000*3600)\n",
    "train_df['viretual_time_stamp'] = train_df['viretual_time_stamp'].astype('int16')"
   ]
  },
  {
   "cell_type": "code",
   "execution_count": 16,
   "metadata": {},
   "outputs": [
    {
     "data": {
      "text/plain": [
       "40"
      ]
     },
     "execution_count": 16,
     "metadata": {},
     "output_type": "execute_result"
    }
   ],
   "source": [
    "gc.collect()"
   ]
  },
  {
   "cell_type": "code",
   "execution_count": 17,
   "metadata": {},
   "outputs": [],
   "source": [
    "#train_df = train_df.loc[train_df['content_type_id']==0].reset_index(drop=True)"
   ]
  },
  {
   "cell_type": "code",
   "execution_count": 18,
   "metadata": {},
   "outputs": [
    {
     "data": {
      "text/plain": [
       "40"
      ]
     },
     "execution_count": 18,
     "metadata": {},
     "output_type": "execute_result"
    }
   ],
   "source": [
    "gc.collect()"
   ]
  },
  {
   "cell_type": "code",
   "execution_count": 19,
   "metadata": {},
   "outputs": [
    {
     "data": {
      "text/plain": [
       "0"
      ]
     },
     "execution_count": 19,
     "metadata": {},
     "output_type": "execute_result"
    }
   ],
   "source": [
    "train_df['lag'] = train_df.groupby('user_id')[target].shift()\n",
    "\n",
    "cum = train_df.groupby('user_id')['lag'].agg(['cumsum', 'cumcount'])\n",
    "user_agg = train_df.groupby('user_id')['lag'].agg(['sum', 'count']).astype('int16')\n",
    "cum['cumsum'].fillna(0, inplace=True)\n",
    "\n",
    "train_df['user_correctness'] = cum['cumsum'] / cum['cumcount']\n",
    "train_df['user_correct_count'] = cum['cumsum']\n",
    "train_df['user_uncorrect_count'] = cum['cumcount'] - cum['cumsum']\n",
    "#train_df['user_correct_cumsum'] = cum['cumsum']\n",
    "#train_df['user_correct_cumcount'] = cum['cumcount']\n",
    "train_df.drop(columns=['lag'], inplace=True)\n",
    "train_df['user_correctness'].fillna(0.67, inplace=True)\n",
    "#train_df['user_correct_cumsum'].fillna(0, inplace=True)\n",
    "train_df.user_correctness = train_df.user_correctness.astype('float16')\n",
    "train_df.user_correct_count = train_df.user_correct_count.astype('int16')\n",
    "train_df.user_uncorrect_count = train_df.user_uncorrect_count.astype('int16')\n",
    "gc.collect()"
   ]
  },
  {
   "cell_type": "code",
   "execution_count": 20,
   "metadata": {},
   "outputs": [
    {
     "name": "stderr",
     "output_type": "stream",
     "text": [
      "C:\\Users\\gerard\\anaconda3\\envs\\riid\\lib\\site-packages\\ipykernel_launcher.py:10: UserWarning: Pandas doesn't allow columns to be created via a new attribute name - see https://pandas.pydata.org/pandas-docs/stable/indexing.html#attribute-access\n",
      "  # Remove the CWD from sys.path while we load stuff.\n",
      "C:\\Users\\gerard\\anaconda3\\envs\\riid\\lib\\site-packages\\ipykernel_launcher.py:11: UserWarning: Pandas doesn't allow columns to be created via a new attribute name - see https://pandas.pydata.org/pandas-docs/stable/indexing.html#attribute-access\n",
      "  # This is added back by InteractiveShellApp.init_path()\n"
     ]
    }
   ],
   "source": [
    "train_df.prior_question_had_explanation.fillna(False, inplace=True)\n",
    "train_df.prior_question_had_explanation = train_df.prior_question_had_explanation.astype('int8')\n",
    "\n",
    "content_explanation_agg = train_df[['content_id', \"prior_question_had_explanation\",target]]\\\n",
    "                          .groupby(['content_id', 'prior_question_had_explanation'])[target].agg(['mean'])\n",
    "content_explanation_agg = content_explanation_agg.unstack()\n",
    "content_explanation_agg = content_explanation_agg.reset_index()\n",
    "content_explanation_agg.columns = ['content_id', 'content_explanation_false_mean','content_explanation_true_mean']\n",
    "content_explanation_agg.content_id=content_explanation_agg.content_id.astype('int16')\n",
    "content_explanation_agg.content_explation_false_mean=content_explanation_agg.content_explanation_false_mean.astype('float16')\n",
    "content_explanation_agg.content_explation_true_mean=content_explanation_agg.content_explanation_true_mean.astype('float16')"
   ]
  },
  {
   "cell_type": "code",
   "execution_count": 21,
   "metadata": {},
   "outputs": [],
   "source": [
    "cum = train_df.groupby('user_id')['prior_question_had_explanation'].agg(['cumsum', 'cumcount'])\n",
    "cum['comcount'] = cum['cumcount'] + 1\n",
    "#user_agg = train_df.groupby('user_id')['lag'].agg(['sum', 'count']).astype('int16')\n",
    "cum['cumsum'].fillna(0, inplace=True)\n",
    "\n",
    "\n",
    "train_df['explanation_mean'] = cum['cumsum'] / cum['cumcount']\n",
    "train_df['explanation_true_count'] = cum['cumsum']\n",
    "train_df['explanation_false_count'] = cum['cumcount'] - cum['cumsum']\n",
    "#train_df.drop(columns=['lag'], inplace=True)\n",
    "train_df.explanation_mean = train_df.explanation_mean.astype('float16')\n",
    "\n",
    "train_df['explanation_mean'].fillna(train_df.explanation_mean, inplace=True)\n",
    "#train_df['explanation_cumsum'].fillna(0, inplace=True)\n",
    "train_df.explanation_mean=train_df.explanation_mean.astype('float16')\n",
    "train_df.explanation_true_count=train_df.explanation_true_count.astype('int16')\n",
    "train_df.explanation_false_count=train_df.explanation_false_count.astype('int16')"
   ]
  },
  {
   "cell_type": "code",
   "execution_count": 22,
   "metadata": {},
   "outputs": [],
   "source": [
    "del cum"
   ]
  },
  {
   "cell_type": "code",
   "execution_count": 23,
   "metadata": {},
   "outputs": [
    {
     "data": {
      "text/plain": [
       "40"
      ]
     },
     "execution_count": 23,
     "metadata": {},
     "output_type": "execute_result"
    }
   ],
   "source": [
    "gc.collect()"
   ]
  },
  {
   "cell_type": "code",
   "execution_count": 24,
   "metadata": {},
   "outputs": [
    {
     "data": {
      "text/plain": [
       "20"
      ]
     },
     "execution_count": 24,
     "metadata": {},
     "output_type": "execute_result"
    }
   ],
   "source": [
    "train_df['attempt_no'] = 1\n",
    "train_df.attempt_no = train_df.attempt_no.astype('int8')\n",
    "train_df[\"attempt_no\"] = train_df[['user_id', 'content_id', 'attempt_no']].groupby(['user_id', 'content_id'])['attempt_no'].cumsum()\n",
    "attempt_no_agg = train_df.groupby(['user_id', 'content_id'])['attempt_no'].agg(['sum']).astype('int8')\n",
    "attempt_no_agg = attempt_no_agg[attempt_no_agg['sum'] > 1]\n",
    "gc.collect()"
   ]
  },
  {
   "cell_type": "code",
   "execution_count": 25,
   "metadata": {
    "scrolled": true
   },
   "outputs": [
    {
     "data": {
      "text/html": [
       "<div>\n",
       "<style scoped>\n",
       "    .dataframe tbody tr th:only-of-type {\n",
       "        vertical-align: middle;\n",
       "    }\n",
       "\n",
       "    .dataframe tbody tr th {\n",
       "        vertical-align: top;\n",
       "    }\n",
       "\n",
       "    .dataframe thead th {\n",
       "        text-align: right;\n",
       "    }\n",
       "</style>\n",
       "<table border=\"1\" class=\"dataframe\">\n",
       "  <thead>\n",
       "    <tr style=\"text-align: right;\">\n",
       "      <th></th>\n",
       "      <th>row_id</th>\n",
       "      <th>timestamp</th>\n",
       "      <th>user_id</th>\n",
       "      <th>content_id</th>\n",
       "      <th>content_type_id</th>\n",
       "      <th>task_container_id</th>\n",
       "      <th>user_answer</th>\n",
       "      <th>answered_correctly</th>\n",
       "      <th>prior_question_elapsed_time</th>\n",
       "      <th>prior_question_had_explanation</th>\n",
       "      <th>...</th>\n",
       "      <th>lagtime3</th>\n",
       "      <th>lagtime_mean</th>\n",
       "      <th>delta_prior_question_elapsed_time</th>\n",
       "      <th>user_correctness</th>\n",
       "      <th>user_correct_count</th>\n",
       "      <th>user_uncorrect_count</th>\n",
       "      <th>explanation_mean</th>\n",
       "      <th>explanation_true_count</th>\n",
       "      <th>explanation_false_count</th>\n",
       "      <th>attempt_no</th>\n",
       "    </tr>\n",
       "  </thead>\n",
       "  <tbody>\n",
       "    <tr>\n",
       "      <th>0</th>\n",
       "      <td>32933156</td>\n",
       "      <td>0</td>\n",
       "      <td>705741139</td>\n",
       "      <td>128</td>\n",
       "      <td>False</td>\n",
       "      <td>0</td>\n",
       "      <td>0</td>\n",
       "      <td>1</td>\n",
       "      <td>25423.810043</td>\n",
       "      <td>0</td>\n",
       "      <td>...</td>\n",
       "      <td>16.355442</td>\n",
       "      <td>4</td>\n",
       "      <td>-4</td>\n",
       "      <td>0.669922</td>\n",
       "      <td>0</td>\n",
       "      <td>0</td>\n",
       "      <td>NaN</td>\n",
       "      <td>0</td>\n",
       "      <td>0</td>\n",
       "      <td>1</td>\n",
       "    </tr>\n",
       "    <tr>\n",
       "      <th>1</th>\n",
       "      <td>32933157</td>\n",
       "      <td>20666</td>\n",
       "      <td>705741139</td>\n",
       "      <td>7860</td>\n",
       "      <td>False</td>\n",
       "      <td>1</td>\n",
       "      <td>0</td>\n",
       "      <td>1</td>\n",
       "      <td>16000.000000</td>\n",
       "      <td>0</td>\n",
       "      <td>...</td>\n",
       "      <td>16.355442</td>\n",
       "      <td>4</td>\n",
       "      <td>-9423</td>\n",
       "      <td>1.000000</td>\n",
       "      <td>1</td>\n",
       "      <td>0</td>\n",
       "      <td>0.0</td>\n",
       "      <td>0</td>\n",
       "      <td>1</td>\n",
       "      <td>1</td>\n",
       "    </tr>\n",
       "    <tr>\n",
       "      <th>2</th>\n",
       "      <td>32933158</td>\n",
       "      <td>39172</td>\n",
       "      <td>705741139</td>\n",
       "      <td>7922</td>\n",
       "      <td>False</td>\n",
       "      <td>2</td>\n",
       "      <td>1</td>\n",
       "      <td>1</td>\n",
       "      <td>19000.000000</td>\n",
       "      <td>0</td>\n",
       "      <td>...</td>\n",
       "      <td>16.355442</td>\n",
       "      <td>4</td>\n",
       "      <td>3000</td>\n",
       "      <td>1.000000</td>\n",
       "      <td>2</td>\n",
       "      <td>0</td>\n",
       "      <td>0.0</td>\n",
       "      <td>0</td>\n",
       "      <td>2</td>\n",
       "      <td>1</td>\n",
       "    </tr>\n",
       "    <tr>\n",
       "      <th>3</th>\n",
       "      <td>32933159</td>\n",
       "      <td>58207</td>\n",
       "      <td>705741139</td>\n",
       "      <td>156</td>\n",
       "      <td>False</td>\n",
       "      <td>3</td>\n",
       "      <td>2</td>\n",
       "      <td>1</td>\n",
       "      <td>17000.000000</td>\n",
       "      <td>0</td>\n",
       "      <td>...</td>\n",
       "      <td>0.016169</td>\n",
       "      <td>4</td>\n",
       "      <td>-2000</td>\n",
       "      <td>1.000000</td>\n",
       "      <td>3</td>\n",
       "      <td>0</td>\n",
       "      <td>0.0</td>\n",
       "      <td>0</td>\n",
       "      <td>3</td>\n",
       "      <td>1</td>\n",
       "    </tr>\n",
       "    <tr>\n",
       "      <th>4</th>\n",
       "      <td>32933160</td>\n",
       "      <td>75779</td>\n",
       "      <td>705741139</td>\n",
       "      <td>51</td>\n",
       "      <td>False</td>\n",
       "      <td>4</td>\n",
       "      <td>0</td>\n",
       "      <td>1</td>\n",
       "      <td>17000.000000</td>\n",
       "      <td>0</td>\n",
       "      <td>...</td>\n",
       "      <td>0.015309</td>\n",
       "      <td>4</td>\n",
       "      <td>0</td>\n",
       "      <td>1.000000</td>\n",
       "      <td>4</td>\n",
       "      <td>0</td>\n",
       "      <td>0.0</td>\n",
       "      <td>0</td>\n",
       "      <td>4</td>\n",
       "      <td>1</td>\n",
       "    </tr>\n",
       "  </tbody>\n",
       "</table>\n",
       "<p>5 rows × 30 columns</p>\n",
       "</div>"
      ],
      "text/plain": [
       "     row_id  timestamp    user_id  content_id  content_type_id  \\\n",
       "0  32933156          0  705741139         128            False   \n",
       "1  32933157      20666  705741139        7860            False   \n",
       "2  32933158      39172  705741139        7922            False   \n",
       "3  32933159      58207  705741139         156            False   \n",
       "4  32933160      75779  705741139          51            False   \n",
       "\n",
       "   task_container_id  user_answer  answered_correctly  \\\n",
       "0                  0            0                   1   \n",
       "1                  1            0                   1   \n",
       "2                  2            1                   1   \n",
       "3                  3            2                   1   \n",
       "4                  4            0                   1   \n",
       "\n",
       "   prior_question_elapsed_time  prior_question_had_explanation  ...  \\\n",
       "0                 25423.810043                               0  ...   \n",
       "1                 16000.000000                               0  ...   \n",
       "2                 19000.000000                               0  ...   \n",
       "3                 17000.000000                               0  ...   \n",
       "4                 17000.000000                               0  ...   \n",
       "\n",
       "    lagtime3  lagtime_mean  delta_prior_question_elapsed_time  \\\n",
       "0  16.355442             4                                 -4   \n",
       "1  16.355442             4                              -9423   \n",
       "2  16.355442             4                               3000   \n",
       "3   0.016169             4                              -2000   \n",
       "4   0.015309             4                                  0   \n",
       "\n",
       "   user_correctness  user_correct_count  user_uncorrect_count  \\\n",
       "0          0.669922                   0                     0   \n",
       "1          1.000000                   1                     0   \n",
       "2          1.000000                   2                     0   \n",
       "3          1.000000                   3                     0   \n",
       "4          1.000000                   4                     0   \n",
       "\n",
       "   explanation_mean  explanation_true_count  explanation_false_count  \\\n",
       "0               NaN                       0                        0   \n",
       "1               0.0                       0                        1   \n",
       "2               0.0                       0                        2   \n",
       "3               0.0                       0                        3   \n",
       "4               0.0                       0                        4   \n",
       "\n",
       "   attempt_no  \n",
       "0           1  \n",
       "1           1  \n",
       "2           1  \n",
       "3           1  \n",
       "4           1  \n",
       "\n",
       "[5 rows x 30 columns]"
      ]
     },
     "execution_count": 25,
     "metadata": {},
     "output_type": "execute_result"
    }
   ],
   "source": [
    "train_df.head()"
   ]
  },
  {
   "cell_type": "code",
   "execution_count": 26,
   "metadata": {},
   "outputs": [
    {
     "data": {
      "text/plain": [
       "(101230332, 30)"
      ]
     },
     "execution_count": 26,
     "metadata": {},
     "output_type": "execute_result"
    }
   ],
   "source": [
    "train_df.shape"
   ]
  },
  {
   "cell_type": "code",
   "execution_count": 27,
   "metadata": {},
   "outputs": [
    {
     "data": {
      "text/plain": [
       "40"
      ]
     },
     "execution_count": 27,
     "metadata": {},
     "output_type": "execute_result"
    }
   ],
   "source": [
    "gc.collect()"
   ]
  },
  {
   "cell_type": "code",
   "execution_count": 28,
   "metadata": {},
   "outputs": [],
   "source": [
    "explanation_agg = train_df.groupby('user_id')['prior_question_had_explanation'].agg(['sum', 'count'])\n",
    "explanation_agg = explanation_agg.astype('int16')\n",
    "\n",
    "user_agg = train_df.groupby('user_id')[target].agg(['sum', 'count'])\n",
    "content_agg = train_df.groupby('content_id')[target].agg(['sum', 'count','var'])\n",
    "task_container_agg = train_df.groupby('task_container_id')[target].agg(['sum', 'count', 'var'])\n",
    "\n",
    "user_agg = user_agg.astype('int16')\n",
    "content_agg = content_agg.astype('float32')\n",
    "task_container_agg = task_container_agg.astype('float32')"
   ]
  },
  {
   "cell_type": "code",
   "execution_count": 29,
   "metadata": {},
   "outputs": [
    {
     "data": {
      "text/plain": [
       "0"
      ]
     },
     "execution_count": 29,
     "metadata": {},
     "output_type": "execute_result"
    }
   ],
   "source": [
    "train_df['content_count'] = train_df['content_id'].map(content_agg['count']).astype('int32')\n",
    "train_df['content_sum'] = train_df['content_id'].map(content_agg['sum']).astype('int32')\n",
    "train_df['content_correctness'] = train_df['content_id'].map(content_agg['sum'] / content_agg['count'])\n",
    "train_df.content_correctness = train_df.content_correctness.astype('float16')\n",
    "gc.collect()\n",
    "\n",
    "train_df['task_container_uncor_count'] = train_df['task_container_id'].map(task_container_agg['count'] - task_container_agg['sum']).astype('int32')\n",
    "train_df['task_container_cor_count'] = train_df['task_container_id'].map(task_container_agg['sum']).astype('int32')\n",
    "train_df['task_container_std'] = train_df['task_container_id'].map(task_container_agg['var']).astype('float16')\n",
    "train_df['task_container_correctness'] = train_df['task_container_id'].map(task_container_agg['sum'] / task_container_agg['count'])\n",
    "train_df.task_container_correctness = train_df.task_container_correctness.astype('float16')\n",
    "\n",
    "gc.collect()"
   ]
  },
  {
   "cell_type": "code",
   "execution_count": 30,
   "metadata": {},
   "outputs": [],
   "source": [
    "content_elapsed_time_agg = train_df.groupby('content_id')['prior_question_elapsed_time'].agg(['mean'])\n",
    "content_had_explanation_agg = train_df.groupby('content_id')['prior_question_had_explanation'].agg(['mean'])"
   ]
  },
  {
   "cell_type": "code",
   "execution_count": 31,
   "metadata": {},
   "outputs": [],
   "source": [
    "questions_df = pd.read_csv('questions.csv')"
   ]
  },
  {
   "cell_type": "code",
   "execution_count": 32,
   "metadata": {},
   "outputs": [],
   "source": [
    "bundle_agg = questions_df.groupby('bundle_id')['question_id'].agg(['count'])\n",
    "questions_df['content_sub_bundle'] = questions_df['bundle_id'].map(bundle_agg['count']).astype('int8')"
   ]
  },
  {
   "cell_type": "code",
   "execution_count": 33,
   "metadata": {},
   "outputs": [],
   "source": [
    "questions_df['tags'].fillna('188', inplace=True)"
   ]
  },
  {
   "cell_type": "code",
   "execution_count": 34,
   "metadata": {},
   "outputs": [
    {
     "data": {
      "text/plain": [
       "'11 12 13 14'"
      ]
     },
     "execution_count": 34,
     "metadata": {},
     "output_type": "execute_result"
    }
   ],
   "source": [
    "def gettags(tags, num):\n",
    "    tags_splits=tags.split(\" \")\n",
    "    result='' \n",
    "    for t in tags_splits:\n",
    "        x=int(t)\n",
    "        if(x<32*(num+1) and x>=32*num):#num \n",
    "            result=result+' '+t\n",
    "        if result.startswith(\" \"):\n",
    "            result = result.strip()\n",
    "            \n",
    "    return result\n",
    "gettags(\"11 12 13 14\", 0)"
   ]
  },
  {
   "cell_type": "code",
   "execution_count": 35,
   "metadata": {},
   "outputs": [],
   "source": [
    "from sklearn.preprocessing import LabelEncoder\n",
    "for num in range(0,7):\n",
    "    questions_df[\"tags\"+str(num)] = questions_df[\"tags\"].apply(lambda row: gettags(row,num))\n",
    "    le = LabelEncoder()\n",
    "    le.fit(np.unique(questions_df['tags'+str(num)].values))\n",
    "    #questions_df[['tags'+str(num)]=\n",
    "    questions_df['tags'+str(num)]=questions_df[['tags'+str(num)]].apply(le.transform)"
   ]
  },
  {
   "cell_type": "code",
   "execution_count": 36,
   "metadata": {},
   "outputs": [],
   "source": [
    "questions_df_dict = {\n",
    "    'tags0' : 'int8',\n",
    "    'tags1' : 'int8',\n",
    "    'tags2' : 'int8',\n",
    "    'tags3' : 'int8',\n",
    "    'tags4' : 'int8',\n",
    "    'tags5' : 'int8',\n",
    "    'tags6' : 'int8',\n",
    "}"
   ]
  },
  {
   "cell_type": "code",
   "execution_count": 37,
   "metadata": {},
   "outputs": [],
   "source": [
    "questions_df.drop(columns=['tags'], inplace=True)"
   ]
  },
  {
   "cell_type": "code",
   "execution_count": 38,
   "metadata": {},
   "outputs": [],
   "source": [
    "questions_df['part_bundle_id'] = questions_df['part']*100000 + questions_df['bundle_id']\n",
    "questions_df.part_bundle_id = questions_df.part_bundle_id.astype('int32')\n",
    "#tag = questions_df['tags'].str.split(\" \", n=10, expand=True)\n",
    "#tag.columns = ['tags'+str(x) for x in range(1,7)]\n",
    "\n",
    "#tag.fillna(0, inplace=True)\n",
    "#tag = tag.astype('int16')\n",
    "#questions_df = pd.concat([questions_df, tag], axis=1).drop(['tags'], axis=1)"
   ]
  },
  {
   "cell_type": "code",
   "execution_count": 39,
   "metadata": {},
   "outputs": [],
   "source": [
    "questions_cmnts = pd.read_csv(\n",
    "    'question_cmnts.csv',\n",
    "    dtype={'question_id': 'int16','community': 'int8'}\n",
    ")"
   ]
  },
  {
   "cell_type": "code",
   "execution_count": 40,
   "metadata": {},
   "outputs": [],
   "source": [
    "questions_df = pd.merge(questions_df, questions_cmnts, on='question_id', how='left', right_index=True)\n",
    "questions_df.rename(columns={'question_id':'content_id'}, inplace=True)"
   ]
  },
  {
   "cell_type": "code",
   "execution_count": 41,
   "metadata": {},
   "outputs": [
    {
     "data": {
      "text/plain": [
       "80"
      ]
     },
     "execution_count": 41,
     "metadata": {},
     "output_type": "execute_result"
    }
   ],
   "source": [
    "questions_df = pd.merge(questions_df, content_explanation_agg, on='content_id', how='left')\n",
    "\n",
    "del content_explanation_agg\n",
    "gc.collect()"
   ]
  },
  {
   "cell_type": "code",
   "execution_count": 42,
   "metadata": {},
   "outputs": [],
   "source": [
    "questions_df['content_correctness'] = questions_df['content_id'].map(content_agg['sum'] / content_agg['count'])\n",
    "questions_df.content_correctness = questions_df.content_correctness.astype('float16')\n",
    "questions_df['content_correctness_std'] = questions_df['content_id'].map(content_agg['var'])\n",
    "questions_df.content_correctness_std = questions_df.content_correctness_std.astype('float16')\n",
    "\n",
    "questions_df['content_uncorrect_count'] = questions_df['content_id'].map(content_agg['count'] - content_agg['sum']).astype('int32')\n",
    "questions_df['content_correct_count'] = questions_df['content_id'].map(content_agg['sum']).astype('int32')"
   ]
  },
  {
   "cell_type": "code",
   "execution_count": 43,
   "metadata": {},
   "outputs": [
    {
     "data": {
      "text/plain": [
       "40"
      ]
     },
     "execution_count": 43,
     "metadata": {},
     "output_type": "execute_result"
    }
   ],
   "source": [
    "gc.collect()"
   ]
  },
  {
   "cell_type": "code",
   "execution_count": 44,
   "metadata": {},
   "outputs": [],
   "source": [
    "part_agg = questions_df.groupby('part')['content_correctness'].agg(['mean', 'var'])\n",
    "questions_df['part_correctness_mean'] = questions_df['part'].map(part_agg['mean'])\n",
    "questions_df['part_correctness_std'] = questions_df['part'].map(part_agg['var'])\n",
    "questions_df.part_correctness_mean=questions_df.part_correctness_mean.astype('float16')\n",
    "questions_df.part_correctness_std=questions_df.part_correctness_std.astype('float16')"
   ]
  },
  {
   "cell_type": "code",
   "execution_count": 45,
   "metadata": {},
   "outputs": [],
   "source": [
    "part_agg = questions_df.groupby('part')['content_uncorrect_count'].agg(['sum'])\n",
    "questions_df['part_uncor_count'] = questions_df['part'].map(part_agg['sum']).astype('int32')\n",
    "part_agg = questions_df.groupby('part')['content_correct_count'].agg(['sum'])\n",
    "questions_df['part_cor_count'] = questions_df['part'].map(part_agg['sum']).astype('int32')"
   ]
  },
  {
   "cell_type": "code",
   "execution_count": 46,
   "metadata": {},
   "outputs": [
    {
     "data": {
      "text/plain": [
       "20"
      ]
     },
     "execution_count": 46,
     "metadata": {},
     "output_type": "execute_result"
    }
   ],
   "source": [
    "questions_df['content_elapsed_time_mean'] = questions_df['content_id'].map(content_elapsed_time_agg['mean'])\n",
    "questions_df.content_elapsed_time_mean = questions_df.content_elapsed_time_mean.astype('float16')\n",
    "questions_df['content_had_explanation_mean'] = questions_df['content_id'].map(content_had_explanation_agg['mean'])\n",
    "questions_df.content_had_explanation_mean=questions_df.content_had_explanation_mean.astype('float16')\n",
    "gc.collect()"
   ]
  },
  {
   "cell_type": "code",
   "execution_count": 47,
   "metadata": {},
   "outputs": [],
   "source": [
    "bundle_agg = questions_df.groupby('bundle_id')['content_correctness'].agg(['mean'])\n",
    "questions_df['bundle_correctness'] = questions_df['bundle_id'].map(bundle_agg['mean'])\n",
    "questions_df.bundle_correctness = questions_df.bundle_correctness.astype('float16')"
   ]
  },
  {
   "cell_type": "code",
   "execution_count": 49,
   "metadata": {},
   "outputs": [],
   "source": [
    "questions_df.drop(columns=['content_correctness'], inplace=True)"
   ]
  },
  {
   "cell_type": "code",
   "execution_count": 50,
   "metadata": {},
   "outputs": [],
   "source": [
    "train_df = train_df.merge(questions_df, on='content_id', how='left', right_index=True)"
   ]
  },
  {
   "cell_type": "code",
   "execution_count": 51,
   "metadata": {},
   "outputs": [
    {
     "data": {
      "text/plain": [
       "20"
      ]
     },
     "execution_count": 51,
     "metadata": {},
     "output_type": "execute_result"
    }
   ],
   "source": [
    "gc.collect()"
   ]
  },
  {
   "cell_type": "code",
   "execution_count": 52,
   "metadata": {},
   "outputs": [
    {
     "data": {
      "text/html": [
       "<div>\n",
       "<style scoped>\n",
       "    .dataframe tbody tr th:only-of-type {\n",
       "        vertical-align: middle;\n",
       "    }\n",
       "\n",
       "    .dataframe tbody tr th {\n",
       "        vertical-align: top;\n",
       "    }\n",
       "\n",
       "    .dataframe thead th {\n",
       "        text-align: right;\n",
       "    }\n",
       "</style>\n",
       "<table border=\"1\" class=\"dataframe\">\n",
       "  <thead>\n",
       "    <tr style=\"text-align: right;\">\n",
       "      <th></th>\n",
       "      <th></th>\n",
       "      <th>mean</th>\n",
       "      <th>count</th>\n",
       "    </tr>\n",
       "    <tr>\n",
       "      <th>user_id</th>\n",
       "      <th>part</th>\n",
       "      <th></th>\n",
       "      <th></th>\n",
       "    </tr>\n",
       "  </thead>\n",
       "  <tbody>\n",
       "    <tr>\n",
       "      <th rowspan=\"5\" valign=\"top\">115</th>\n",
       "      <th>1.0</th>\n",
       "      <td>0.702703</td>\n",
       "      <td>37</td>\n",
       "    </tr>\n",
       "    <tr>\n",
       "      <th>2.0</th>\n",
       "      <td>1.000000</td>\n",
       "      <td>1</td>\n",
       "    </tr>\n",
       "    <tr>\n",
       "      <th>3.0</th>\n",
       "      <td>0.666667</td>\n",
       "      <td>3</td>\n",
       "    </tr>\n",
       "    <tr>\n",
       "      <th>4.0</th>\n",
       "      <td>0.333333</td>\n",
       "      <td>3</td>\n",
       "    </tr>\n",
       "    <tr>\n",
       "      <th>5.0</th>\n",
       "      <td>1.000000</td>\n",
       "      <td>2</td>\n",
       "    </tr>\n",
       "  </tbody>\n",
       "</table>\n",
       "</div>"
      ],
      "text/plain": [
       "                  mean  count\n",
       "user_id part                 \n",
       "115     1.0   0.702703     37\n",
       "        2.0   1.000000      1\n",
       "        3.0   0.666667      3\n",
       "        4.0   0.333333      3\n",
       "        5.0   1.000000      2"
      ]
     },
     "execution_count": 52,
     "metadata": {},
     "output_type": "execute_result"
    }
   ],
   "source": [
    "part_user_agg = train_df.groupby(['user_id', 'part'])['answered_correctly'].agg(['mean', 'count'])\n",
    "part_user_agg.head(5)"
   ]
  },
  {
   "cell_type": "code",
   "execution_count": 53,
   "metadata": {
    "scrolled": true
   },
   "outputs": [
    {
     "data": {
      "text/plain": [
       "0"
      ]
     },
     "execution_count": 53,
     "metadata": {},
     "output_type": "execute_result"
    }
   ],
   "source": [
    "train_df['part_acc'] = train_df['part'].map(part_user_agg['mean'])\n",
    "train_df['part_count'] = train_df['part'].map(part_user_agg['count'])\n",
    "gc.collect()"
   ]
  },
  {
   "cell_type": "code",
   "execution_count": 16,
   "metadata": {},
   "outputs": [],
   "source": [
    "features_dict = {\n",
    "    #'user_id',\n",
    "    'viretual_time_stamp':'float16',#\n",
    "    'user_interaction_count':'int16',\n",
    "    'user_interaction_viretual_time_stamp_mean':'float32',\n",
    "    'lagtime':'float32',#\n",
    "    'lagtime2':'float32',\n",
    "    'lagtime3':'float32',\n",
    "    #'lagtime_mean':'int32',\n",
    "    'content_id':'int16',\n",
    "    'task_container_id':'int16',\n",
    "    'user_lecture_sum':'int16',#\n",
    "    'user_lecture_lv':'float16',##\n",
    "    'prior_question_elapsed_time':'float32',#\n",
    "    'delta_prior_question_elapsed_time':'int32',#\n",
    "    'user_correctness':'float16',#\n",
    "    'user_uncorrect_count':'int16',#\n",
    "    'user_correct_count':'int16',#\n",
    "    #'content_correctness':'float16',\n",
    "    'content_correctness_std':'float16',\n",
    "    'content_correct_count':'int32',\n",
    "    'content_uncorrect_count':'int32',#\n",
    "    'content_elapsed_time_mean':'float16',\n",
    "    'content_had_explanation_mean':'float16',\n",
    "    'content_explanation_false_mean':'float16',\n",
    "    'content_explanation_true_mean':'float16',\n",
    "    'task_container_correctness':'float16',\n",
    "    'task_container_std':'float16',\n",
    "    'task_container_cor_count':'int32',#\n",
    "    'task_container_uncor_count':'int32',#\n",
    "    'attempt_no':'int8',#\n",
    "    'part':'int8',\n",
    "    'part_correctness_mean':'float16',\n",
    "    'part_correctness_std':'float16',\n",
    "    'part_uncor_count':'int32',\n",
    "    'part_cor_count':'int32',\n",
    "    'tags0': 'int8',\n",
    "    'tags1': 'int8',\n",
    "    'tags2': 'int8',\n",
    "    'tags3': 'int8',\n",
    "    'tags4': 'int8',\n",
    "    'tags5': 'int8',\n",
    "    'tags6': 'int8',\n",
    "   # 'tags7': 'int8',\n",
    "#     'tags0_correctness_mean':'float16',\n",
    "#     'tags1_correctness_mean':'float16',\n",
    "#     'tags2_correctness_mean':'float16',\n",
    "#     'tags4_correctness_mean':'float16',\n",
    "#     'bundle_id':'int16',\n",
    "#     'bundle_correctness_mean':'float16',\n",
    "#     'bundle_uncor_count':'int32',\n",
    "#     'bundle_cor_count':'int32',\n",
    "    'part_bundle_id':'int32',\n",
    "    'content_sub_bundle':'int8',\n",
    "    'prior_question_had_explanation':'int8',\n",
    "    'explanation_mean':'float16', #\n",
    "    #'explanation_var',#\n",
    "    'explanation_false_count':'int16',#\n",
    "    'explanation_true_count':'int16',#\n",
    "    'community':'int8',\n",
    "#     'part_1',\n",
    "#     'part_2',\n",
    "#     'part_3',\n",
    "#     'part_4',\n",
    "#     'part_5',\n",
    "#     'part_6',\n",
    "#     'part_7',\n",
    "#     'type_of_concept',\n",
    "#     'type_of_intention',\n",
    "#     'type_of_solving_question',\n",
    "#     'type_of_starter'\n",
    "}\n",
    "categorical_columns= [\n",
    "    #'user_id',\n",
    "    'content_id',\n",
    "    'task_container_id',\n",
    "    'part',\n",
    "    'community',\n",
    "    'tags0',\n",
    "    'tags1',\n",
    "    'tags2',\n",
    "    'tags3',\n",
    "    'tags4',\n",
    "    'tags5',\n",
    "    'tags6',\n",
    "    #'tags7',\n",
    "    #'bundle_id',\n",
    "    'part_bundle_id',\n",
    "    'content_sub_bundle',\n",
    "    'prior_question_had_explanation', \n",
    "#     'part_1',\n",
    "#     'part_2',\n",
    "#     'part_3',\n",
    "#     'part_4',\n",
    "#     'part_5',\n",
    "#     'part_6',\n",
    "#     'part_7',\n",
    "#     'type_of_concept',\n",
    "#     'type_of_intention',\n",
    "#     'type_of_solving_question',\n",
    "#     'type_of_starter'\n",
    "]\n",
    "\n",
    "features=list(features_dict.keys())"
   ]
  },
  {
   "cell_type": "code",
   "execution_count": 56,
   "metadata": {
    "scrolled": true
   },
   "outputs": [
    {
     "name": "stdout",
     "output_type": "stream",
     "text": [
      "sample end\n"
     ]
    },
    {
     "name": "stderr",
     "output_type": "stream",
     "text": [
      "C:\\Users\\gerard\\anaconda3\\envs\\riid\\lib\\site-packages\\pandas\\core\\frame.py:4174: SettingWithCopyWarning: \n",
      "A value is trying to be set on a copy of a slice from a DataFrame\n",
      "\n",
      "See the caveats in the documentation: https://pandas.pydata.org/pandas-docs/stable/user_guide/indexing.html#returning-a-view-versus-a-copy\n",
      "  errors=errors,\n"
     ]
    },
    {
     "name": "stdout",
     "output_type": "stream",
     "text": [
      "valid_df length： 2047980\n",
      "sample end\n",
      "valid_df length： 2044362\n",
      "sample end\n",
      "valid_df length： 2047521\n",
      "sample end\n",
      "valid_df length： 2034838\n",
      "sample end\n",
      "valid_df length： 2052605\n",
      "sample end\n",
      "valid_df length： 2054878\n",
      "sample end\n",
      "valid_df length： 2043338\n"
     ]
    }
   ],
   "source": [
    "flag_lgbm=True\n",
    "clfs = list()\n",
    "params = {\n",
    "'num_leaves': 350,\n",
    "'max_bin':700,\n",
    "'min_child_weight': 0.03454472573214212,\n",
    "'feature_fraction': 0.58,\n",
    "'bagging_fraction': 0.58,\n",
    "#'min_data_in_leaf': 106,\n",
    "'objective': 'binary',\n",
    "'max_depth': -1,\n",
    "'learning_rate': 0.05,\n",
    "\"boosting_type\": \"gbdt\",\n",
    "\"bagging_seed\": 11,\n",
    "\"metric\": 'auc',\n",
    "\"verbosity\": -1,\n",
    "'reg_alpha': 0.3899927210061127,\n",
    "'reg_lambda': 0.6485237330340494,\n",
    "'random_state': 47\n",
    "}\n",
    "trains=list()\n",
    "valids=list()\n",
    "num=7\n",
    "for i in range(0,num):\n",
    "  \n",
    "    #train_df=train_df.reset_index(drop=True)\n",
    "    train_df_clf=train_df[1200*10000*i:1200*10000*(i+1)]\n",
    "    print('sample end')\n",
    "    #train_df.drop(train_df_clf.index, inplace=True)\n",
    "    #print('train_df drop end')\n",
    "    \n",
    "   \n",
    "    #del train_df\n",
    "    \n",
    "    users=train_df_clf['user_id'].drop_duplicates()#去重\n",
    "    \n",
    "    users=users.sample(frac=0.025)\n",
    "    users_df=pd.DataFrame()\n",
    "    users_df['user_id']=users.values\n",
    "  \n",
    "  \n",
    "    valid_df_newuser = pd.merge(train_df_clf, users_df, on=['user_id'], how='inner',right_index=True)\n",
    "    del users_df\n",
    "    del users\n",
    "    gc.collect()\n",
    "    #\n",
    "    train_df_clf.drop(valid_df_newuser.index, inplace=True)\n",
    "   \n",
    "    #-----------\n",
    "    #train_df_clf=train_df_clf.sample(frac=0.2)\n",
    "    #train_df_clf.drop(valid_df_newuser.index, inplace=True)\n",
    "    #train_df_clf = pd.merge(train_df_clf, questions_df, on='content_id', how='left',right_index=True)#\n",
    "    #valid_df_newuser = pd.merge(valid_df_newuser, questions_df, on='content_id', how='left',right_index=True)#\n",
    "    \n",
    "#     train_df_clf = pd.merge(train_df_clf, user_lecture_stats_part, on='user_id', how=\"left\",right_index=True)\n",
    "#     valid_df_newuser = pd.merge(valid_df_newuser, user_lecture_stats_part, on='user_id', how=\"left\",right_index=True)\n",
    "\n",
    "    valid_df=train_df_clf.sample(frac=0.15)\n",
    "    train_df_clf.drop(valid_df.index, inplace=True)\n",
    "   \n",
    "    valid_df = valid_df.append(valid_df_newuser)\n",
    "    del valid_df_newuser\n",
    "    gc.collect()\n",
    "    #\n",
    "\n",
    "    trains.append(train_df_clf)\n",
    "    valids.append(valid_df)\n",
    "    print('valid_df length：',len(valid_df))"
   ]
  },
  {
   "cell_type": "code",
   "execution_count": 57,
   "metadata": {
    "scrolled": true
   },
   "outputs": [
    {
     "name": "stderr",
     "output_type": "stream",
     "text": [
      "C:\\Users\\gerard\\anaconda3\\envs\\riid\\lib\\site-packages\\lightgbm\\basic.py:1555: UserWarning: categorical_feature in Dataset is overridden.\n",
      "New categorical_feature is ['community', 'content_id', 'content_sub_bundle', 'part', 'part_bundle_id', 'prior_question_had_explanation', 'tags0', 'tags1', 'tags2', 'tags3', 'tags4', 'tags5', 'tags6', 'task_container_id']\n",
      "  'New categorical_feature is {}'.format(sorted(list(categorical_feature))))\n",
      "C:\\Users\\gerard\\anaconda3\\envs\\riid\\lib\\site-packages\\lightgbm\\basic.py:1286: UserWarning: Overriding the parameters from Reference Dataset.\n",
      "  warnings.warn('Overriding the parameters from Reference Dataset.')\n",
      "C:\\Users\\gerard\\anaconda3\\envs\\riid\\lib\\site-packages\\lightgbm\\basic.py:1098: UserWarning: categorical_column in param dict is overridden.\n",
      "  warnings.warn('{} in param dict is overridden.'.format(cat_alias))\n"
     ]
    },
    {
     "name": "stdout",
     "output_type": "stream",
     "text": [
      "Training until validation scores don't improve for 50 rounds\n",
      "[50]\ttraining's auc: 0.788581\tvalid_1's auc: 0.780033\n",
      "[100]\ttraining's auc: 0.801999\tvalid_1's auc: 0.784759\n",
      "[150]\ttraining's auc: 0.811053\tvalid_1's auc: 0.786174\n",
      "[200]\ttraining's auc: 0.818034\tvalid_1's auc: 0.78654\n",
      "[250]\ttraining's auc: 0.823358\tvalid_1's auc: 0.786634\n",
      "Early stopping, best iteration is:\n",
      "[226]\ttraining's auc: 0.820871\tvalid_1's auc: 0.786698\n"
     ]
    },
    {
     "data": {
      "image/png": "[encoded data removed]",
      "text/plain": [
       "<Figure size 432x288 with 1 Axes>"
      ]
     },
     "metadata": {
      "needs_background": "light"
     },
     "output_type": "display_data"
    },
    {
     "name": "stdout",
     "output_type": "stream",
     "text": [
      "Training until validation scores don't improve for 50 rounds\n",
      "[50]\ttraining's auc: 0.789682\tvalid_1's auc: 0.780811\n",
      "[100]\ttraining's auc: 0.802936\tvalid_1's auc: 0.78532\n",
      "[150]\ttraining's auc: 0.811838\tvalid_1's auc: 0.786737\n",
      "[200]\ttraining's auc: 0.818788\tvalid_1's auc: 0.787148\n",
      "[250]\ttraining's auc: 0.823951\tvalid_1's auc: 0.787258\n",
      "Early stopping, best iteration is:\n",
      "[242]\ttraining's auc: 0.823214\tvalid_1's auc: 0.787291\n"
     ]
    },
    {
     "data": {
      "image/png": "[encoded data removed]",
      "text/plain": [
       "<Figure size 432x288 with 1 Axes>"
      ]
     },
     "metadata": {
      "needs_background": "light"
     },
     "output_type": "display_data"
    }
   ],
   "source": [
    "#del train_df\n",
    "#fillna\n",
    "import lightgbm as lgb\n",
    "import pickle\n",
    "for i in range(5,num):\n",
    "\n",
    "#     \n",
    "    tr_data = lgb.Dataset(trains[i][features], label=trains[i][target])\n",
    "    va_data = lgb.Dataset(valids[i][features], label=valids[i][target])\n",
    "    \n",
    "#     del train_df_clf\n",
    "#     del valid_df\n",
    "#     gc.collect()\n",
    "    #del trains\n",
    "    #del valids\n",
    "    #gc.collect()\n",
    "\n",
    "    model = lgb.train(\n",
    "        params, \n",
    "        tr_data,\n",
    "#         train_df[features],\n",
    "#         train_df[target],\n",
    "        num_boost_round=5000,\n",
    "        #valid_sets=[(train_df[features],train_df[target]), (valid_df[features],valid_df[target])], \n",
    "        valid_sets=[tr_data, va_data],\n",
    "        early_stopping_rounds=50,\n",
    "        feature_name=features,\n",
    "        categorical_feature=categorical_columns,\n",
    "        verbose_eval=50\n",
    "    )\n",
    "    f = open(f\"lgb_model{i}.pkl\", 'wb')\n",
    "    pickle.dump(model, f)\n",
    "    f.close()\n",
    "    clfs.append(model)\n",
    "    #print('auc:', roc_auc_score(valid_df[target], model.predict(valid_df[features])))\n",
    "    #model.save_model(f'model.txt')\n",
    "    lgb.plot_importance(model, importance_type='gain')\n",
    "    plt.show()\n",
    "    #del lgb\n",
    "    #del tr_data\n",
    "    #del va_data\n",
    "    gc.collect()"
   ]
  },
  {
   "cell_type": "code",
   "execution_count": 169,
   "metadata": {},
   "outputs": [],
   "source": [
    "from collections import defaultdict\n",
    "import lightgbm as lgb\n",
    "import pickle"
   ]
  },
  {
   "cell_type": "code",
   "execution_count": 170,
   "metadata": {},
   "outputs": [],
   "source": [
    "def get_max_attempt(user_id, content_id):\n",
    "    k = (user_id, content_id)\n",
    "    \n",
    "    if k in attempt_no_sum_dict.keys():\n",
    "        attempt_no_sum_dict[k]+=1\n",
    "        return attempt_no_sum_dict[k]\n",
    "    \n",
    "    attempt_no_sum_dict[k] = 1\n",
    "    return attempt_no_sum_dict[k]"
   ]
  },
  {
   "cell_type": "code",
   "execution_count": 171,
   "metadata": {},
   "outputs": [
    {
     "data": {
      "text/plain": [
       "25423.810042960275"
      ]
     },
     "execution_count": 171,
     "metadata": {},
     "output_type": "execute_result"
    }
   ],
   "source": [
    "## 상수 지정\n",
    "prior_question_elapsed_time_mean = 25423.810042960275\n",
    "lagtime_mean = 20061832.085456338\n",
    "lagtime_mean2 = 39610585.65514838\n",
    "lagtime_mean3 = 58879590.7244385\n",
    "delta_prior_question_elapsed_time_mean = -4.699396307358232\n",
    "prior_question_elapsed_time_mean = 25423.810042960275\n",
    "timestamp_max = 43712886024\n",
    "prior_question_elapsed_time_mean "
   ]
  },
  {
   "cell_type": "code",
   "execution_count": 172,
   "metadata": {
    "scrolled": true
   },
   "outputs": [
    {
     "data": {
      "text/plain": [
       "169"
      ]
     },
     "execution_count": 172,
     "metadata": {},
     "output_type": "execute_result"
    }
   ],
   "source": [
    "gc.collect()"
   ]
  },
  {
   "cell_type": "code",
   "execution_count": 173,
   "metadata": {
    "scrolled": false
   },
   "outputs": [
    {
     "data": {
      "text/plain": [
       "0"
      ]
     },
     "execution_count": 173,
     "metadata": {},
     "output_type": "execute_result"
    }
   ],
   "source": [
    "# PKL LOAD\n",
    "### PKL SAVE\n",
    "with open(\"max_viretual_stamp_u.pkl\", 'rb') as f:\n",
    "    max_viretual_stamp_u = pickle.load(f)\n",
    "with open(\"max_viretual_stamp_u2.pkl\", 'rb') as f:\n",
    "    max_viretual_stamp_u2 = pickle.load(f)\n",
    "with open(\"max_viretual_stamp_u3.pkl\", 'rb') as f:\n",
    "    max_viretual_stamp_u3 = pickle.load(f)\n",
    "with open(\"user_prior_question_elapsed_time.pkl\", 'rb') as f:\n",
    "    #user_prior_question_elapsed_time_dict = defaultdict(float, user_prior_question_elapsed_time_dict)\n",
    "    user_prior_question_elapsed_time = pickle.load(f)\n",
    "\n",
    "with open(\"user_prior_question_elapsed_time_dict\", \"rb\") as f:\n",
    "    user_prior_question_elapsed_time_dict = pickle.load(f)\n",
    "    \n",
    "#user_sum_dict = user_agg['sum'].astype('int16').to_dict(defaultdict(int))\n",
    "with open(\"user_sum_dict.pkl\", 'rb') as f:\n",
    "    user_sum_dict = pickle.load(f)\n",
    "\n",
    "#user_count_dict = user_agg['count'].astype('int16').to_dict(defaultdict(int))\n",
    "with open(\"user_count_dict.pkl\", 'rb') as f:\n",
    "    user_count_dict = pickle.load(f)\n",
    "    \n",
    "\n",
    "#task_container_sum_dict = task_container_agg['sum'].astype('int16').to_dict(defaultdict(int))\n",
    "with open(\"task_container_sum_dict.pkl\", 'rb') as f:\n",
    "    task_container_sum_dict = pickle.load(f)\n",
    "\n",
    "#task_container_count_dict = task_container_agg['count'].astype('int32').to_dict(defaultdict(int))\n",
    "with open(\"task_container_count_dict.pkl\", 'rb') as f:\n",
    "    task_container_count_dict = pickle.load(f)\n",
    "    \n",
    "#task_container_std_dict = task_container_agg['var'].astype('float16').to_dict(defaultdict(float))\n",
    "with open(\"task_container_std_dict.pkl\", 'rb') as f:\n",
    "    task_container_std_dict = pickle.load(f)\n",
    "\n",
    "#explanation_sum_dict = explanation_agg['sum'].astype('int16').to_dict(defaultdict(int))\n",
    "with open(\"explanation_sum_dict.pkl\", 'rb') as f:\n",
    "    explanation_sum_dict = pickle.load(f)\n",
    "\n",
    "#explanation_count_dict = explanation_agg['count'].astype('int16').to_dict(defaultdict(int))\n",
    "with open(\"explanation_count_dict.pkl\", 'rb') as f:\n",
    "    explanation_count_dict = pickle.load(f)\n",
    "    \n",
    "#user_lecture_sum_dict = user_lecture_agg['sum'].astype('int16').to_dict(defaultdict(int))\n",
    "with open(\"user_lecture_sum_dict.pkl\", 'rb') as f:\n",
    "    user_lecture_sum_dict = pickle.load(f)\n",
    "    \n",
    "#user_lecture_count_dict = user_lecture_agg['count'].astype('int16').to_dict(defaultdict(int))\n",
    "with open(\"user_lecture_count_dict.pkl\", 'rb') as f:\n",
    "    user_lecture_count_dict = pickle.load(f)\n",
    "    \n",
    "#part_user_mean_dict = part_user_agg['mean'].astype('float16').to_dict(defaultdict(float))\n",
    "with open(\"part_user_mean_dict.pkl\", 'rb') as f:\n",
    "    part_user_mean_dict = pickle.load(f)\n",
    "    \n",
    "#part_user_count_dict = part_user_agg['count'].astype('int32').to_dict(defaultdict(int))\n",
    "with open(\"part_user_count_dict.pkl\", 'rb') as f:\n",
    "    part_user_count_dict = pickle.load(f)\n",
    "#train_df['part_acc'] = train_df['part'].map(part_user_agg['mean'])\n",
    "#train_df['part_count'] = train_df['part'].map(part_user_agg['count'])\n",
    "#part_cor_dict = train_df.groupby('part')[target].agg(['mean']).to_dict()\n",
    "\n",
    "\n",
    "#max_timestamp_u_dict = max_timestamp_u.set_index('user_id').to_dict()\n",
    "with open(\"max_timestamp_u_dict.pkl\", 'rb') as f:\n",
    "    max_timestamp_u_dict = pickle.load(f)\n",
    "    \n",
    "#max_timestamp_u_dict2 = max_timestamp_u2.set_index('user_id').to_dict()\n",
    "with open(\"max_timestamp_u_dict2.pkl\", 'rb') as f:\n",
    "    max_timestamp_u_dict2 = pickle.load(f)\n",
    "    \n",
    "#max_timestamp_u_dict3 = max_timestamp_u3.set_index('user_id').to_dict()\n",
    "with open(\"max_timestamp_u_dict3.pkl\", 'rb') as f:\n",
    "    max_timestamp_u_dict3 = pickle.load(f)\n",
    "    \n",
    "#max_viretual_stamp_u_dict = max_viretual_stamp_u.set_index('user_id').to_dict()\n",
    "with open(\"max_viretual_stamp_u_dict.pkl\", 'rb') as f:\n",
    "    max_viretual_stamp_u_dict =  pickle.load(f)\n",
    "    \n",
    "#max_viretual_stamp_u_dict2 = max_viretual_stamp_u2.set_index('user_id').to_dict()\n",
    "with open(\"max_viretual_stamp_u_dict2.pkl\", 'rb') as f:\n",
    "    max_viretual_stamp_u_dict2 = pickle.load(f)\n",
    "    \n",
    "#max_viretual_stamp_u_dict3 = max_viretual_stamp_u3.set_index('user_id').to_dict()\n",
    "with open(\"max_viretual_stamp_u_dict3.pkl\", 'rb') as f:\n",
    "    max_viretual_stamp_u_dict3 = pickle.load(f)\n",
    "    \n",
    "#attempt_no_sum_dict = attempt_no_agg['sum'].to_dict(defaultdict(int))\n",
    "with open(\"attempt_no_sum_dict.pkl\", 'rb') as f:\n",
    "    attempt_no_sum_dict = pickle.load(f)\n",
    "    \n",
    "#time_diff_dict = defaultdict(int)\n",
    "#for j,k in zip(max_timestamp_u_dict['max_time_stamp'].keys(), max_viretual_stamp_u_dict['max_viretual_time_stamp'].keys()):\n",
    "#    time_diff_dict[j] = max_viretual_stamp_u_dict['max_viretual_time_stamp'][k] - max_timestamp_u_dict['max_time_stamp'][j]\n",
    "with open(\"time_diff_dict.pkl\", 'rb') as f:\n",
    "    time_diff_dict = pickle.load(f)\n",
    "    \n",
    "\n",
    "\n",
    "gc.collect()\n",
    "#del user_agg"
   ]
  },
  {
   "cell_type": "code",
   "execution_count": 110,
   "metadata": {
    "scrolled": true
   },
   "outputs": [
    {
     "data": {
      "text/plain": [
       "0"
      ]
     },
     "execution_count": 110,
     "metadata": {},
     "output_type": "execute_result"
    }
   ],
   "source": [
    "\n",
    "### PKL SAVE\n",
    "with open(\"user_prior_question_elapsed_time_dict\", \"wb\") as f:\n",
    "    user_prior_question_elapsed_time_dict = defaultdict(float, user_prior_question_elapsed_time_dict)\n",
    "    pickle.dump(user_prior_question_elapsed_time_dict, f)\n",
    "    \n",
    "with open(\"user_prior_question_elapsed_time.pkl\", 'wb') as f:\n",
    "    pickle.dump(user_prior_question_elapsed_time, f)\n",
    "#explanation_count_dict = explanation_agg['count'].astype('int16').to_dict(defaultdict(int))\n",
    "with open(\"max_viretual_stamp_u.pkl\", 'wb') as f:\n",
    "    pickle.dump(max_viretual_stamp_u, f)\n",
    "with open(\"max_viretual_stamp_u2.pkl\", 'wb') as f:\n",
    "    pickle.dump(max_viretual_stamp_u2, f)\n",
    "with open(\"max_viretual_stamp_u3.pkl\", 'wb') as f:\n",
    "    pickle.dump(max_viretual_stamp_u3, f)\n",
    "\n",
    "\n",
    "user_sum_dict = user_agg['sum'].astype('int16').to_dict(defaultdict(int))\n",
    "with open(\"user_sum_dict.pkl\", 'wb') as f:\n",
    "    pickle.dump(user_sum_dict,f)\n",
    "\n",
    "user_count_dict = user_agg['count'].astype('int16').to_dict(defaultdict(int))\n",
    "with open(\"user_count_dict.pkl\", 'wb') as f:\n",
    "    pickle.dump(user_count_dict, f)\n",
    "    \n",
    "\n",
    "task_container_sum_dict = task_container_agg['sum'].astype('int16').to_dict(defaultdict(int))\n",
    "with open(\"task_container_sum_dict.pkl\", 'wb') as f:\n",
    "    pickle.dump(task_container_sum_dict, f)\n",
    "\n",
    "task_container_count_dict = task_container_agg['count'].astype('int32').to_dict(defaultdict(int))\n",
    "with open(\"task_container_count_dict.pkl\", 'wb') as f:\n",
    "    pickle.dump(task_container_count_dict, f)\n",
    "    \n",
    "task_container_std_dict = task_container_agg['var'].astype('float16').to_dict(defaultdict(float))\n",
    "with open(\"task_container_std_dict.pkl\", 'wb') as f:\n",
    "    pickle.dump(task_container_std_dict, f)\n",
    "\n",
    "explanation_sum_dict = explanation_agg['sum'].astype('int16').to_dict(defaultdict(int))\n",
    "with open(\"explanation_sum_dict.pkl\", 'wb') as f:\n",
    "    pickle.dump(explanation_sum_dict, f)\n",
    "\n",
    "explanation_count_dict = explanation_agg['count'].astype('int16').to_dict(defaultdict(int))\n",
    "with open(\"explanation_count_dict.pkl\", 'wb') as f:\n",
    "    pickle.dump(explanation_count_dict, f)\n",
    "    \n",
    "user_lecture_sum_dict = user_lecture_agg['sum'].astype('int16').to_dict(defaultdict(int))\n",
    "with open(\"user_lecture_sum_dict.pkl\", 'wb') as f:\n",
    "    pickle.dump(user_lecture_sum_dict, f)\n",
    "    \n",
    "user_lecture_count_dict = user_lecture_agg['count'].astype('int16').to_dict(defaultdict(int))\n",
    "with open(\"user_lecture_count_dict.pkl\", 'wb') as f:\n",
    "    pickle.dump(user_lecture_count_dict, f)\n",
    "    \n",
    "part_user_mean_dict = part_user_agg['mean'].astype('float16').to_dict(defaultdict(float))\n",
    "with open(\"part_user_mean_dict.pkl\", 'wb') as f:\n",
    "    pickle.dump(part_user_mean_dict, f)\n",
    "    \n",
    "part_user_count_dict = part_user_agg['count'].astype('int32').to_dict(defaultdict(int))\n",
    "with open(\"part_user_count_dict.pkl\", 'wb') as f:\n",
    "    pickle.dump(part_user_count_dict, f)\n",
    "#train_df['part_acc'] = train_df['part'].map(part_user_agg['mean'])\n",
    "#train_df['part_count'] = train_df['part'].map(part_user_agg['count'])\n",
    "#part_cor_dict = train_df.groupby('part')[target].agg(['mean']).to_dict()\n",
    "\n",
    "\n",
    "max_timestamp_u_dict = max_timestamp_u.set_index('user_id').to_dict()\n",
    "max_timestamp_u_dict = defaultdict(int, max_timestamp_u_dict)\n",
    "with open(\"max_timestamp_u_dict.pkl\", 'wb') as f:\n",
    "    pickle.dump(max_timestamp_u_dict, f)\n",
    "    \n",
    "max_timestamp_u_dict2 = max_timestamp_u2.set_index('user_id').to_dict()\n",
    "max_timestamp_u_dict2 = defaultdict(int, max_timestamp_u_dict2)\n",
    "with open(\"max_timestamp_u_dict2.pkl\", 'wb') as f:\n",
    "    pickle.dump(max_timestamp_u_dict2, f)\n",
    "    \n",
    "max_timestamp_u_dict3 = max_timestamp_u3.set_index('user_id').to_dict()\n",
    "max_timestamp_u_dict3 = defaultdict(int, max_timestamp_u_dict3)\n",
    "with open(\"max_timestamp_u_dict3.pkl\", 'wb') as f:\n",
    "    pickle.dump(max_timestamp_u_dict3, f)\n",
    "    \n",
    "max_viretual_stamp_u_dict = max_viretual_stamp_u.set_index('user_id').to_dict()\n",
    "max_viretual_stamp_u_dict = defaultdict(int, max_viretual_stamp_u_dict)\n",
    "with open(\"max_viretual_stamp_u_dict.pkl\", 'wb') as f:\n",
    "    pickle.dump(max_viretual_stamp_u_dict, f)\n",
    "    \n",
    "max_viretual_stamp_u_dict2 = max_viretual_stamp_u2.set_index('user_id').to_dict()\n",
    "max_viretual_stamp_u_dict2 = defaultdict(int, max_viretual_stamp_u_dict2)\n",
    "with open(\"max_viretual_stamp_u_dict2.pkl\", 'wb') as f:\n",
    "    pickle.dump(max_viretual_stamp_u_dict2, f)\n",
    "    \n",
    "max_viretual_stamp_u_dict3 = max_viretual_stamp_u3.set_index('user_id').to_dict()\n",
    "max_viretual_stamp_u_dict3 = defaultdict(int, max_viretual_stamp_u_dict3)\n",
    "with open(\"max_viretual_stamp_u_dict3.pkl\", 'wb') as f:\n",
    "    pickle.dump(max_viretual_stamp_u_dict3, f)\n",
    "    \n",
    "attempt_no_sum_dict = attempt_no_agg['sum'].to_dict(defaultdict(int))\n",
    "with open(\"attempt_no_sum_dict.pkl\", 'wb') as f:\n",
    "    pickle.dump(attempt_no_sum_dict, f)\n",
    "    \n",
    "time_diff_dict = defaultdict(int)\n",
    "for j,k in zip(max_timestamp_u_dict['max_time_stamp'].keys(), max_viretual_stamp_u_dict['max_viretual_time_stamp'].keys()):\n",
    "    time_diff_dict[j] = max_viretual_stamp_u_dict['max_viretual_time_stamp'][k] - max_timestamp_u_dict['max_time_stamp'][j]\n",
    "with open(\"time_diff_dict.pkl\", 'wb') as f:\n",
    "    pickle.dump(time_diff_dict, f)\n",
    "    \n",
    "\n",
    "\n",
    "gc.collect()\n",
    "#del user_agg"
   ]
  },
  {
   "cell_type": "code",
   "execution_count": 174,
   "metadata": {},
   "outputs": [],
   "source": [
    "test_df = pd.read_csv(\"example_test.csv\")\n",
    "sample_prediction_df = pd.read_csv(\"example_sample_submission.csv\")"
   ]
  },
  {
   "cell_type": "code",
   "execution_count": 175,
   "metadata": {},
   "outputs": [],
   "source": [
    "questions_df = pd.read_csv(\"questions_df_local.csv\")"
   ]
  },
  {
   "cell_type": "code",
   "execution_count": 176,
   "metadata": {},
   "outputs": [],
   "source": [
    "num=7\n",
    "model_collection = []\n",
    "for i in range(num):\n",
    "    with open(f'lgb_model{i}.pkl', 'rb') as f:\n",
    "        model = pickle.load(f)\n",
    "        model_collection.append(model)"
   ]
  },
  {
   "cell_type": "code",
   "execution_count": 177,
   "metadata": {
    "scrolled": true
   },
   "outputs": [
    {
     "name": "stderr",
     "output_type": "stream",
     "text": [
      "C:\\Users\\gerard\\anaconda3\\envs\\riid\\lib\\site-packages\\ipykernel_launcher.py:117: RuntimeWarning: invalid value encountered in true_divide\n"
     ]
    }
   ],
   "source": [
    "#for (test_df, sample_prediction_df) in zip([test_df], [sample_prediction_df]):\n",
    "#for z, test_df in enumerate([valids[0]]):\n",
    "for z, test_df in enumerate([test_df]):\n",
    "\n",
    "    #test_df = test_df\n",
    "    prior_test_df = test_df.copy()\n",
    "    question_len = len(test_df[test_df['content_type_id'] == 0])\n",
    "    test_df['prior_question_had_explanation'].fillna(False, inplace=True)\n",
    "    test_df.prior_question_had_explanation = test_df.prior_question_had_explanation.astype('int8')\n",
    "    test_df['prior_question_elapsed_time'].fillna(prior_question_elapsed_time_mean, inplace=True)\n",
    "    \n",
    "    user_lecture_sum = np.zeros(question_len, dtype=np.int16)\n",
    "    user_lecture_count = np.zeros(question_len, dtype=np.int16)\n",
    "    user_sum = np.zeros(question_len, dtype=np.int16)\n",
    "    user_count = np.zeros(question_len, dtype=np.int16)\n",
    "    \n",
    "    task_container_sum = np.zeros(question_len, dtype=np.int32)\n",
    "    task_container_count = np.zeros(question_len, dtype=np.int32)\n",
    "    task_container_std = np.zeros(question_len, dtype = np.float16)\n",
    "    \n",
    "    explanation_sum = np.zeros(question_len, dtype=np.int32)\n",
    "    explanation_count = np.zeros(question_len, dtype=np.int32)\n",
    "    delta_prior_question_elapsed_time = np.zeros(question_len, dtype=np.int32)\n",
    "    \n",
    "    attempt_no_count = np.zeros(question_len, dtype=np.int16)\n",
    "    lagtime = np.zeros(question_len, dtype=np.float32)\n",
    "    lagtime2 = np.zeros(question_len, dtype=np.float32)\n",
    "    lagtime3 = np.zeros(question_len ,dtype=np.float32)\n",
    "    \n",
    "######## addition\n",
    "    user_time_diff = np.zeros(question_len, dtype=np.int64)\n",
    "\n",
    "    \n",
    "    i = 0\n",
    "    for j, (user_id, prior_question_had_explanation, content_type_id, prior_question_elapsed_time,\n",
    "            timestamp, content_id, task_container_id) in enumerate(zip(test_df['user_id'].values,\n",
    "            test_df['prior_question_had_explanation'].values, test_df['content_type_id'].values,\n",
    "            test_df['prior_question_elapsed_time'].values, test_df['timestamp'].values, test_df['content_id'].values,\n",
    "            test_df['task_container_id'].values)):\n",
    "\n",
    "        user_lecture_sum_dict[user_id] += content_type_id\n",
    "        user_lecture_count_dict[user_id] += 1\n",
    "        \n",
    "        if (content_type_id==0):\n",
    "            user_lecture_sum[i] = user_lecture_sum_dict[user_id]\n",
    "            user_lecture_count[i] = user_lecture_count_dict[user_id]\n",
    "            \n",
    "            user_sum[i] = user_sum_dict[user_id]\n",
    "            user_count[i] = user_count_dict[user_id]\n",
    "            \n",
    "            task_container_sum[i] = task_container_sum_dict[task_container_id]\n",
    "            task_container_count[i] = task_container_count_dict[task_container_id]\n",
    "            task_container_std[i] = task_container_std_dict[task_container_id]\n",
    "            \n",
    "            explanation_sum_dict[user_id] += prior_question_had_explanation\n",
    "            explanation_count_dict[user_id] += 1\n",
    "            explanation_sum[i] = explanation_sum_dict[user_id]\n",
    "            explanation_count[i] = explanation_count_dict[user_id]\n",
    "            \n",
    "            ## 유심히 볼 필요 있음\n",
    "            if user_id in time_diff_dict.keys():\n",
    "                user_time_diff[i] = time_diff_dict[user_id]\n",
    "            else:\n",
    "                time_diff_dict.update({user_id:43712886024*2})\n",
    "                user_time_diff[i] = 43712886024*2\n",
    "            \n",
    "            if user_id in max_viretual_stamp_u_dict['max_viretual_time_stamp'].keys():\n",
    "                if timestamp > max_viretual_stamp_u_dict['max_viretual_time_stamp'][user_id]:\n",
    "                    print('success')\n",
    "                lagtime[i] = timestamp + time_diff_dict[user_id] - max_viretual_stamp_u_dict['max_viretual_time_stamp'][user_id]\n",
    "                if (max_viretual_stamp_u_dict2['max_viretual_time_stamp2'][user_id] == lagtime_mean2):\n",
    "                    lagtime2[i] = lagtime_mean2\n",
    "                    lagtime3[i] = lagtime_mean3\n",
    "                \n",
    "                else:\n",
    "                    lagtime2[i] = timestamp + time_diff_dict[user_id] - max_viretual_stamp_u_dict2['max_viretual_time_stamp2'][user_id]\n",
    "                    if (max_viretual_stamp_u_dict3['max_viretual_time_stamp3'][user_id] == lagtime_mean3):\n",
    "                        lagtime3[i] = lagtime_mean3\n",
    "                    else:\n",
    "                        lagtime3[i] = timestamp + time_diff_dict[user_id] - max_viretual_stamp_u_dict3['max_viretual_time_stamp3'][user_id]\n",
    "                    \n",
    "                    max_viretual_stamp_u_dict3['max_viretual_time_stamp3'][user_id] = max_viretual_stamp_u_dict2['max_viretual_time_stamp2'][user_id]\n",
    "                max_viretual_stamp_u_dict2['max_viretual_time_stamp2'][user_id] = max_viretual_stamp_u_dict['max_viretual_time_stamp'][user_id]\n",
    "                max_viretual_stamp_u_dict['max_viretual_time_stamp'][user_id] = timestamp + time_diff_dict[user_id]\n",
    "                \n",
    "            else:\n",
    "                lagtime[i] = lagtime_mean ## 유심히 볼 필요 있음\n",
    "                max_viretual_stamp_u_dict['max_viretual_time_stamp'].update({user_id:lagtime_mean})\n",
    "                lagtime2[i] = lagtime_mean2\n",
    "                max_viretual_stamp_u_dict2['max_viretual_time_stamp2'].update({user_id:lagtime_mean2})\n",
    "                lagtime3[i] = lagtime_mean3\n",
    "                max_viretual_stamp_u_dict3['max_viretual_time_stamp3'].update({user_id:lagtime_mean3})\n",
    "            \n",
    "            if user_id in user_prior_question_elapsed_time_dict['prior_question_elapsed_time'].keys():\n",
    "                delta_prior_question_elapsed_time[i] = prior_question_elapsed_time - user_prior_question_elapsed_time_dict['prior_question_elapsed_time'][user_id]\n",
    "                user_prior_question_elapsed_time_dict['prior_question_elapsed_time'][user_id] = prior_question_elapsed_time\n",
    "            else:\n",
    "                delta_prior_question_elapsed_time[i] = delta_prior_question_elapsed_time_mean\n",
    "                user_prior_question_elapsed_time_dict['prior_question_elapsed_time'].update({user_id:prior_question_elapsed_time})\n",
    "            \n",
    "\n",
    "                \n",
    "\n",
    "            i = i+1\n",
    "            \n",
    "    test_df = test_df[test_df['content_type_id'] == 0].reset_index(drop=True)\n",
    "    test_df = test_df.merge(questions_df.loc[questions_df.index.isin(test_df['content_id'])], how='left',\n",
    "                            on='content_id', right_index=True)\n",
    "    test_df['user_lecture_lv'] = user_lecture_sum / user_lecture_count\n",
    "    test_df['user_lecture_sum'] = user_lecture_sum\n",
    "    \n",
    "    test_df['user_interaction_count'] = user_lecture_count\n",
    "    test_df['user_interaction_viretual_time_stamp_mean'] = (test_df['timestamp'] + user_time_diff) / user_lecture_count\n",
    "    test_df.user_interaction_viretual_time_stamp_mean = test_df.user_interaction_viretual_time_stamp_mean.astype('float32')\n",
    "########\n",
    "    ## user_sum을 update 필요 있음\n",
    "    test_df['user_correctness'] = user_sum / user_count\n",
    "    test_df['user_uncorrect_count'] = user_count - user_sum\n",
    "    test_df['user_correct_count'] = user_sum\n",
    "    ##\n",
    "########\n",
    "    test_df['task_container_correctness'] = task_container_sum / task_container_count\n",
    "    test_df['task_container_cor_count'] = task_container_sum\n",
    "    test_df['task_container_uncor_count'] = task_container_count - task_container_sum\n",
    "    test_df['task_container_std'] = task_container_std\n",
    "    test_df['explanation_mean'] = explanation_sum / explanation_count\n",
    "    test_df['explanation_true_count'] = explanation_sum\n",
    "    test_df['explanation_false_count'] = explanation_count - explanation_sum\n",
    "    \n",
    "    test_df['delta_prior_question_elapsed_time'] = delta_prior_question_elapsed_time\n",
    "    test_df['attempt_no'] = test_df[['user_id', 'content_id']].apply(lambda row: get_max_attempt(row['user_id'], row['content_id']), axis=1)\n",
    "    test_df['lagtime'] = lagtime\n",
    "    test_df['lagtime2'] = lagtime2\n",
    "    test_df['lagtime3'] = lagtime3\n",
    "    \n",
    "    test_df['viretual_time_stamp'] = (test_df['timestamp'] + user_time_diff) / (1000*3600)\n",
    "    test_df.viretual_time_stamp = test_df.viretual_time_stamp.astype('float16')\n",
    "    test_df['lagtime'] = (test_df['lagtime']) / (1000*3600)\n",
    "    test_df.lagtime = test_df.lagtime.astype('float32')\n",
    "    test_df['lagtime2'] = (test_df['lagtime2']) / (1000*3600)\n",
    "    test_df.lagtime2 = test_df.lagtime2.astype('float32')\n",
    "    test_df['lagtime3'] = (test_df['lagtime3']) / (1000*3600)\n",
    "    test_df.lagtime3 = test_df.lagtime3.astype('float32')\n",
    "    \n",
    "    #test_df['user_correctness'].fillna(0.67, inplace=True)\n",
    "    sub_preds = np.zeros(test_df.shape[0])\n",
    "    #clfs = []\n",
    "    \n",
    "    for i in range(7):\n",
    "        #with open(f'lgb_model{i}.pkl', 'rb') as f:\n",
    "        model = model_collection[i]\n",
    "        test_preds = model.predict(test_df[features])\n",
    "        sub_preds += test_preds\n",
    "    test_df['test_auc'] = sub_preds/ 7\n"
   ]
  },
  {
   "cell_type": "code",
   "execution_count": 178,
   "metadata": {},
   "outputs": [
    {
     "data": {
      "text/plain": [
       "0      0.298825\n",
       "1      0.822331\n",
       "2      0.641881\n",
       "3      0.822618\n",
       "4      0.259515\n",
       "         ...   \n",
       "99     0.322613\n",
       "100    0.657702\n",
       "101    0.519142\n",
       "102    0.692261\n",
       "103    0.961111\n",
       "Name: test_auc, Length: 104, dtype: float64"
      ]
     },
     "execution_count": 178,
     "metadata": {},
     "output_type": "execute_result"
    }
   ],
   "source": [
    "test_df['test_auc']"
   ]
  }
 ],
 "metadata": {
  "kernelspec": {
   "display_name": "Python 3",
   "language": "python",
   "name": "python3"
  },
  "language_info": {
   "codemirror_mode": {
    "name": "ipython",
    "version": 3
   },
   "file_extension": ".py",
   "mimetype": "text/x-python",
   "name": "python",
   "nbconvert_exporter": "python",
   "pygments_lexer": "ipython3",
   "version": "3.7.9"
  }
 },
 "nbformat": 4,
 "nbformat_minor": 4
}
