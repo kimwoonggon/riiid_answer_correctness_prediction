{
  "nbformat": 4,
  "nbformat_minor": 0,
  "metadata": {
    "colab": {
      "name": "(riid)_EDA_+_BASELINE_VER1.ipynb",
      "provenance": [],
      "collapsed_sections": [],
      "machine_shape": "hm",
      "include_colab_link": true
    },
    "kernelspec": {
      "display_name": "Python 3",
      "name": "python3"
    }
  },
  "cells": [
    {
      "cell_type": "markdown",
      "metadata": {
        "id": "view-in-github",
        "colab_type": "text"
      },
      "source": [
        "<a href=\"https://colab.research.google.com/github/kimwoonggon/riiid_answer_correctness_prediction/blob/main/(riid)_EDA_%2B_BASELINE_VER1.ipynb\" target=\"_parent\"><img src=\"https://colab.research.google.com/assets/colab-badge.svg\" alt=\"Open In Colab\"/></a>"
      ]
    },
    {
      "cell_type": "code",
      "metadata": {
        "colab": {
          "base_uri": "https://localhost:8080/"
        },
        "id": "-Mu2TIQyzQga",
        "outputId": "d624d800-db39-4089-f809-961e5099da29"
      },
      "source": [
        "import os\n",
        "from google.colab import drive\n",
        "drive.mount('/content/gdrive/')"
      ],
      "execution_count": null,
      "outputs": [
        {
          "output_type": "stream",
          "text": [
            "Mounted at /content/gdrive/\n"
          ],
          "name": "stdout"
        }
      ]
    },
    {
      "cell_type": "code",
      "metadata": {
        "id": "Y2HE4kiIzzLe",
        "colab": {
          "base_uri": "https://localhost:8080/"
        },
        "outputId": "260144f2-dc2b-4437-f688-da5645a8c060"
      },
      "source": [
        "!cp -r gdrive/My\\ Drive/Colab\\ Notebooks/riid .\n",
        "!cp riid/kaggle.json .\n",
        "!pip install kaggle\n",
        "!mkdir -p ~/.kaggle\n",
        "!cp kaggle.json ~/.kaggle/\n",
        "# Permission Warning 이 일어나지 않도록 \n",
        "!chmod 600 ~/.kaggle/kaggle.json\n",
        "# 본인이 참가한 모든 대회 보기 \n",
        "!kaggle competitions list"
      ],
      "execution_count": null,
      "outputs": [
        {
          "output_type": "stream",
          "text": [
            "Requirement already satisfied: kaggle in /usr/local/lib/python3.6/dist-packages (1.5.10)\n",
            "Requirement already satisfied: requests in /usr/local/lib/python3.6/dist-packages (from kaggle) (2.23.0)\n",
            "Requirement already satisfied: certifi in /usr/local/lib/python3.6/dist-packages (from kaggle) (2020.12.5)\n",
            "Requirement already satisfied: python-dateutil in /usr/local/lib/python3.6/dist-packages (from kaggle) (2.8.1)\n",
            "Requirement already satisfied: urllib3 in /usr/local/lib/python3.6/dist-packages (from kaggle) (1.24.3)\n",
            "Requirement already satisfied: tqdm in /usr/local/lib/python3.6/dist-packages (from kaggle) (4.41.1)\n",
            "Requirement already satisfied: python-slugify in /usr/local/lib/python3.6/dist-packages (from kaggle) (4.0.1)\n",
            "Requirement already satisfied: six>=1.10 in /usr/local/lib/python3.6/dist-packages (from kaggle) (1.15.0)\n",
            "Requirement already satisfied: idna<3,>=2.5 in /usr/local/lib/python3.6/dist-packages (from requests->kaggle) (2.10)\n",
            "Requirement already satisfied: chardet<4,>=3.0.2 in /usr/local/lib/python3.6/dist-packages (from requests->kaggle) (3.0.4)\n",
            "Requirement already satisfied: text-unidecode>=1.3 in /usr/local/lib/python3.6/dist-packages (from python-slugify->kaggle) (1.3)\n",
            "Warning: Looks like you're using an outdated API Version, please consider updating (server 1.5.10 / client 1.5.4)\n",
            "ref                                            deadline             category            reward  teamCount  userHasEntered  \n",
            "---------------------------------------------  -------------------  ---------------  ---------  ---------  --------------  \n",
            "contradictory-my-dear-watson                   2030-07-01 23:59:00  Getting Started     Prizes        115           False  \n",
            "gan-getting-started                            2030-07-01 23:59:00  Getting Started     Prizes        219           False  \n",
            "tpu-getting-started                            2030-06-03 23:59:00  Getting Started  Knowledge        335           False  \n",
            "digit-recognizer                               2030-01-01 00:00:00  Getting Started  Knowledge       2860           False  \n",
            "titanic                                        2030-01-01 00:00:00  Getting Started  Knowledge      21993            True  \n",
            "house-prices-advanced-regression-techniques    2030-01-01 00:00:00  Getting Started  Knowledge       5718           False  \n",
            "connectx                                       2030-01-01 00:00:00  Getting Started  Knowledge        490           False  \n",
            "nlp-getting-started                            2030-01-01 00:00:00  Getting Started  Knowledge       1521           False  \n",
            "competitive-data-science-predict-future-sales  2022-12-31 23:59:00  Playground           Kudos       9841           False  \n",
            "ranzcr-clip-catheter-line-classification       2021-03-15 23:59:00  Featured           $50,000          4           False  \n",
            "jane-street-market-prediction                  2021-02-22 23:59:00  Featured          $100,000       1167           False  \n",
            "cassava-leaf-disease-classification            2021-02-18 23:59:00  Research           $18,000       1404            True  \n",
            "rfcx-species-audio-detection                   2021-02-17 23:59:00  Research           $15,000        462           False  \n",
            "acea-water-prediction                          2021-02-17 23:59:00  Analytics          $25,000          0           False  \n",
            "rock-paper-scissors                            2021-02-01 23:59:00  Playground          Prizes       1112           False  \n",
            "hubmap-kidney-segmentation                     2021-02-01 23:59:00  Research           $60,000        485           False  \n",
            "santa-2020                                     2021-02-01 23:59:00  Featured            Prizes        354           False  \n",
            "riiid-test-answer-prediction                   2021-01-07 23:59:00  Featured          $100,000       2722            True  \n",
            "predict-volcanic-eruptions-ingv-oe             2021-01-06 23:59:00  Playground            Swag        444           False  \n",
            "kaggle-survey-2020                             2021-01-06 23:59:00  Analytics          $30,000          0           False  \n"
          ],
          "name": "stdout"
        }
      ]
    },
    {
      "cell_type": "code",
      "metadata": {
        "colab": {
          "base_uri": "https://localhost:8080/"
        },
        "id": "WcsJx8C7rFA8",
        "outputId": "18c9434a-84cc-4eba-c3c0-f418cf623000"
      },
      "source": [
        "!kaggle competitions download -c riiid-test-answer-prediction \r\n",
        "#!unzip riiid-test-answer-prediction.zip\r\n",
        "#!unzip train_targets_scored.csv.zip\r\n",
        "#!unzip test_features.csv.zip\r\n",
        "#!unzip sample_submission.csv.zip\r\n",
        "#!unzip train_features.csv.zip\r\n",
        "#!unzip train_targets_nonscored.csv.zip"
      ],
      "execution_count": null,
      "outputs": [
        {
          "output_type": "stream",
          "text": [
            "Warning: Looks like you're using an outdated API Version, please consider updating (server 1.5.10 / client 1.5.4)\n",
            "Downloading competition.cpython-37m-x86_64-linux-gnu.so to /content\n",
            "  0% 0.00/445k [00:00<?, ?B/s]\n",
            "100% 445k/445k [00:00<00:00, 63.0MB/s]\n",
            "Downloading __init__.py to /content\n",
            "  0% 0.00/59.0 [00:00<?, ?B/s]\n",
            "100% 59.0/59.0 [00:00<00:00, 45.1kB/s]\n",
            "Downloading lectures.csv to /content\n",
            "  0% 0.00/9.48k [00:00<?, ?B/s]\n",
            "100% 9.48k/9.48k [00:00<00:00, 10.5MB/s]\n",
            "Downloading questions.csv to /content\n",
            "  0% 0.00/289k [00:00<?, ?B/s]\n",
            "100% 289k/289k [00:00<00:00, 91.7MB/s]\n",
            "Downloading example_sample_submission.csv to /content\n",
            "  0% 0.00/971 [00:00<?, ?B/s]\n",
            "100% 971/971 [00:00<00:00, 986kB/s]\n",
            "Downloading train.csv.zip to /content\n",
            " 99% 1.28G/1.29G [00:23<00:00, 53.7MB/s]\n",
            "100% 1.29G/1.29G [00:23<00:00, 59.9MB/s]\n",
            "Downloading example_test.csv to /content\n",
            "  0% 0.00/5.99k [00:00<?, ?B/s]\n",
            "100% 5.99k/5.99k [00:00<00:00, 5.99MB/s]\n"
          ],
          "name": "stdout"
        }
      ]
    },
    {
      "cell_type": "code",
      "metadata": {
        "colab": {
          "base_uri": "https://localhost:8080/"
        },
        "id": "Nq0keC4wsOWH",
        "outputId": "a6f472d9-b7b0-47f8-8dfe-cee031abc306"
      },
      "source": [
        "!unzip train.csv.zip"
      ],
      "execution_count": null,
      "outputs": [
        {
          "output_type": "stream",
          "text": [
            "Archive:  train.csv.zip\n",
            "  inflating: train.csv               \n"
          ],
          "name": "stdout"
        }
      ]
    },
    {
      "cell_type": "markdown",
      "metadata": {
        "id": "WrIuQuJDAo_U"
      },
      "source": [
        "필요 모듈 로드하기"
      ]
    },
    {
      "cell_type": "code",
      "metadata": {
        "id": "nA8wIk-GsopV"
      },
      "source": [
        "import numpy as np\r\n",
        "import pandas as pd\r\n",
        "import matplotlib.pyplot as plt\r\n",
        "import matplotlib.style as style\r\n",
        "style.use('fivethirtyeight')\r\n",
        "import seaborn as sns\r\n",
        "import os\r\n",
        "from matplotlib.ticker import FuncFormatter\r\n",
        "\r\n",
        "import gc"
      ],
      "execution_count": null,
      "outputs": []
    },
    {
      "cell_type": "code",
      "metadata": {
        "id": "JrNEJjkItUtw"
      },
      "source": [
        "dtypes = {\r\n",
        "    \"row_id\" : \"int64\",\r\n",
        "    \"timestamp\" : \"int64\",\r\n",
        "    \"user_id\" : \"int32\",\r\n",
        "    \"content_id\" : \"int16\",\r\n",
        "    \"content_type_id\" : \"boolean\",\r\n",
        "    \"task_container_id\" : \"int16\",\r\n",
        "    \"user_answer\" : \"int8\",\r\n",
        "    \"answered_correctly\" : \"int8\",\r\n",
        "    \"prior_question_elasped_time\" : \"float32\"\r\n",
        "}"
      ],
      "execution_count": null,
      "outputs": []
    },
    {
      "cell_type": "code",
      "metadata": {
        "colab": {
          "base_uri": "https://localhost:8080/"
        },
        "id": "1tSwXkSpuhG8",
        "outputId": "cdeb303b-232f-46b5-cff8-483af5c4b9ee"
      },
      "source": [
        "%%time\r\n",
        "train = pd.read_csv(\"train.csv\", dtype=dtypes)"
      ],
      "execution_count": null,
      "outputs": [
        {
          "output_type": "stream",
          "text": [
            "CPU times: user 2min 34s, sys: 8.62 s, total: 2min 43s\n",
            "Wall time: 2min 43s\n"
          ],
          "name": "stdout"
        }
      ]
    },
    {
      "cell_type": "code",
      "metadata": {
        "colab": {
          "base_uri": "https://localhost:8080/",
          "height": 198
        },
        "id": "Og7Wyy-XvaSI",
        "outputId": "1a748f0c-4bf2-4be0-bf64-65ef1207af57"
      },
      "source": [
        "train.head()"
      ],
      "execution_count": null,
      "outputs": [
        {
          "output_type": "execute_result",
          "data": {
            "text/html": [
              "<div>\n",
              "<style scoped>\n",
              "    .dataframe tbody tr th:only-of-type {\n",
              "        vertical-align: middle;\n",
              "    }\n",
              "\n",
              "    .dataframe tbody tr th {\n",
              "        vertical-align: top;\n",
              "    }\n",
              "\n",
              "    .dataframe thead th {\n",
              "        text-align: right;\n",
              "    }\n",
              "</style>\n",
              "<table border=\"1\" class=\"dataframe\">\n",
              "  <thead>\n",
              "    <tr style=\"text-align: right;\">\n",
              "      <th></th>\n",
              "      <th>row_id</th>\n",
              "      <th>timestamp</th>\n",
              "      <th>user_id</th>\n",
              "      <th>content_id</th>\n",
              "      <th>content_type_id</th>\n",
              "      <th>task_container_id</th>\n",
              "      <th>user_answer</th>\n",
              "      <th>answered_correctly</th>\n",
              "      <th>prior_question_elapsed_time</th>\n",
              "      <th>prior_question_had_explanation</th>\n",
              "    </tr>\n",
              "  </thead>\n",
              "  <tbody>\n",
              "    <tr>\n",
              "      <th>0</th>\n",
              "      <td>0</td>\n",
              "      <td>0</td>\n",
              "      <td>115</td>\n",
              "      <td>5692</td>\n",
              "      <td>False</td>\n",
              "      <td>1</td>\n",
              "      <td>3</td>\n",
              "      <td>1</td>\n",
              "      <td>NaN</td>\n",
              "      <td>NaN</td>\n",
              "    </tr>\n",
              "    <tr>\n",
              "      <th>1</th>\n",
              "      <td>1</td>\n",
              "      <td>56943</td>\n",
              "      <td>115</td>\n",
              "      <td>5716</td>\n",
              "      <td>False</td>\n",
              "      <td>2</td>\n",
              "      <td>2</td>\n",
              "      <td>1</td>\n",
              "      <td>37000.0</td>\n",
              "      <td>False</td>\n",
              "    </tr>\n",
              "    <tr>\n",
              "      <th>2</th>\n",
              "      <td>2</td>\n",
              "      <td>118363</td>\n",
              "      <td>115</td>\n",
              "      <td>128</td>\n",
              "      <td>False</td>\n",
              "      <td>0</td>\n",
              "      <td>0</td>\n",
              "      <td>1</td>\n",
              "      <td>55000.0</td>\n",
              "      <td>False</td>\n",
              "    </tr>\n",
              "    <tr>\n",
              "      <th>3</th>\n",
              "      <td>3</td>\n",
              "      <td>131167</td>\n",
              "      <td>115</td>\n",
              "      <td>7860</td>\n",
              "      <td>False</td>\n",
              "      <td>3</td>\n",
              "      <td>0</td>\n",
              "      <td>1</td>\n",
              "      <td>19000.0</td>\n",
              "      <td>False</td>\n",
              "    </tr>\n",
              "    <tr>\n",
              "      <th>4</th>\n",
              "      <td>4</td>\n",
              "      <td>137965</td>\n",
              "      <td>115</td>\n",
              "      <td>7922</td>\n",
              "      <td>False</td>\n",
              "      <td>4</td>\n",
              "      <td>1</td>\n",
              "      <td>1</td>\n",
              "      <td>11000.0</td>\n",
              "      <td>False</td>\n",
              "    </tr>\n",
              "  </tbody>\n",
              "</table>\n",
              "</div>"
            ],
            "text/plain": [
              "   row_id  ...  prior_question_had_explanation\n",
              "0       0  ...                             NaN\n",
              "1       1  ...                           False\n",
              "2       2  ...                           False\n",
              "3       3  ...                           False\n",
              "4       4  ...                           False\n",
              "\n",
              "[5 rows x 10 columns]"
            ]
          },
          "metadata": {
            "tags": []
          },
          "execution_count": 8
        }
      ]
    },
    {
      "cell_type": "code",
      "metadata": {
        "colab": {
          "base_uri": "https://localhost:8080/"
        },
        "id": "pPanEqEf3T61",
        "outputId": "cca16218-e08f-4572-f669-c3dbb6faa151"
      },
      "source": [
        "print(f\"unique user number  : {train.user_id.nunique()}\")"
      ],
      "execution_count": null,
      "outputs": [
        {
          "output_type": "stream",
          "text": [
            "unique user number  : 393656\n"
          ],
          "name": "stdout"
        }
      ]
    },
    {
      "cell_type": "code",
      "metadata": {
        "colab": {
          "base_uri": "https://localhost:8080/"
        },
        "id": "fkfk4Gb23dsK",
        "outputId": "328d5949-cdec-47c4-a8c0-a18355dc8367"
      },
      "source": [
        "## Content type id : Lecture vs Question\r\n",
        "train.content_type_id.value_counts()"
      ],
      "execution_count": null,
      "outputs": [
        {
          "output_type": "execute_result",
          "data": {
            "text/plain": [
              "False    99271300\n",
              "True      1959032\n",
              "Name: content_type_id, dtype: Int64"
            ]
          },
          "metadata": {
            "tags": []
          },
          "execution_count": 10
        }
      ]
    },
    {
      "cell_type": "code",
      "metadata": {
        "colab": {
          "base_uri": "https://localhost:8080/"
        },
        "id": "ydny7yUs3tla",
        "outputId": "59ff2f03-f5de-4b8c-b168-a7fdf9b769c4"
      },
      "source": [
        "# 전체 content_id의 개수, lecutre 가 아닌 content_id의 개수\r\n",
        "print(f\"{train.content_id.nunique()}, {train.loc[train['content_type_id']==False]['content_id'].nunique()}\")"
      ],
      "execution_count": null,
      "outputs": [
        {
          "output_type": "stream",
          "text": [
            "13782, 13523\n"
          ],
          "name": "stdout"
        }
      ]
    },
    {
      "cell_type": "code",
      "metadata": {
        "colab": {
          "base_uri": "https://localhost:8080/",
          "height": 450
        },
        "id": "YwJyH3cN4npD",
        "outputId": "3fba0b3e-aafc-43e0-e953-d68533565316"
      },
      "source": [
        "cids = train.content_id.value_counts()[:30]\r\n",
        "fig = plt.figure(figsize=(12,6))\r\n",
        "ax = cids.plot.bar()\r\n",
        "plt.title(\"30 most used content_id's\")\r\n",
        "plt.xticks(rotation=90)\r\n",
        "plt.show()"
      ],
      "execution_count": null,
      "outputs": [
        {
          "output_type": "display_data",
          "data": {
            "image/png": "[encoded data removed]",
            "text/plain": [
              "<Figure size 864x432 with 1 Axes>"
            ]
          },
          "metadata": {
            "tags": []
          }
        }
      ]
    },
    {
      "cell_type": "code",
      "metadata": {
        "colab": {
          "base_uri": "https://localhost:8080/"
        },
        "id": "ek773o1l5hSQ",
        "outputId": "86952876-51d7-45ec-abfe-cd0b813a4cc5"
      },
      "source": [
        "## task_container_id 변수 확인\r\n",
        "print(f\"task_container_id unique : {train.task_container_id.nunique()}\")"
      ],
      "execution_count": null,
      "outputs": [
        {
          "output_type": "stream",
          "text": [
            "task_container_id unique : 10000\n"
          ],
          "name": "stdout"
        }
      ]
    },
    {
      "cell_type": "code",
      "metadata": {
        "colab": {
          "base_uri": "https://localhost:8080/"
        },
        "id": "CtVqo2vS5xPj",
        "outputId": "cdd3d398-02ca-4796-873c-a6aa65446bd4"
      },
      "source": [
        "## User answer 변수 확인\r\n",
        "train.user_answer.value_counts()"
      ],
      "execution_count": null,
      "outputs": [
        {
          "output_type": "execute_result",
          "data": {
            "text/plain": [
              " 0    28186489\n",
              " 1    26990007\n",
              " 3    26084784\n",
              " 2    18010020\n",
              "-1     1959032\n",
              "Name: user_answer, dtype: int64"
            ]
          },
          "metadata": {
            "tags": []
          },
          "execution_count": 14
        }
      ]
    },
    {
      "cell_type": "code",
      "metadata": {
        "colab": {
          "base_uri": "https://localhost:8080/",
          "height": 419
        },
        "id": "aCki4DNL6IEd",
        "outputId": "07f27d7a-dfda-42ab-8f18-0b5b3ebdb03c"
      },
      "source": [
        "## timestamp 변수 확인\r\n",
        "ts = train['timestamp']/(31536000000/12)\r\n",
        "fig = plt.figure(figsize=(12,6))\r\n",
        "ts.plot.hist(bins=100)\r\n",
        "plt.title(\"timestamp\")\r\n",
        "plt.show()"
      ],
      "execution_count": null,
      "outputs": [
        {
          "output_type": "display_data",
          "data": {
            "image/png": "[encoded data removed]",
            "text/plain": [
              "<Figure size 864x432 with 1 Axes>"
            ]
          },
          "metadata": {
            "tags": []
          }
        }
      ]
    },
    {
      "cell_type": "code",
      "metadata": {
        "colab": {
          "base_uri": "https://localhost:8080/"
        },
        "id": "MlRawnH27YzC",
        "outputId": "f777bf70-23e3-40f8-c139-349f7c085428"
      },
      "source": [
        "# 모든 사용자의 이력을 가지고 있는지?\r\n",
        "print(f\"{train.user_id.nunique()}, {train[train.timestamp==0].nunique()}\")"
      ],
      "execution_count": null,
      "outputs": [
        {
          "output_type": "stream",
          "text": [
            "393656, row_id                            396417\n",
            "timestamp                              1\n",
            "user_id                           393656\n",
            "content_id                          5281\n",
            "content_type_id                        2\n",
            "task_container_id                     16\n",
            "user_answer                            5\n",
            "answered_correctly                     3\n",
            "prior_question_elapsed_time          382\n",
            "prior_question_had_explanation         2\n",
            "dtype: int64\n"
          ],
          "name": "stdout"
        }
      ]
    },
    {
      "cell_type": "code",
      "metadata": {
        "colab": {
          "base_uri": "https://localhost:8080/"
        },
        "id": "gHZxM5_U8LlT",
        "outputId": "a6864708-6fc2-4b18-897d-33443774ed5a"
      },
      "source": [
        "train.answered_correctly.value_counts()"
      ],
      "execution_count": null,
      "outputs": [
        {
          "output_type": "execute_result",
          "data": {
            "text/plain": [
              " 1    65244627\n",
              " 0    34026673\n",
              "-1     1959032\n",
              "Name: answered_correctly, dtype: int64"
            ]
          },
          "metadata": {
            "tags": []
          },
          "execution_count": 17
        }
      ]
    },
    {
      "cell_type": "code",
      "metadata": {
        "id": "XgTsbxcx8jWV"
      },
      "source": [
        "correct = train[train.answered_correctly != -1].answered_correctly.value_counts(ascending=True)"
      ],
      "execution_count": null,
      "outputs": []
    },
    {
      "cell_type": "code",
      "metadata": {
        "colab": {
          "base_uri": "https://localhost:8080/",
          "height": 320
        },
        "id": "wDVTtVkA84UG",
        "outputId": "1510db08-4d8b-439c-82a9-f2ba66015342"
      },
      "source": [
        "fig = plt.figure(figsize = (12, 4))\r\n",
        "correct.plot.barh()\r\n",
        "for i, v in zip(correct.index, correct.values):\r\n",
        "    plt.text(v, i, \"{:,}\".format(v), color='white', fontweight='bold', fontsize=14, ha='right', va='center')\r\n",
        "plt.title(\"Question answered correctly\")\r\n",
        "plt.xticks(rotation=0)\r\n",
        "plt.show()"
      ],
      "execution_count": null,
      "outputs": [
        {
          "output_type": "display_data",
          "data": {
            "image/png": "[encoded data removed]",
            "text/plain": [
              "<Figure size 864x288 with 1 Axes>"
            ]
          },
          "metadata": {
            "tags": []
          }
        }
      ]
    },
    {
      "cell_type": "code",
      "metadata": {
        "id": "eI9n7FbL_4Su"
      },
      "source": [
        "#timestamp vs answered_correctly\r\n",
        "#가입 기간이 길 수록 정답률도 높은 지\r\n",
        "bin_labels_5 = [\"Bin_1\", \"Bin_2\",\"Bin_3\",\"Bin_4\",\"Bin_5\"]\r\n",
        "train['ts_bin'] = pd.qcut(train['timestamp'], q=5, labels=bin_labels_5)"
      ],
      "execution_count": null,
      "outputs": []
    },
    {
      "cell_type": "code",
      "metadata": {
        "id": "fvlPFAjg_5Ci"
      },
      "source": [
        "correct = train[train.answered_correctly!=-1].groupby(['ts_bin', 'answered_correctly'], as_index=False).size()\r\n",
        "correct = correct.pivot('ts_bin', 'answered_correctly', 'size')"
      ],
      "execution_count": null,
      "outputs": []
    },
    {
      "cell_type": "code",
      "metadata": {
        "colab": {
          "base_uri": "https://localhost:8080/",
          "height": 228
        },
        "id": "7uq6IhlQAhOE",
        "outputId": "beecc264-97f3-4797-f985-9ded5c6ad585"
      },
      "source": [
        "correct"
      ],
      "execution_count": null,
      "outputs": [
        {
          "output_type": "execute_result",
          "data": {
            "text/html": [
              "<div>\n",
              "<style scoped>\n",
              "    .dataframe tbody tr th:only-of-type {\n",
              "        vertical-align: middle;\n",
              "    }\n",
              "\n",
              "    .dataframe tbody tr th {\n",
              "        vertical-align: top;\n",
              "    }\n",
              "\n",
              "    .dataframe thead th {\n",
              "        text-align: right;\n",
              "    }\n",
              "</style>\n",
              "<table border=\"1\" class=\"dataframe\">\n",
              "  <thead>\n",
              "    <tr style=\"text-align: right;\">\n",
              "      <th>answered_correctly</th>\n",
              "      <th>0</th>\n",
              "      <th>1</th>\n",
              "    </tr>\n",
              "    <tr>\n",
              "      <th>ts_bin</th>\n",
              "      <th></th>\n",
              "      <th></th>\n",
              "    </tr>\n",
              "  </thead>\n",
              "  <tbody>\n",
              "    <tr>\n",
              "      <th>Bin_1</th>\n",
              "      <td>8242434</td>\n",
              "      <td>11775731</td>\n",
              "    </tr>\n",
              "    <tr>\n",
              "      <th>Bin_2</th>\n",
              "      <td>6610350</td>\n",
              "      <td>13163765</td>\n",
              "    </tr>\n",
              "    <tr>\n",
              "      <th>Bin_3</th>\n",
              "      <td>6400898</td>\n",
              "      <td>13383654</td>\n",
              "    </tr>\n",
              "    <tr>\n",
              "      <th>Bin_4</th>\n",
              "      <td>6404411</td>\n",
              "      <td>13425334</td>\n",
              "    </tr>\n",
              "    <tr>\n",
              "      <th>Bin_5</th>\n",
              "      <td>6368580</td>\n",
              "      <td>13496143</td>\n",
              "    </tr>\n",
              "  </tbody>\n",
              "</table>\n",
              "</div>"
            ],
            "text/plain": [
              "answered_correctly        0         1\n",
              "ts_bin                               \n",
              "Bin_1               8242434  11775731\n",
              "Bin_2               6610350  13163765\n",
              "Bin_3               6400898  13383654\n",
              "Bin_4               6404411  13425334\n",
              "Bin_5               6368580  13496143"
            ]
          },
          "metadata": {
            "tags": []
          },
          "execution_count": 22
        }
      ]
    },
    {
      "cell_type": "code",
      "metadata": {
        "colab": {
          "base_uri": "https://localhost:8080/"
        },
        "id": "_bTl8hrpAR_N",
        "outputId": "8d8f7df6-1968-4b32-96df-61b4914de2b5"
      },
      "source": [
        "del correct\r\n",
        "import gc\r\n",
        "gc.collect()"
      ],
      "execution_count": null,
      "outputs": [
        {
          "output_type": "execute_result",
          "data": {
            "text/plain": [
              "9210"
            ]
          },
          "metadata": {
            "tags": []
          },
          "execution_count": 23
        }
      ]
    },
    {
      "cell_type": "code",
      "metadata": {
        "id": "4V924zsD9pqL"
      },
      "source": [
        "def correct(field):\r\n",
        "    correct = train[train.answered_correctly!=-1].groupby([field, 'answered_correctly'], as_index=False).size()\r\n",
        "    correct = correct.pivot(index=field, columns='answered_correctly', values='size')\r\n",
        "    correct['Percent_correct'] = round(correct.iloc[:,1] / (correct.iloc[:,0] + correct.iloc[:,1]), 2)\r\n",
        "    correct = correct.sort_values(by = \"Percent_correct\", ascending=False)\r\n",
        "    correct = correct.iloc[:,2]\r\n",
        "    return correct"
      ],
      "execution_count": null,
      "outputs": []
    },
    {
      "cell_type": "code",
      "metadata": {
        "colab": {
          "base_uri": "https://localhost:8080/"
        },
        "id": "S9EeXYv_9nip",
        "outputId": "080c3496-5858-4b5e-96a1-65ecbed8bbf9"
      },
      "source": [
        "bins_correct = correct('ts_bin')\r\n",
        "bins_correct = bins_correct.sort_index()\r\n",
        "bins_correct"
      ],
      "execution_count": null,
      "outputs": [
        {
          "output_type": "execute_result",
          "data": {
            "text/plain": [
              "ts_bin\n",
              "Bin_1    0.59\n",
              "Bin_2    0.67\n",
              "Bin_3    0.68\n",
              "Bin_4    0.68\n",
              "Bin_5    0.68\n",
              "Name: Percent_correct, dtype: float64"
            ]
          },
          "metadata": {
            "tags": []
          },
          "execution_count": 25
        }
      ]
    },
    {
      "cell_type": "code",
      "metadata": {
        "colab": {
          "base_uri": "https://localhost:8080/",
          "height": 419
        },
        "id": "6Q-THPDfB1Pl",
        "outputId": "d07dbb0b-13c5-4d25-b51b-a1f9cb446858"
      },
      "source": [
        "fig = plt.figure(figsize=(12, 6))\r\n",
        "plt.bar(bins_correct.index, bins_correct.values)\r\n",
        "for i, v in zip(bins_correct.index, bins_correct.values):\r\n",
        "    plt.text(i, v, v, color='white', fontweight='bold', fontsize=14, va = 'top', ha='center')\r\n",
        "plt.title(\"Percent answered_correctly for 5 bins of timestamp\")\r\n",
        "plt.show()"
      ],
      "execution_count": null,
      "outputs": [
        {
          "output_type": "display_data",
          "data": {
            "image/png": "[encoded data removed]",
            "text/plain": [
              "<Figure size 864x432 with 1 Axes>"
            ]
          },
          "metadata": {
            "tags": []
          }
        }
      ]
    },
    {
      "cell_type": "code",
      "metadata": {
        "colab": {
          "base_uri": "https://localhost:8080/",
          "height": 419
        },
        "id": "G7pI6lt3CpCd",
        "outputId": "e548d1f0-658b-445c-ce32-28c2a7854a51"
      },
      "source": [
        "## task container vs correctly_answered\r\n",
        "task_id_correct = correct(\"task_container_id\")\r\n",
        "fig = plt.figure(figsize=(12, 6))\r\n",
        "task_id_correct.plot.hist(bins=40)\r\n",
        "plt.title(f\"Histogram of percent_correct grouped by task_contanier_id\")\r\n",
        "plt.show()"
      ],
      "execution_count": null,
      "outputs": [
        {
          "output_type": "display_data",
          "data": {
            "image/png": "[encoded data removed]",
            "text/plain": [
              "<Figure size 864x432 with 1 Axes>"
            ]
          },
          "metadata": {
            "tags": []
          }
        }
      ]
    },
    {
      "cell_type": "code",
      "metadata": {
        "colab": {
          "base_uri": "https://localhost:8080/",
          "height": 437
        },
        "id": "r37diMyLSodq",
        "outputId": "aaf40ac3-f9ec-40cf-cfa2-c7257bacea44"
      },
      "source": [
        "user_percent = train[train.answered_correctly != -1].groupby('user_id')['answered_correctly'].agg(Mean='mean', Answers='count')\r\n",
        "user_percent"
      ],
      "execution_count": null,
      "outputs": [
        {
          "output_type": "execute_result",
          "data": {
            "text/html": [
              "<div>\n",
              "<style scoped>\n",
              "    .dataframe tbody tr th:only-of-type {\n",
              "        vertical-align: middle;\n",
              "    }\n",
              "\n",
              "    .dataframe tbody tr th {\n",
              "        vertical-align: top;\n",
              "    }\n",
              "\n",
              "    .dataframe thead th {\n",
              "        text-align: right;\n",
              "    }\n",
              "</style>\n",
              "<table border=\"1\" class=\"dataframe\">\n",
              "  <thead>\n",
              "    <tr style=\"text-align: right;\">\n",
              "      <th></th>\n",
              "      <th>Mean</th>\n",
              "      <th>Answers</th>\n",
              "    </tr>\n",
              "    <tr>\n",
              "      <th>user_id</th>\n",
              "      <th></th>\n",
              "      <th></th>\n",
              "    </tr>\n",
              "  </thead>\n",
              "  <tbody>\n",
              "    <tr>\n",
              "      <th>115</th>\n",
              "      <td>0.695652</td>\n",
              "      <td>46</td>\n",
              "    </tr>\n",
              "    <tr>\n",
              "      <th>124</th>\n",
              "      <td>0.233333</td>\n",
              "      <td>30</td>\n",
              "    </tr>\n",
              "    <tr>\n",
              "      <th>2746</th>\n",
              "      <td>0.578947</td>\n",
              "      <td>19</td>\n",
              "    </tr>\n",
              "    <tr>\n",
              "      <th>5382</th>\n",
              "      <td>0.672000</td>\n",
              "      <td>125</td>\n",
              "    </tr>\n",
              "    <tr>\n",
              "      <th>8623</th>\n",
              "      <td>0.642202</td>\n",
              "      <td>109</td>\n",
              "    </tr>\n",
              "    <tr>\n",
              "      <th>...</th>\n",
              "      <td>...</td>\n",
              "      <td>...</td>\n",
              "    </tr>\n",
              "    <tr>\n",
              "      <th>2147470770</th>\n",
              "      <td>0.765487</td>\n",
              "      <td>226</td>\n",
              "    </tr>\n",
              "    <tr>\n",
              "      <th>2147470777</th>\n",
              "      <td>0.691489</td>\n",
              "      <td>752</td>\n",
              "    </tr>\n",
              "    <tr>\n",
              "      <th>2147481750</th>\n",
              "      <td>0.760000</td>\n",
              "      <td>50</td>\n",
              "    </tr>\n",
              "    <tr>\n",
              "      <th>2147482216</th>\n",
              "      <td>0.643636</td>\n",
              "      <td>275</td>\n",
              "    </tr>\n",
              "    <tr>\n",
              "      <th>2147482888</th>\n",
              "      <td>0.555556</td>\n",
              "      <td>27</td>\n",
              "    </tr>\n",
              "  </tbody>\n",
              "</table>\n",
              "<p>393656 rows × 2 columns</p>\n",
              "</div>"
            ],
            "text/plain": [
              "                Mean  Answers\n",
              "user_id                      \n",
              "115         0.695652       46\n",
              "124         0.233333       30\n",
              "2746        0.578947       19\n",
              "5382        0.672000      125\n",
              "8623        0.642202      109\n",
              "...              ...      ...\n",
              "2147470770  0.765487      226\n",
              "2147470777  0.691489      752\n",
              "2147481750  0.760000       50\n",
              "2147482216  0.643636      275\n",
              "2147482888  0.555556       27\n",
              "\n",
              "[393656 rows x 2 columns]"
            ]
          },
          "metadata": {
            "tags": []
          },
          "execution_count": 28
        }
      ]
    },
    {
      "cell_type": "code",
      "metadata": {
        "colab": {
          "base_uri": "https://localhost:8080/",
          "height": 108
        },
        "id": "wKQ0463cTlgn",
        "outputId": "37c3542f-cb8f-4f27-fda1-9a8d323dac36"
      },
      "source": [
        "user_percent[user_percent.Answers==17609]"
      ],
      "execution_count": null,
      "outputs": [
        {
          "output_type": "execute_result",
          "data": {
            "text/html": [
              "<div>\n",
              "<style scoped>\n",
              "    .dataframe tbody tr th:only-of-type {\n",
              "        vertical-align: middle;\n",
              "    }\n",
              "\n",
              "    .dataframe tbody tr th {\n",
              "        vertical-align: top;\n",
              "    }\n",
              "\n",
              "    .dataframe thead th {\n",
              "        text-align: right;\n",
              "    }\n",
              "</style>\n",
              "<table border=\"1\" class=\"dataframe\">\n",
              "  <thead>\n",
              "    <tr style=\"text-align: right;\">\n",
              "      <th></th>\n",
              "      <th>Mean</th>\n",
              "      <th>Answers</th>\n",
              "    </tr>\n",
              "    <tr>\n",
              "      <th>user_id</th>\n",
              "      <th></th>\n",
              "      <th></th>\n",
              "    </tr>\n",
              "  </thead>\n",
              "  <tbody>\n",
              "    <tr>\n",
              "      <th>801103753</th>\n",
              "      <td>0.721109</td>\n",
              "      <td>17609</td>\n",
              "    </tr>\n",
              "  </tbody>\n",
              "</table>\n",
              "</div>"
            ],
            "text/plain": [
              "               Mean  Answers\n",
              "user_id                     \n",
              "801103753  0.721109    17609"
            ]
          },
          "metadata": {
            "tags": []
          },
          "execution_count": 29
        }
      ]
    },
    {
      "cell_type": "code",
      "metadata": {
        "colab": {
          "base_uri": "https://localhost:8080/"
        },
        "id": "1gqj4phKXmJU",
        "outputId": "779038d7-c529-4b72-ab66-fa5a3d7edb29"
      },
      "source": [
        "user_percent.Answers.describe()"
      ],
      "execution_count": null,
      "outputs": [
        {
          "output_type": "execute_result",
          "data": {
            "text/plain": [
              "count    393656.000000\n",
              "mean        252.177790\n",
              "std         734.721108\n",
              "min           1.000000\n",
              "25%          30.000000\n",
              "50%          40.000000\n",
              "75%         154.000000\n",
              "max       17609.000000\n",
              "Name: Answers, dtype: float64"
            ]
          },
          "metadata": {
            "tags": []
          },
          "execution_count": 30
        }
      ]
    },
    {
      "cell_type": "code",
      "metadata": {
        "colab": {
          "base_uri": "https://localhost:8080/"
        },
        "id": "3IJJiWI0Xtei",
        "outputId": "22db0d42-16e9-409e-a8bb-8c4efe8c0cf4"
      },
      "source": [
        "user_percent.Answers.quantile(0.93)"
      ],
      "execution_count": null,
      "outputs": [
        {
          "output_type": "execute_result",
          "data": {
            "text/plain": [
              "836.0"
            ]
          },
          "metadata": {
            "tags": []
          },
          "execution_count": 31
        }
      ]
    },
    {
      "cell_type": "code",
      "metadata": {
        "colab": {
          "base_uri": "https://localhost:8080/",
          "height": 441
        },
        "id": "YB23O34QUtBj",
        "outputId": "0b60cc3a-a538-48f5-e91c-302e89aea205"
      },
      "source": [
        "## Number of answers VS answered correctly comparision\r\n",
        "user_percent = user_percent.query('Answers < 1000').sample(n=200, random_state=1)\r\n",
        "fig = plt.figure(figsize = (12,6))\r\n",
        "x = user_percent.Answers\r\n",
        "y = user_percent.Mean\r\n",
        "plt.scatter(x, y, marker='o')\r\n",
        "plt.title(\"Percent answered correctly versus number of questions answered User\")\r\n",
        "plt.xticks(rotation=0)\r\n",
        "plt.xlabel(\"Number of questions answered\")\r\n",
        "plt.ylabel(\"Percent answered correctly\")\r\n",
        "z = np.polyfit(x, y, 1)\r\n",
        "p = np.poly1d(z)\r\n",
        "plt.plot(x, p(x), \"r--\")\r\n",
        "plt.show()\r\n",
        "## 비례관계임을 알 수 있음"
      ],
      "execution_count": null,
      "outputs": [
        {
          "output_type": "display_data",
          "data": {
            "image/png": "[encoded data removed]",
            "text/plain": [
              "<Figure size 864x432 with 1 Axes>"
            ]
          },
          "metadata": {
            "tags": []
          }
        }
      ]
    },
    {
      "cell_type": "code",
      "metadata": {
        "colab": {
          "base_uri": "https://localhost:8080/"
        },
        "id": "W-503NQYXs58",
        "outputId": "57d51ee3-6470-412f-db07-e2fd8bc2e0f2"
      },
      "source": [
        "## content id vs answered correctly\r\n",
        "content_percent = train[train.answered_correctly != -1].groupby('content_id')['answered_correctly'].agg(Mean='mean', Answers='count')\r\n",
        "print(f'The highest number of questions asked by content_id is {content_percent.Answers.max()}')\r\n"
      ],
      "execution_count": null,
      "outputs": [
        {
          "output_type": "stream",
          "text": [
            "The highest number of questions asked by content_id is 213605\n"
          ],
          "name": "stdout"
        }
      ]
    },
    {
      "cell_type": "code",
      "metadata": {
        "colab": {
          "base_uri": "https://localhost:8080/",
          "height": 442
        },
        "id": "Dy9PQHR6ZcLt",
        "outputId": "0b79e430-c93a-4e9c-894f-9b2f0163560e"
      },
      "source": [
        "## 반비례 관계\r\n",
        "content_percent = content_percent.query(\"Answers <= 25000\").sample(n=200, random_state=1)\r\n",
        "\r\n",
        "fig = plt.figure(figsize=(12,6))\r\n",
        "x = content_percent.Answers\r\n",
        "y = content_percent.Mean\r\n",
        "plt.scatter(x, y, marker='o')\r\n",
        "plt.title(\"Number of content_id VS Answered_correctly\")\r\n",
        "plt.xlabel(\"content_id\")\r\n",
        "plt.ylabel(\"answered_correctly\")\r\n",
        "z = np.polyfit(x, y, 1)\r\n",
        "p = np.poly1d(z)\r\n",
        "plt.plot(x, p(x), \"r--\")\r\n",
        "plt.show()"
      ],
      "execution_count": null,
      "outputs": [
        {
          "output_type": "display_data",
          "data": {
            "image/png": "[encoded data removed]",
            "text/plain": [
              "<Figure size 864x432 with 1 Axes>"
            ]
          },
          "metadata": {
            "tags": []
          }
        }
      ]
    },
    {
      "cell_type": "code",
      "metadata": {
        "colab": {
          "base_uri": "https://localhost:8080/",
          "height": 415
        },
        "id": "G0fz-Me9aUgf",
        "outputId": "792c906f-c12f-42bd-9106-d127bb5b9c60"
      },
      "source": [
        "## Answered_correctly vs Prior Question had explanation\r\n",
        "# train.prior_question_had_explanation.value_counts()\r\n",
        "pq = train[train.answered_correctly != -1].groupby(['prior_question_had_explanation'], dropna=False).agg({\"answered_correctly\":['mean', 'count']})\r\n",
        "print(pq.iloc[:,1])\r\n",
        "pq = pq.iloc[:,0]\r\n",
        "\r\n",
        "fig = plt.figure(figsize=(12,4))\r\n",
        "pq.plot.barh()\r\n",
        "\r\n",
        "plt.title(\"Answered_correctly versus Prior Question had explanation\")\r\n",
        "plt.xlabel(\"Percent answered correctly\")\r\n",
        "plt.ylabel(\"Prior question had explanation\")\r\n",
        "plt.xticks(rotation=0)\r\n",
        "plt.show()"
      ],
      "execution_count": null,
      "outputs": [
        {
          "output_type": "stream",
          "text": [
            "prior_question_had_explanation\n",
            "False     9193234\n",
            "True     89685560\n",
            "NaN        392506\n",
            "Name: (answered_correctly, count), dtype: int64\n"
          ],
          "name": "stdout"
        },
        {
          "output_type": "display_data",
          "data": {
            "image/png": "[encoded data removed]",
            "text/plain": [
              "<Figure size 864x288 with 1 Axes>"
            ]
          },
          "metadata": {
            "tags": []
          }
        }
      ]
    },
    {
      "cell_type": "code",
      "metadata": {
        "colab": {
          "base_uri": "https://localhost:8080/",
          "height": 168
        },
        "id": "J9ArDzAfaosu",
        "outputId": "1226e5ab-ff3b-4a94-dfd4-c6650e7469fe"
      },
      "source": [
        "pq = train[train.answered_correctly != -1]\r\n",
        "pq = pq[['prior_question_elapsed_time', 'answered_correctly']]\r\n",
        "pq = pq.groupby(['answered_correctly']).agg({'answered_correctly':['count'], 'prior_question_elapsed_time':['mean']})\r\n",
        "pq"
      ],
      "execution_count": null,
      "outputs": [
        {
          "output_type": "execute_result",
          "data": {
            "text/html": [
              "<div>\n",
              "<style scoped>\n",
              "    .dataframe tbody tr th:only-of-type {\n",
              "        vertical-align: middle;\n",
              "    }\n",
              "\n",
              "    .dataframe tbody tr th {\n",
              "        vertical-align: top;\n",
              "    }\n",
              "\n",
              "    .dataframe thead tr th {\n",
              "        text-align: left;\n",
              "    }\n",
              "\n",
              "    .dataframe thead tr:last-of-type th {\n",
              "        text-align: right;\n",
              "    }\n",
              "</style>\n",
              "<table border=\"1\" class=\"dataframe\">\n",
              "  <thead>\n",
              "    <tr>\n",
              "      <th></th>\n",
              "      <th>answered_correctly</th>\n",
              "      <th>prior_question_elapsed_time</th>\n",
              "    </tr>\n",
              "    <tr>\n",
              "      <th></th>\n",
              "      <th>count</th>\n",
              "      <th>mean</th>\n",
              "    </tr>\n",
              "    <tr>\n",
              "      <th>answered_correctly</th>\n",
              "      <th></th>\n",
              "      <th></th>\n",
              "    </tr>\n",
              "  </thead>\n",
              "  <tbody>\n",
              "    <tr>\n",
              "      <th>0</th>\n",
              "      <td>34026673</td>\n",
              "      <td>25641.991586</td>\n",
              "    </tr>\n",
              "    <tr>\n",
              "      <th>1</th>\n",
              "      <td>65244627</td>\n",
              "      <td>25309.977185</td>\n",
              "    </tr>\n",
              "  </tbody>\n",
              "</table>\n",
              "</div>"
            ],
            "text/plain": [
              "                   answered_correctly prior_question_elapsed_time\n",
              "                                count                        mean\n",
              "answered_correctly                                               \n",
              "0                            34026673                25641.991586\n",
              "1                            65244627                25309.977185"
            ]
          },
          "metadata": {
            "tags": []
          },
          "execution_count": 36
        }
      ]
    },
    {
      "cell_type": "code",
      "metadata": {
        "colab": {
          "base_uri": "https://localhost:8080/",
          "height": 442
        },
        "id": "S5X6prEAfGBK",
        "outputId": "cb55c3f8-7bd0-4189-c4de-cf84c73267c5"
      },
      "source": [
        "mean_pq = train.prior_question_elapsed_time.astype(\"float64\").mean()\r\n",
        "condition = ((train.answered_correctly != -1)) & (train.prior_question_elapsed_time.notna())\r\n",
        "pq = train[condition][['prior_question_elapsed_time', 'answered_correctly']].sample(n=200, random_state=1)\r\n",
        "pq = pq.set_index('prior_question_elapsed_time').iloc[:,0]\r\n",
        "\r\n",
        "fig = plt.figure(figsize=(12,6))\r\n",
        "x = pq.index\r\n",
        "y = pq.values\r\n",
        "plt.scatter(x, y, marker='o')\r\n",
        "plt.title(\"Answered_correctly versus prior_question_elapsed_time\")\r\n",
        "plt.xticks(rotation=0)\r\n",
        "plt.xlabel(\"Prior_question_elapsed_time\")\r\n",
        "plt.ylabel(\"Answered_correctly\")\r\n",
        "plt.vlines(mean_pq, ymin=-0.1, ymax=1.1)\r\n",
        "plt.text(x= 27000, y=0.4, s='mean')\r\n",
        "plt.text(x=80000, y=0.6, s='trend')\r\n",
        "z = np.polyfit(x, y, 1)\r\n",
        "p = np.poly1d(z)\r\n",
        "plt.plot(x, p(x), \"r--\")\r\n",
        "plt.show()"
      ],
      "execution_count": null,
      "outputs": [
        {
          "output_type": "display_data",
          "data": {
            "image/png": "[encoded data removed]",
            "text/plain": [
              "<Figure size 864x432 with 1 Axes>"
            ]
          },
          "metadata": {
            "tags": []
          }
        }
      ]
    },
    {
      "cell_type": "markdown",
      "metadata": {
        "id": "nYGjwT_OiYKn"
      },
      "source": [
        "## Exploring Questions"
      ]
    },
    {
      "cell_type": "code",
      "metadata": {
        "colab": {
          "base_uri": "https://localhost:8080/"
        },
        "id": "KjetsL-8iaDJ",
        "outputId": "fc267590-c5df-4c12-a854-7a61599cc40d"
      },
      "source": [
        "os.listdir()"
      ],
      "execution_count": null,
      "outputs": [
        {
          "output_type": "execute_result",
          "data": {
            "text/plain": [
              "['.config',\n",
              " 'riid',\n",
              " 'lectures.csv',\n",
              " 'gdrive',\n",
              " 'questions.csv',\n",
              " 'kaggle.json',\n",
              " 'train.csv.zip',\n",
              " 'example_sample_submission.csv',\n",
              " '__init__.py',\n",
              " 'example_test.csv',\n",
              " 'competition.cpython-37m-x86_64-linux-gnu.so',\n",
              " 'train.csv',\n",
              " 'sample_data']"
            ]
          },
          "metadata": {
            "tags": []
          },
          "execution_count": 38
        }
      ]
    },
    {
      "cell_type": "code",
      "metadata": {
        "id": "M1tyuh3PjD70"
      },
      "source": [
        "questions = pd.read_csv('questions.csv')"
      ],
      "execution_count": null,
      "outputs": []
    },
    {
      "cell_type": "code",
      "metadata": {
        "colab": {
          "base_uri": "https://localhost:8080/",
          "height": 407
        },
        "id": "BZlkiVQ2jHkf",
        "outputId": "1365a260-ac69-4faa-de02-8c1c719fa377"
      },
      "source": [
        "questions"
      ],
      "execution_count": null,
      "outputs": [
        {
          "output_type": "execute_result",
          "data": {
            "text/html": [
              "<div>\n",
              "<style scoped>\n",
              "    .dataframe tbody tr th:only-of-type {\n",
              "        vertical-align: middle;\n",
              "    }\n",
              "\n",
              "    .dataframe tbody tr th {\n",
              "        vertical-align: top;\n",
              "    }\n",
              "\n",
              "    .dataframe thead th {\n",
              "        text-align: right;\n",
              "    }\n",
              "</style>\n",
              "<table border=\"1\" class=\"dataframe\">\n",
              "  <thead>\n",
              "    <tr style=\"text-align: right;\">\n",
              "      <th></th>\n",
              "      <th>question_id</th>\n",
              "      <th>bundle_id</th>\n",
              "      <th>correct_answer</th>\n",
              "      <th>part</th>\n",
              "      <th>tags</th>\n",
              "    </tr>\n",
              "  </thead>\n",
              "  <tbody>\n",
              "    <tr>\n",
              "      <th>0</th>\n",
              "      <td>0</td>\n",
              "      <td>0</td>\n",
              "      <td>0</td>\n",
              "      <td>1</td>\n",
              "      <td>51 131 162 38</td>\n",
              "    </tr>\n",
              "    <tr>\n",
              "      <th>1</th>\n",
              "      <td>1</td>\n",
              "      <td>1</td>\n",
              "      <td>1</td>\n",
              "      <td>1</td>\n",
              "      <td>131 36 81</td>\n",
              "    </tr>\n",
              "    <tr>\n",
              "      <th>2</th>\n",
              "      <td>2</td>\n",
              "      <td>2</td>\n",
              "      <td>0</td>\n",
              "      <td>1</td>\n",
              "      <td>131 101 162 92</td>\n",
              "    </tr>\n",
              "    <tr>\n",
              "      <th>3</th>\n",
              "      <td>3</td>\n",
              "      <td>3</td>\n",
              "      <td>0</td>\n",
              "      <td>1</td>\n",
              "      <td>131 149 162 29</td>\n",
              "    </tr>\n",
              "    <tr>\n",
              "      <th>4</th>\n",
              "      <td>4</td>\n",
              "      <td>4</td>\n",
              "      <td>3</td>\n",
              "      <td>1</td>\n",
              "      <td>131 5 162 38</td>\n",
              "    </tr>\n",
              "    <tr>\n",
              "      <th>...</th>\n",
              "      <td>...</td>\n",
              "      <td>...</td>\n",
              "      <td>...</td>\n",
              "      <td>...</td>\n",
              "      <td>...</td>\n",
              "    </tr>\n",
              "    <tr>\n",
              "      <th>13518</th>\n",
              "      <td>13518</td>\n",
              "      <td>13518</td>\n",
              "      <td>3</td>\n",
              "      <td>5</td>\n",
              "      <td>14</td>\n",
              "    </tr>\n",
              "    <tr>\n",
              "      <th>13519</th>\n",
              "      <td>13519</td>\n",
              "      <td>13519</td>\n",
              "      <td>3</td>\n",
              "      <td>5</td>\n",
              "      <td>8</td>\n",
              "    </tr>\n",
              "    <tr>\n",
              "      <th>13520</th>\n",
              "      <td>13520</td>\n",
              "      <td>13520</td>\n",
              "      <td>2</td>\n",
              "      <td>5</td>\n",
              "      <td>73</td>\n",
              "    </tr>\n",
              "    <tr>\n",
              "      <th>13521</th>\n",
              "      <td>13521</td>\n",
              "      <td>13521</td>\n",
              "      <td>0</td>\n",
              "      <td>5</td>\n",
              "      <td>125</td>\n",
              "    </tr>\n",
              "    <tr>\n",
              "      <th>13522</th>\n",
              "      <td>13522</td>\n",
              "      <td>13522</td>\n",
              "      <td>3</td>\n",
              "      <td>5</td>\n",
              "      <td>55</td>\n",
              "    </tr>\n",
              "  </tbody>\n",
              "</table>\n",
              "<p>13523 rows × 5 columns</p>\n",
              "</div>"
            ],
            "text/plain": [
              "       question_id  bundle_id  correct_answer  part            tags\n",
              "0                0          0               0     1   51 131 162 38\n",
              "1                1          1               1     1       131 36 81\n",
              "2                2          2               0     1  131 101 162 92\n",
              "3                3          3               0     1  131 149 162 29\n",
              "4                4          4               3     1    131 5 162 38\n",
              "...            ...        ...             ...   ...             ...\n",
              "13518        13518      13518               3     5              14\n",
              "13519        13519      13519               3     5               8\n",
              "13520        13520      13520               2     5              73\n",
              "13521        13521      13521               0     5             125\n",
              "13522        13522      13522               3     5              55\n",
              "\n",
              "[13523 rows x 5 columns]"
            ]
          },
          "metadata": {
            "tags": []
          },
          "execution_count": 40
        }
      ]
    },
    {
      "cell_type": "code",
      "metadata": {
        "colab": {
          "base_uri": "https://localhost:8080/",
          "height": 78
        },
        "id": "ZquPM0UrjLil",
        "outputId": "db5f2346-58b9-4db0-bbd7-73c62b738627"
      },
      "source": [
        "questions[questions.tags.isna()]"
      ],
      "execution_count": null,
      "outputs": [
        {
          "output_type": "execute_result",
          "data": {
            "text/html": [
              "<div>\n",
              "<style scoped>\n",
              "    .dataframe tbody tr th:only-of-type {\n",
              "        vertical-align: middle;\n",
              "    }\n",
              "\n",
              "    .dataframe tbody tr th {\n",
              "        vertical-align: top;\n",
              "    }\n",
              "\n",
              "    .dataframe thead th {\n",
              "        text-align: right;\n",
              "    }\n",
              "</style>\n",
              "<table border=\"1\" class=\"dataframe\">\n",
              "  <thead>\n",
              "    <tr style=\"text-align: right;\">\n",
              "      <th></th>\n",
              "      <th>question_id</th>\n",
              "      <th>bundle_id</th>\n",
              "      <th>correct_answer</th>\n",
              "      <th>part</th>\n",
              "      <th>tags</th>\n",
              "    </tr>\n",
              "  </thead>\n",
              "  <tbody>\n",
              "    <tr>\n",
              "      <th>10033</th>\n",
              "      <td>10033</td>\n",
              "      <td>10033</td>\n",
              "      <td>2</td>\n",
              "      <td>6</td>\n",
              "      <td>NaN</td>\n",
              "    </tr>\n",
              "  </tbody>\n",
              "</table>\n",
              "</div>"
            ],
            "text/plain": [
              "       question_id  bundle_id  correct_answer  part tags\n",
              "10033        10033      10033               2     6  NaN"
            ]
          },
          "metadata": {
            "tags": []
          },
          "execution_count": 41
        }
      ]
    },
    {
      "cell_type": "code",
      "metadata": {
        "colab": {
          "base_uri": "https://localhost:8080/",
          "height": 98
        },
        "id": "ERLD57epjROD",
        "outputId": "7ac40903-384e-42f5-b855-6b5ef4c1c0a0"
      },
      "source": [
        "train.query('content_id == \"10033\" and answered_correctly != -1')"
      ],
      "execution_count": null,
      "outputs": [
        {
          "output_type": "execute_result",
          "data": {
            "text/html": [
              "<div>\n",
              "<style scoped>\n",
              "    .dataframe tbody tr th:only-of-type {\n",
              "        vertical-align: middle;\n",
              "    }\n",
              "\n",
              "    .dataframe tbody tr th {\n",
              "        vertical-align: top;\n",
              "    }\n",
              "\n",
              "    .dataframe thead th {\n",
              "        text-align: right;\n",
              "    }\n",
              "</style>\n",
              "<table border=\"1\" class=\"dataframe\">\n",
              "  <thead>\n",
              "    <tr style=\"text-align: right;\">\n",
              "      <th></th>\n",
              "      <th>row_id</th>\n",
              "      <th>timestamp</th>\n",
              "      <th>user_id</th>\n",
              "      <th>content_id</th>\n",
              "      <th>content_type_id</th>\n",
              "      <th>task_container_id</th>\n",
              "      <th>user_answer</th>\n",
              "      <th>answered_correctly</th>\n",
              "      <th>prior_question_elapsed_time</th>\n",
              "      <th>prior_question_had_explanation</th>\n",
              "      <th>ts_bin</th>\n",
              "    </tr>\n",
              "  </thead>\n",
              "  <tbody>\n",
              "    <tr>\n",
              "      <th>62750278</th>\n",
              "      <td>62750278</td>\n",
              "      <td>1286282597</td>\n",
              "      <td>1333688829</td>\n",
              "      <td>10033</td>\n",
              "      <td>False</td>\n",
              "      <td>1127</td>\n",
              "      <td>2</td>\n",
              "      <td>1</td>\n",
              "      <td>35000.0</td>\n",
              "      <td>True</td>\n",
              "      <td>Bin_2</td>\n",
              "    </tr>\n",
              "  </tbody>\n",
              "</table>\n",
              "</div>"
            ],
            "text/plain": [
              "            row_id   timestamp  ...  prior_question_had_explanation  ts_bin\n",
              "62750278  62750278  1286282597  ...                            True   Bin_2\n",
              "\n",
              "[1 rows x 11 columns]"
            ]
          },
          "metadata": {
            "tags": []
          },
          "execution_count": 42
        }
      ]
    },
    {
      "cell_type": "code",
      "metadata": {
        "colab": {
          "base_uri": "https://localhost:8080/"
        },
        "id": "6ezVZdfpjbe6",
        "outputId": "cb44b894-89ac-4fbb-bf1f-cdc7a847532d"
      },
      "source": [
        "# Right vs Wrong\r\n",
        "questions['tags'] = questions['tags'].astype(str)\r\n",
        "tags = [x.split() for x in questions[questions.tags != 'nan'].tags.values]\r\n",
        "tags = [item for elem in tags for item in elem]\r\n",
        "tags = set(tags)\r\n",
        "tags = list(tags)\r\n",
        "print(f\"There are {len(tags)} different tags\")"
      ],
      "execution_count": null,
      "outputs": [
        {
          "output_type": "stream",
          "text": [
            "There are 188 different tags\n"
          ],
          "name": "stdout"
        }
      ]
    },
    {
      "cell_type": "code",
      "metadata": {
        "colab": {
          "base_uri": "https://localhost:8080/",
          "height": 198
        },
        "id": "AaHGD69ok6wl",
        "outputId": "6e5c24c2-0bc0-4945-e74f-714412a7ebb4"
      },
      "source": [
        "# Let's find out how many answeres were Right and Wrong per question_id\r\n",
        "tags_list = [x.split() for x in questions.tags.values]\r\n",
        "questions['tags'] = tags_list\r\n",
        "questions.head()\r\n",
        "\r\n",
        "correct = train[train.answered_correctly != -1].groupby(['content_id', 'answered_correctly'], as_index=False).size()\r\n",
        "correct = correct.pivot('content_id', 'answered_correctly', 'size')\r\n",
        "\r\n",
        "correct.columns = ['Wrong', 'Right']\r\n",
        "correct.fillna(0, inplace=True)\r\n",
        "\r\n",
        "correct[['Wrong', 'Right']] = correct[['Wrong', \"Right\"]].astype(int)\r\n",
        "questions = questions.merge(correct, left_on='question_id', right_on='content_id', how='left')\r\n",
        "questions.head()"
      ],
      "execution_count": null,
      "outputs": [
        {
          "output_type": "execute_result",
          "data": {
            "text/html": [
              "<div>\n",
              "<style scoped>\n",
              "    .dataframe tbody tr th:only-of-type {\n",
              "        vertical-align: middle;\n",
              "    }\n",
              "\n",
              "    .dataframe tbody tr th {\n",
              "        vertical-align: top;\n",
              "    }\n",
              "\n",
              "    .dataframe thead th {\n",
              "        text-align: right;\n",
              "    }\n",
              "</style>\n",
              "<table border=\"1\" class=\"dataframe\">\n",
              "  <thead>\n",
              "    <tr style=\"text-align: right;\">\n",
              "      <th></th>\n",
              "      <th>question_id</th>\n",
              "      <th>bundle_id</th>\n",
              "      <th>correct_answer</th>\n",
              "      <th>part</th>\n",
              "      <th>tags</th>\n",
              "      <th>Wrong</th>\n",
              "      <th>Right</th>\n",
              "    </tr>\n",
              "  </thead>\n",
              "  <tbody>\n",
              "    <tr>\n",
              "      <th>0</th>\n",
              "      <td>0</td>\n",
              "      <td>0</td>\n",
              "      <td>0</td>\n",
              "      <td>1</td>\n",
              "      <td>[51, 131, 162, 38]</td>\n",
              "      <td>637</td>\n",
              "      <td>6266</td>\n",
              "    </tr>\n",
              "    <tr>\n",
              "      <th>1</th>\n",
              "      <td>1</td>\n",
              "      <td>1</td>\n",
              "      <td>1</td>\n",
              "      <td>1</td>\n",
              "      <td>[131, 36, 81]</td>\n",
              "      <td>809</td>\n",
              "      <td>6589</td>\n",
              "    </tr>\n",
              "    <tr>\n",
              "      <th>2</th>\n",
              "      <td>2</td>\n",
              "      <td>2</td>\n",
              "      <td>0</td>\n",
              "      <td>1</td>\n",
              "      <td>[131, 101, 162, 92]</td>\n",
              "      <td>20015</td>\n",
              "      <td>24890</td>\n",
              "    </tr>\n",
              "    <tr>\n",
              "      <th>3</th>\n",
              "      <td>3</td>\n",
              "      <td>3</td>\n",
              "      <td>0</td>\n",
              "      <td>1</td>\n",
              "      <td>[131, 149, 162, 29]</td>\n",
              "      <td>5067</td>\n",
              "      <td>17906</td>\n",
              "    </tr>\n",
              "    <tr>\n",
              "      <th>4</th>\n",
              "      <td>4</td>\n",
              "      <td>4</td>\n",
              "      <td>3</td>\n",
              "      <td>1</td>\n",
              "      <td>[131, 5, 162, 38]</td>\n",
              "      <td>12275</td>\n",
              "      <td>19461</td>\n",
              "    </tr>\n",
              "  </tbody>\n",
              "</table>\n",
              "</div>"
            ],
            "text/plain": [
              "   question_id  bundle_id  correct_answer  ...                 tags  Wrong  Right\n",
              "0            0          0               0  ...   [51, 131, 162, 38]    637   6266\n",
              "1            1          1               1  ...        [131, 36, 81]    809   6589\n",
              "2            2          2               0  ...  [131, 101, 162, 92]  20015  24890\n",
              "3            3          3               0  ...  [131, 149, 162, 29]   5067  17906\n",
              "4            4          4               3  ...    [131, 5, 162, 38]  12275  19461\n",
              "\n",
              "[5 rows x 7 columns]"
            ]
          },
          "metadata": {
            "tags": []
          },
          "execution_count": 45
        }
      ]
    },
    {
      "cell_type": "code",
      "metadata": {
        "colab": {
          "base_uri": "https://localhost:8080/"
        },
        "id": "L63L8yeIpgY5",
        "outputId": "7b9ed463-3e59-48c9-99ee-b8a8f0606f34"
      },
      "source": [
        "%%time\r\n",
        "tags_df = pd.DataFrame()\r\n",
        "for x in range(len(tags)):\r\n",
        "    df = questions[questions.tags.apply(lambda l: tags[x] in l)]\r\n",
        "    df1 = df.agg({\"Wrong\" : ['sum'], 'Right' : ['sum']})\r\n",
        "    df1['Total_questions'] = df1.Wrong + df1.Right\r\n",
        "    df1['Question_ids_with_tag'] = len(df)\r\n",
        "    df1['tag'] = tags[x]\r\n",
        "    df1 = df1.set_index('tag')\r\n",
        "    tags_df = tags_df.append(df1)\r\n",
        "\r\n",
        "tags_df[['Wrong', 'Right', 'Total_questions']] = tags_df[['Wrong', 'Right', 'Total_questions']].astype(int)\r\n",
        "tags_df['Percent_correct'] = tags_df.Right / tags_df.Total_questions\r\n",
        "tags_df.head()"
      ],
      "execution_count": null,
      "outputs": [
        {
          "output_type": "stream",
          "text": [
            "CPU times: user 1.66 s, sys: 2.94 ms, total: 1.66 s\n",
            "Wall time: 1.66 s\n"
          ],
          "name": "stdout"
        }
      ]
    },
    {
      "cell_type": "code",
      "metadata": {
        "id": "KSS-rTxEwZXK"
      },
      "source": [
        "tags_df.sort_values(by = 'Percent_correct', inplace=True)"
      ],
      "execution_count": null,
      "outputs": []
    },
    {
      "cell_type": "code",
      "metadata": {
        "colab": {
          "base_uri": "https://localhost:8080/",
          "height": 228
        },
        "id": "tnsxa435sAUE",
        "outputId": "4a3889a5-6baf-45b0-e8c3-c20efc85976f"
      },
      "source": [
        "tags_df.head()"
      ],
      "execution_count": null,
      "outputs": [
        {
          "output_type": "execute_result",
          "data": {
            "text/html": [
              "<div>\n",
              "<style scoped>\n",
              "    .dataframe tbody tr th:only-of-type {\n",
              "        vertical-align: middle;\n",
              "    }\n",
              "\n",
              "    .dataframe tbody tr th {\n",
              "        vertical-align: top;\n",
              "    }\n",
              "\n",
              "    .dataframe thead th {\n",
              "        text-align: right;\n",
              "    }\n",
              "</style>\n",
              "<table border=\"1\" class=\"dataframe\">\n",
              "  <thead>\n",
              "    <tr style=\"text-align: right;\">\n",
              "      <th></th>\n",
              "      <th>Wrong</th>\n",
              "      <th>Right</th>\n",
              "      <th>Total_questions</th>\n",
              "      <th>Question_ids_with_tag</th>\n",
              "      <th>Percent_correct</th>\n",
              "    </tr>\n",
              "    <tr>\n",
              "      <th>tag</th>\n",
              "      <th></th>\n",
              "      <th></th>\n",
              "      <th></th>\n",
              "      <th></th>\n",
              "      <th></th>\n",
              "    </tr>\n",
              "  </thead>\n",
              "  <tbody>\n",
              "    <tr>\n",
              "      <th>24</th>\n",
              "      <td>157631</td>\n",
              "      <td>98982</td>\n",
              "      <td>256613</td>\n",
              "      <td>17</td>\n",
              "      <td>0.385725</td>\n",
              "    </tr>\n",
              "    <tr>\n",
              "      <th>23</th>\n",
              "      <td>261611</td>\n",
              "      <td>204293</td>\n",
              "      <td>465904</td>\n",
              "      <td>11</td>\n",
              "      <td>0.438487</td>\n",
              "    </tr>\n",
              "    <tr>\n",
              "      <th>19</th>\n",
              "      <td>173602</td>\n",
              "      <td>136367</td>\n",
              "      <td>309969</td>\n",
              "      <td>57</td>\n",
              "      <td>0.439938</td>\n",
              "    </tr>\n",
              "    <tr>\n",
              "      <th>151</th>\n",
              "      <td>272267</td>\n",
              "      <td>264913</td>\n",
              "      <td>537180</td>\n",
              "      <td>16</td>\n",
              "      <td>0.493155</td>\n",
              "    </tr>\n",
              "    <tr>\n",
              "      <th>167</th>\n",
              "      <td>170386</td>\n",
              "      <td>170681</td>\n",
              "      <td>341067</td>\n",
              "      <td>11</td>\n",
              "      <td>0.500432</td>\n",
              "    </tr>\n",
              "  </tbody>\n",
              "</table>\n",
              "</div>"
            ],
            "text/plain": [
              "      Wrong   Right  Total_questions  Question_ids_with_tag  Percent_correct\n",
              "tag                                                                         \n",
              "24   157631   98982           256613                     17         0.385725\n",
              "23   261611  204293           465904                     11         0.438487\n",
              "19   173602  136367           309969                     57         0.439938\n",
              "151  272267  264913           537180                     16         0.493155\n",
              "167  170386  170681           341067                     11         0.500432"
            ]
          },
          "metadata": {
            "tags": []
          },
          "execution_count": 48
        }
      ]
    },
    {
      "cell_type": "code",
      "metadata": {
        "colab": {
          "base_uri": "https://localhost:8080/",
          "height": 466
        },
        "id": "1RpIApzWsDQO",
        "outputId": "578b76cf-8685-4685-888b-85842b1d718b"
      },
      "source": [
        "select_rows = list(range(0,10)) + list(range(178, len(tags_df)))\r\n",
        "tags_select = tags_df.iloc[select_rows, 4]\r\n",
        "\r\n",
        "fig = plt.figure(figsize=(12, 6))\r\n",
        "x = tags_select.index\r\n",
        "y = tags_select.values\r\n",
        "\r\n",
        "clrs = ['red' if y < 0.6 else 'green' for y in tags_select.values]\r\n",
        "\r\n",
        "tags_select.plot.bar(x, y, color=clrs)\r\n",
        "plt.title(\"Ten hardest and ten eaisest tags\")\r\n",
        "plt.xlabel(\"Tag\")\r\n",
        "plt.ylabel(\"Percent answers correct of questions with the tag\")\r\n",
        "plt.show()"
      ],
      "execution_count": null,
      "outputs": [
        {
          "output_type": "display_data",
          "data": {
            "image/png": "[encoded data removed]",
            "text/plain": [
              "<Figure size 864x432 with 1 Axes>"
            ]
          },
          "metadata": {
            "tags": []
          }
        }
      ]
    },
    {
      "cell_type": "code",
      "metadata": {
        "colab": {
          "base_uri": "https://localhost:8080/",
          "height": 454
        },
        "id": "dwDMB-YkiUeS",
        "outputId": "fe8dffe4-2aef-4440-a307-94b2b680c321"
      },
      "source": [
        "tags_select = tags_df.sort_values(by = 'Total_questions', ascending=False).iloc[:30,:]\r\n",
        "tags_select = tags_select['Total_questions']\r\n",
        "fig = plt.figure(figsize=(12,6))\r\n",
        "ax = tags_select.plot.bar()\r\n",
        "plt.title(\"30 tags with most questions answered\")\r\n",
        "plt.xticks(rotation=90)\r\n",
        "plt.ticklabel_format(style='sci', axis='y')\r\n",
        "ax.get_yaxis().set_major_formatter(FuncFormatter(lambda x, p : format(int(x), ',')))\r\n",
        "plt.show()"
      ],
      "execution_count": null,
      "outputs": [
        {
          "output_type": "display_data",
          "data": {
            "image/png": "[encoded data removed]",
            "text/plain": [
              "<Figure size 864x432 with 1 Axes>"
            ]
          },
          "metadata": {
            "tags": []
          }
        }
      ]
    },
    {
      "cell_type": "code",
      "metadata": {
        "colab": {
          "base_uri": "https://localhost:8080/",
          "height": 198
        },
        "id": "XIsBxz6slYz0",
        "outputId": "2b4716ab-c42c-4d2d-fa9c-e44cf357c4dc"
      },
      "source": [
        "questions.head(5)"
      ],
      "execution_count": null,
      "outputs": [
        {
          "output_type": "execute_result",
          "data": {
            "text/html": [
              "<div>\n",
              "<style scoped>\n",
              "    .dataframe tbody tr th:only-of-type {\n",
              "        vertical-align: middle;\n",
              "    }\n",
              "\n",
              "    .dataframe tbody tr th {\n",
              "        vertical-align: top;\n",
              "    }\n",
              "\n",
              "    .dataframe thead th {\n",
              "        text-align: right;\n",
              "    }\n",
              "</style>\n",
              "<table border=\"1\" class=\"dataframe\">\n",
              "  <thead>\n",
              "    <tr style=\"text-align: right;\">\n",
              "      <th></th>\n",
              "      <th>question_id</th>\n",
              "      <th>bundle_id</th>\n",
              "      <th>correct_answer</th>\n",
              "      <th>part</th>\n",
              "      <th>tags</th>\n",
              "      <th>Wrong</th>\n",
              "      <th>Right</th>\n",
              "    </tr>\n",
              "  </thead>\n",
              "  <tbody>\n",
              "    <tr>\n",
              "      <th>0</th>\n",
              "      <td>0</td>\n",
              "      <td>0</td>\n",
              "      <td>0</td>\n",
              "      <td>1</td>\n",
              "      <td>[51, 131, 162, 38]</td>\n",
              "      <td>637</td>\n",
              "      <td>6266</td>\n",
              "    </tr>\n",
              "    <tr>\n",
              "      <th>1</th>\n",
              "      <td>1</td>\n",
              "      <td>1</td>\n",
              "      <td>1</td>\n",
              "      <td>1</td>\n",
              "      <td>[131, 36, 81]</td>\n",
              "      <td>809</td>\n",
              "      <td>6589</td>\n",
              "    </tr>\n",
              "    <tr>\n",
              "      <th>2</th>\n",
              "      <td>2</td>\n",
              "      <td>2</td>\n",
              "      <td>0</td>\n",
              "      <td>1</td>\n",
              "      <td>[131, 101, 162, 92]</td>\n",
              "      <td>20015</td>\n",
              "      <td>24890</td>\n",
              "    </tr>\n",
              "    <tr>\n",
              "      <th>3</th>\n",
              "      <td>3</td>\n",
              "      <td>3</td>\n",
              "      <td>0</td>\n",
              "      <td>1</td>\n",
              "      <td>[131, 149, 162, 29]</td>\n",
              "      <td>5067</td>\n",
              "      <td>17906</td>\n",
              "    </tr>\n",
              "    <tr>\n",
              "      <th>4</th>\n",
              "      <td>4</td>\n",
              "      <td>4</td>\n",
              "      <td>3</td>\n",
              "      <td>1</td>\n",
              "      <td>[131, 5, 162, 38]</td>\n",
              "      <td>12275</td>\n",
              "      <td>19461</td>\n",
              "    </tr>\n",
              "  </tbody>\n",
              "</table>\n",
              "</div>"
            ],
            "text/plain": [
              "   question_id  bundle_id  correct_answer  ...                 tags  Wrong  Right\n",
              "0            0          0               0  ...   [51, 131, 162, 38]    637   6266\n",
              "1            1          1               1  ...        [131, 36, 81]    809   6589\n",
              "2            2          2               0  ...  [131, 101, 162, 92]  20015  24890\n",
              "3            3          3               0  ...  [131, 149, 162, 29]   5067  17906\n",
              "4            4          4               3  ...    [131, 5, 162, 38]  12275  19461\n",
              "\n",
              "[5 rows x 7 columns]"
            ]
          },
          "metadata": {
            "tags": []
          },
          "execution_count": 64
        }
      ]
    },
    {
      "cell_type": "code",
      "metadata": {
        "colab": {
          "base_uri": "https://localhost:8080/",
          "height": 551
        },
        "id": "4bVZQDPukNVO",
        "outputId": "7d4fa899-f970-42a6-e5c1-e010fe060c9b"
      },
      "source": [
        "## parts analysis\r\n",
        "fig = plt.figure(figsize=(12, 8))\r\n",
        "ax1 = fig.add_subplot(211)\r\n",
        "ax1 = questions.groupby('part').count()['question_id'].plot.bar()\r\n",
        "plt.title(\"Counts of part\")\r\n",
        "plt.xlabel(\"Part\")\r\n",
        "plt.xticks(rotation=0)\r\n",
        "\r\n",
        "#ax2 = fig.add_subplots(212)\r\n",
        "part = questions.groupby('part').agg({'Wrong' : ['sum'], 'Right' : ['sum']})\r\n",
        "part['Percent_correct'] = part.Right / (part.Right + part.Wrong)\r\n",
        "part = part.iloc[:,2]\r\n",
        "\r\n",
        "ax2 = fig.add_subplot(212)\r\n",
        "plt.bar(part.index, part.values)\r\n",
        "for i, v in zip(part.index, part.values):\r\n",
        "    plt.text(i, v, round(v,2), color='white', fontweight='bold', fontsize=14, va='top', ha='center')\r\n",
        "plt.xlabel(\"part\")\r\n",
        "plt.xticks(rotation=0)\r\n",
        "plt.tight_layout(pad=2)\r\n",
        "plt.show()\r\n"
      ],
      "execution_count": null,
      "outputs": [
        {
          "output_type": "display_data",
          "data": {
            "image/png": "[encoded data removed]",
            "text/plain": [
              "<Figure size 864x576 with 2 Axes>"
            ]
          },
          "metadata": {
            "tags": []
          }
        }
      ]
    },
    {
      "cell_type": "code",
      "metadata": {
        "colab": {
          "base_uri": "https://localhost:8080/",
          "height": 198
        },
        "id": "-Kp5PnfgnKsk",
        "outputId": "14834705-40d8-4784-b107-a0f5c4b25989"
      },
      "source": [
        "## Exploring Lectures\r\n",
        "lectures = pd.read_csv(\"lectures.csv\")\r\n",
        "lectures.head()"
      ],
      "execution_count": null,
      "outputs": [
        {
          "output_type": "execute_result",
          "data": {
            "text/html": [
              "<div>\n",
              "<style scoped>\n",
              "    .dataframe tbody tr th:only-of-type {\n",
              "        vertical-align: middle;\n",
              "    }\n",
              "\n",
              "    .dataframe tbody tr th {\n",
              "        vertical-align: top;\n",
              "    }\n",
              "\n",
              "    .dataframe thead th {\n",
              "        text-align: right;\n",
              "    }\n",
              "</style>\n",
              "<table border=\"1\" class=\"dataframe\">\n",
              "  <thead>\n",
              "    <tr style=\"text-align: right;\">\n",
              "      <th></th>\n",
              "      <th>lecture_id</th>\n",
              "      <th>tag</th>\n",
              "      <th>part</th>\n",
              "      <th>type_of</th>\n",
              "    </tr>\n",
              "  </thead>\n",
              "  <tbody>\n",
              "    <tr>\n",
              "      <th>0</th>\n",
              "      <td>89</td>\n",
              "      <td>159</td>\n",
              "      <td>5</td>\n",
              "      <td>concept</td>\n",
              "    </tr>\n",
              "    <tr>\n",
              "      <th>1</th>\n",
              "      <td>100</td>\n",
              "      <td>70</td>\n",
              "      <td>1</td>\n",
              "      <td>concept</td>\n",
              "    </tr>\n",
              "    <tr>\n",
              "      <th>2</th>\n",
              "      <td>185</td>\n",
              "      <td>45</td>\n",
              "      <td>6</td>\n",
              "      <td>concept</td>\n",
              "    </tr>\n",
              "    <tr>\n",
              "      <th>3</th>\n",
              "      <td>192</td>\n",
              "      <td>79</td>\n",
              "      <td>5</td>\n",
              "      <td>solving question</td>\n",
              "    </tr>\n",
              "    <tr>\n",
              "      <th>4</th>\n",
              "      <td>317</td>\n",
              "      <td>156</td>\n",
              "      <td>5</td>\n",
              "      <td>solving question</td>\n",
              "    </tr>\n",
              "  </tbody>\n",
              "</table>\n",
              "</div>"
            ],
            "text/plain": [
              "   lecture_id  tag  part           type_of\n",
              "0          89  159     5           concept\n",
              "1         100   70     1           concept\n",
              "2         185   45     6           concept\n",
              "3         192   79     5  solving question\n",
              "4         317  156     5  solving question"
            ]
          },
          "metadata": {
            "tags": []
          },
          "execution_count": 75
        }
      ]
    },
    {
      "cell_type": "code",
      "metadata": {
        "colab": {
          "base_uri": "https://localhost:8080/"
        },
        "id": "22FxjJevncUt",
        "outputId": "2d465ed5-eaf7-4f99-ab84-950a672b7d71"
      },
      "source": [
        "print(f'There are {lectures.shape[0]} lecutre_ids.')"
      ],
      "execution_count": null,
      "outputs": [
        {
          "output_type": "stream",
          "text": [
            "There are 418 lecutre_ids.\n"
          ],
          "name": "stdout"
        }
      ]
    },
    {
      "cell_type": "code",
      "metadata": {
        "colab": {
          "base_uri": "https://localhost:8080/",
          "height": 442
        },
        "id": "3SKyIu_WnnJW",
        "outputId": "f5b1b04e-d9f7-4dab-e5d0-13fa9d7678c3"
      },
      "source": [
        "lect_type_of = lectures.type_of.value_counts()\r\n",
        "fig = plt.figure(figsize=(12, 6))\r\n",
        "plt.bar(lect_type_of.index, lect_type_of.values)\r\n",
        "for i, v in zip(lect_type_of.index, lect_type_of.values):\r\n",
        "    plt.text(i, v, v, color='black', fontweight='bold', va='bottom', ha='center', fontsize=14)\r\n",
        "\r\n",
        "plt.title(\"Types of lectures\")\r\n",
        "plt.xlabel(\"type_of\")\r\n",
        "plt.ylabel(\"Count lecture_id\")\r\n",
        "plt.xticks(rotation=0)\r\n",
        "plt.show()"
      ],
      "execution_count": null,
      "outputs": [
        {
          "output_type": "display_data",
          "data": {
            "image/png": "[encoded data removed]",
            "text/plain": [
              "<Figure size 864x432 with 1 Axes>"
            ]
          },
          "metadata": {
            "tags": []
          }
        }
      ]
    },
    {
      "cell_type": "code",
      "metadata": {
        "colab": {
          "base_uri": "https://localhost:8080/",
          "height": 320
        },
        "id": "cudMD342pAFy",
        "outputId": "bf3b47a0-46cc-44c7-f0e0-abebb66694a0"
      },
      "source": [
        "user_lect = train.groupby([\"user_id\", \"answered_correctly\"]).size().unstack()\r\n",
        "user_lect.columns = ['Lecture', 'Wrong', 'Right']\r\n",
        "user_lect['Lecture'] = user_lect['Lecture'].fillna(0)\r\n",
        "user_lect = user_lect.astype('Int64')\r\n",
        "user_lect['Watches_lecture'] = np.where(user_lect.Lecture > 0, True, False)\r\n",
        "\r\n",
        "watches_l = user_lect.groupby(\"Watches_lecture\").agg({\"Wrong\":['sum'], 'Right':['sum']})\r\n",
        "watches_l['Percent_correct'] = watches_l.Right / (watches_l.Right + watches_l.Wrong)\r\n",
        "\r\n",
        "watches_l = watches_l.iloc[:,2]\r\n",
        "\r\n",
        "fig = plt.figure(figsize=(12, 4))\r\n",
        "watches_l.plot.barh()\r\n",
        "for i, v in zip(watches_l.index, watches_l.values):\r\n",
        "    plt.text(i, v, round(v, 2), color='white', fontweight='bold', fontsize=14, ha='right', va='top')\r\n",
        "plt.title(\"User watches lectures: Percent_correct\")\r\n",
        "plt.xlabel(\"Percent correct\")\r\n",
        "plt.ylabel(\"User watched at least one lecture\")\r\n",
        "plt.xticks(rotation=0)\r\n",
        "plt.show()"
      ],
      "execution_count": null,
      "outputs": [
        {
          "output_type": "display_data",
          "data": {
            "image/png": "[encoded data removed]",
            "text/plain": [
              "<Figure size 864x288 with 1 Axes>"
            ]
          },
          "metadata": {
            "tags": []
          }
        }
      ]
    },
    {
      "cell_type": "code",
      "metadata": {
        "colab": {
          "base_uri": "https://localhost:8080/"
        },
        "id": "rscBiWTxzSUH",
        "outputId": "f06b8d59-a7f2-475a-911b-f2b2b9faf0ed"
      },
      "source": [
        "batch_lect = train.groupby(['task_container_id', 'answered_correctly']).size().unstack()\r\n",
        "batch_lect.columns = ['Lecture', 'Wrong', 'Right']\r\n",
        "batch_lect['Lecture'] = batch_lect['Lecture'].fillna(0)\r\n",
        "batch_lect['Lecture'] = batch_lect.astype('Int64')\r\n",
        "batch_lect[\"Percent_correct\"] = batch_lect.Right / (batch_lect.Right + batch_lect.Wrong)\r\n",
        "batch_lect[\"Percent_lecture\"] = batch_lect.Lecture / (batch_lect.Right + batch_lect.Wrong + batch_lect.Lecture)\r\n",
        "batch_lect = batch_lect.sort_values(by='Percent_lecture', ascending=False)\r\n",
        "\r\n",
        "print(f\"The highest container_batch is {batch_lect['Lecture'].max()}\")\r\n",
        "\r\n"
      ],
      "execution_count": null,
      "outputs": [
        {
          "output_type": "stream",
          "text": [
            "The highest container_batch is 5143\n"
          ],
          "name": "stdout"
        }
      ]
    },
    {
      "cell_type": "code",
      "metadata": {
        "colab": {
          "base_uri": "https://localhost:8080/",
          "height": 228
        },
        "id": "irROSSg21XoC",
        "outputId": "0a17235a-6a91-40be-df06-714016803177"
      },
      "source": [
        "batch_lect.head()"
      ],
      "execution_count": null,
      "outputs": [
        {
          "output_type": "execute_result",
          "data": {
            "text/html": [
              "<div>\n",
              "<style scoped>\n",
              "    .dataframe tbody tr th:only-of-type {\n",
              "        vertical-align: middle;\n",
              "    }\n",
              "\n",
              "    .dataframe tbody tr th {\n",
              "        vertical-align: top;\n",
              "    }\n",
              "\n",
              "    .dataframe thead th {\n",
              "        text-align: right;\n",
              "    }\n",
              "</style>\n",
              "<table border=\"1\" class=\"dataframe\">\n",
              "  <thead>\n",
              "    <tr style=\"text-align: right;\">\n",
              "      <th></th>\n",
              "      <th>Lecture</th>\n",
              "      <th>Wrong</th>\n",
              "      <th>Right</th>\n",
              "      <th>Percent_correct</th>\n",
              "      <th>Percent_lecture</th>\n",
              "    </tr>\n",
              "    <tr>\n",
              "      <th>task_container_id</th>\n",
              "      <th></th>\n",
              "      <th></th>\n",
              "      <th></th>\n",
              "      <th></th>\n",
              "      <th></th>\n",
              "    </tr>\n",
              "  </thead>\n",
              "  <tbody>\n",
              "    <tr>\n",
              "      <th>9096</th>\n",
              "      <td>8</td>\n",
              "      <td>57.0</td>\n",
              "      <td>191.0</td>\n",
              "      <td>0.770161</td>\n",
              "      <td>0.03125</td>\n",
              "    </tr>\n",
              "    <tr>\n",
              "      <th>270</th>\n",
              "      <td>2265</td>\n",
              "      <td>26105.0</td>\n",
              "      <td>52352.0</td>\n",
              "      <td>0.667270</td>\n",
              "      <td>0.0280593</td>\n",
              "    </tr>\n",
              "    <tr>\n",
              "      <th>477</th>\n",
              "      <td>1428</td>\n",
              "      <td>16166.0</td>\n",
              "      <td>33427.0</td>\n",
              "      <td>0.674027</td>\n",
              "      <td>0.0279885</td>\n",
              "    </tr>\n",
              "    <tr>\n",
              "      <th>253</th>\n",
              "      <td>2343</td>\n",
              "      <td>27380.0</td>\n",
              "      <td>54798.0</td>\n",
              "      <td>0.666821</td>\n",
              "      <td>0.0277209</td>\n",
              "    </tr>\n",
              "    <tr>\n",
              "      <th>351</th>\n",
              "      <td>1835</td>\n",
              "      <td>21225.0</td>\n",
              "      <td>43158.0</td>\n",
              "      <td>0.670332</td>\n",
              "      <td>0.0277115</td>\n",
              "    </tr>\n",
              "  </tbody>\n",
              "</table>\n",
              "</div>"
            ],
            "text/plain": [
              "                  Lecture    Wrong    Right  Percent_correct Percent_lecture\n",
              "task_container_id                                                           \n",
              "9096                    8     57.0    191.0         0.770161         0.03125\n",
              "270                  2265  26105.0  52352.0         0.667270       0.0280593\n",
              "477                  1428  16166.0  33427.0         0.674027       0.0279885\n",
              "253                  2343  27380.0  54798.0         0.666821       0.0277209\n",
              "351                  1835  21225.0  43158.0         0.670332       0.0277115"
            ]
          },
          "metadata": {
            "tags": []
          },
          "execution_count": 107
        }
      ]
    },
    {
      "cell_type": "code",
      "metadata": {
        "colab": {
          "base_uri": "https://localhost:8080/",
          "height": 460
        },
        "id": "6PTPN2Sy153f",
        "outputId": "c6971de1-35b4-46d1-ad2f-a986d12fcdce"
      },
      "source": [
        "# Percent Lecture vs Percent correct\r\n",
        "batch = batch_lect.iloc[:, 3:]\r\n",
        "fig = plt.figure(figsize=(12, 6))\r\n",
        "x = batch.Percent_lecture.astype('float').values\r\n",
        "y = batch.Percent_correct.astype('float').values\r\n",
        "\r\n",
        "z = np.polyfit(x, y, 1)\r\n",
        "p = np.poly1d(z)\r\n",
        "\r\n",
        "\r\n",
        "\r\n",
        "plt.scatter(x, y, marker='o')\r\n",
        "plt.plot(x, p(x), 'r--')\r\n",
        "plt.title(\"Percent lectures in a task_container versus percent answered correctly\")\r\n",
        "plt.xticks(rotation=0)\r\n",
        "plt.xlabel(\"Percent_lecture\")\r\n",
        "plt.ylabel(\"Percent_correct\")\r\n"
      ],
      "execution_count": null,
      "outputs": [
        {
          "output_type": "execute_result",
          "data": {
            "text/plain": [
              "Text(0, 0.5, 'Percent_correct')"
            ]
          },
          "metadata": {
            "tags": []
          },
          "execution_count": 113
        },
        {
          "output_type": "display_data",
          "data": {
            "image/png": "[encoded data removed]",
            "text/plain": [
              "<Figure size 864x432 with 1 Axes>"
            ]
          },
          "metadata": {
            "tags": []
          }
        }
      ]
    },
    {
      "cell_type": "code",
      "metadata": {
        "colab": {
          "base_uri": "https://localhost:8080/"
        },
        "id": "ZHK4lIbD3pAN",
        "outputId": "c039f350-725d-4d95-f32f-eb200297012d"
      },
      "source": [
        "# Has lecture vs else\r\n",
        "batch_lect['Has_lecture'] = np.where(batch_lect.Lecture == 0, False, True)\r\n",
        "print(f\"{batch_lect[batch_lect['Has_lecture']==False].shape[0]}, {batch_lect[batch_lect['Has_lecture']==True].shape[0]}\")"
      ],
      "execution_count": null,
      "outputs": [
        {
          "output_type": "stream",
          "text": [
            "631, 9369\n"
          ],
          "name": "stdout"
        }
      ]
    },
    {
      "cell_type": "code",
      "metadata": {
        "colab": {
          "base_uri": "https://localhost:8080/",
          "height": 138
        },
        "id": "3SuTNEjE3fWN",
        "outputId": "5d7482d9-5a48-4da7-f1fa-25703d277565"
      },
      "source": [
        "batch_lect_stat = batch_lect[[\"Wrong\", \"Right\", \"Has_lecture\"]]\r\n",
        "batch_lect_stat = batch_lect_stat.groupby(\"Has_lecture\").sum()\r\n",
        "batch_lect_stat['Percent_lecture'] = batch_lect_stat.Right / (batch_lect_stat.Right + batch_lect_stat.Wrong)\r\n",
        "batch_lect_stat[['Percent_lecture']]"
      ],
      "execution_count": null,
      "outputs": [
        {
          "output_type": "execute_result",
          "data": {
            "text/html": [
              "<div>\n",
              "<style scoped>\n",
              "    .dataframe tbody tr th:only-of-type {\n",
              "        vertical-align: middle;\n",
              "    }\n",
              "\n",
              "    .dataframe tbody tr th {\n",
              "        vertical-align: top;\n",
              "    }\n",
              "\n",
              "    .dataframe thead th {\n",
              "        text-align: right;\n",
              "    }\n",
              "</style>\n",
              "<table border=\"1\" class=\"dataframe\">\n",
              "  <thead>\n",
              "    <tr style=\"text-align: right;\">\n",
              "      <th></th>\n",
              "      <th>Percent_lecture</th>\n",
              "    </tr>\n",
              "    <tr>\n",
              "      <th>Has_lecture</th>\n",
              "      <th></th>\n",
              "    </tr>\n",
              "  </thead>\n",
              "  <tbody>\n",
              "    <tr>\n",
              "      <th>False</th>\n",
              "      <td>0.736412</td>\n",
              "    </tr>\n",
              "    <tr>\n",
              "      <th>True</th>\n",
              "      <td>0.657087</td>\n",
              "    </tr>\n",
              "  </tbody>\n",
              "</table>\n",
              "</div>"
            ],
            "text/plain": [
              "             Percent_lecture\n",
              "Has_lecture                 \n",
              "False               0.736412\n",
              "True                0.657087"
            ]
          },
          "metadata": {
            "tags": []
          },
          "execution_count": 121
        }
      ]
    },
    {
      "cell_type": "code",
      "metadata": {
        "colab": {
          "base_uri": "https://localhost:8080/",
          "height": 427
        },
        "id": "TuzjgJxm5veW",
        "outputId": "b769e042-28ce-4ab0-ec6e-ce17270ffb1b"
      },
      "source": [
        "#Example Test\r\n",
        "example_test = pd.read_csv(\"example_test.csv\")\r\n",
        "example_test"
      ],
      "execution_count": null,
      "outputs": [
        {
          "output_type": "execute_result",
          "data": {
            "text/html": [
              "<div>\n",
              "<style scoped>\n",
              "    .dataframe tbody tr th:only-of-type {\n",
              "        vertical-align: middle;\n",
              "    }\n",
              "\n",
              "    .dataframe tbody tr th {\n",
              "        vertical-align: top;\n",
              "    }\n",
              "\n",
              "    .dataframe thead th {\n",
              "        text-align: right;\n",
              "    }\n",
              "</style>\n",
              "<table border=\"1\" class=\"dataframe\">\n",
              "  <thead>\n",
              "    <tr style=\"text-align: right;\">\n",
              "      <th></th>\n",
              "      <th>row_id</th>\n",
              "      <th>group_num</th>\n",
              "      <th>timestamp</th>\n",
              "      <th>user_id</th>\n",
              "      <th>content_id</th>\n",
              "      <th>content_type_id</th>\n",
              "      <th>task_container_id</th>\n",
              "      <th>prior_question_elapsed_time</th>\n",
              "      <th>prior_question_had_explanation</th>\n",
              "      <th>prior_group_answers_correct</th>\n",
              "      <th>prior_group_responses</th>\n",
              "    </tr>\n",
              "  </thead>\n",
              "  <tbody>\n",
              "    <tr>\n",
              "      <th>0</th>\n",
              "      <td>0</td>\n",
              "      <td>0</td>\n",
              "      <td>0</td>\n",
              "      <td>275030867</td>\n",
              "      <td>5729</td>\n",
              "      <td>0</td>\n",
              "      <td>0</td>\n",
              "      <td>NaN</td>\n",
              "      <td>NaN</td>\n",
              "      <td>[]</td>\n",
              "      <td>[]</td>\n",
              "    </tr>\n",
              "    <tr>\n",
              "      <th>1</th>\n",
              "      <td>1</td>\n",
              "      <td>0</td>\n",
              "      <td>13309898705</td>\n",
              "      <td>554169193</td>\n",
              "      <td>12010</td>\n",
              "      <td>0</td>\n",
              "      <td>4427</td>\n",
              "      <td>19000.0</td>\n",
              "      <td>True</td>\n",
              "      <td>NaN</td>\n",
              "      <td>NaN</td>\n",
              "    </tr>\n",
              "    <tr>\n",
              "      <th>2</th>\n",
              "      <td>2</td>\n",
              "      <td>0</td>\n",
              "      <td>4213672059</td>\n",
              "      <td>1720860329</td>\n",
              "      <td>457</td>\n",
              "      <td>0</td>\n",
              "      <td>240</td>\n",
              "      <td>17000.0</td>\n",
              "      <td>True</td>\n",
              "      <td>NaN</td>\n",
              "      <td>NaN</td>\n",
              "    </tr>\n",
              "    <tr>\n",
              "      <th>3</th>\n",
              "      <td>3</td>\n",
              "      <td>0</td>\n",
              "      <td>62798072960</td>\n",
              "      <td>288641214</td>\n",
              "      <td>13262</td>\n",
              "      <td>0</td>\n",
              "      <td>266</td>\n",
              "      <td>23000.0</td>\n",
              "      <td>True</td>\n",
              "      <td>NaN</td>\n",
              "      <td>NaN</td>\n",
              "    </tr>\n",
              "    <tr>\n",
              "      <th>4</th>\n",
              "      <td>4</td>\n",
              "      <td>0</td>\n",
              "      <td>10585422061</td>\n",
              "      <td>1728340777</td>\n",
              "      <td>6119</td>\n",
              "      <td>0</td>\n",
              "      <td>162</td>\n",
              "      <td>72400.0</td>\n",
              "      <td>True</td>\n",
              "      <td>NaN</td>\n",
              "      <td>NaN</td>\n",
              "    </tr>\n",
              "    <tr>\n",
              "      <th>...</th>\n",
              "      <td>...</td>\n",
              "      <td>...</td>\n",
              "      <td>...</td>\n",
              "      <td>...</td>\n",
              "      <td>...</td>\n",
              "      <td>...</td>\n",
              "      <td>...</td>\n",
              "      <td>...</td>\n",
              "      <td>...</td>\n",
              "      <td>...</td>\n",
              "      <td>...</td>\n",
              "    </tr>\n",
              "    <tr>\n",
              "      <th>99</th>\n",
              "      <td>104</td>\n",
              "      <td>3</td>\n",
              "      <td>13167339284</td>\n",
              "      <td>1900527744</td>\n",
              "      <td>3004</td>\n",
              "      <td>0</td>\n",
              "      <td>1179</td>\n",
              "      <td>24667.0</td>\n",
              "      <td>True</td>\n",
              "      <td>NaN</td>\n",
              "      <td>NaN</td>\n",
              "    </tr>\n",
              "    <tr>\n",
              "      <th>100</th>\n",
              "      <td>105</td>\n",
              "      <td>3</td>\n",
              "      <td>13167339284</td>\n",
              "      <td>1900527744</td>\n",
              "      <td>3003</td>\n",
              "      <td>0</td>\n",
              "      <td>1179</td>\n",
              "      <td>24667.0</td>\n",
              "      <td>True</td>\n",
              "      <td>NaN</td>\n",
              "      <td>NaN</td>\n",
              "    </tr>\n",
              "    <tr>\n",
              "      <th>101</th>\n",
              "      <td>106</td>\n",
              "      <td>3</td>\n",
              "      <td>64497673060</td>\n",
              "      <td>7792299</td>\n",
              "      <td>7908</td>\n",
              "      <td>0</td>\n",
              "      <td>676</td>\n",
              "      <td>19000.0</td>\n",
              "      <td>True</td>\n",
              "      <td>NaN</td>\n",
              "      <td>NaN</td>\n",
              "    </tr>\n",
              "    <tr>\n",
              "      <th>102</th>\n",
              "      <td>107</td>\n",
              "      <td>3</td>\n",
              "      <td>62798166743</td>\n",
              "      <td>288641214</td>\n",
              "      <td>9077</td>\n",
              "      <td>0</td>\n",
              "      <td>269</td>\n",
              "      <td>25000.0</td>\n",
              "      <td>True</td>\n",
              "      <td>NaN</td>\n",
              "      <td>NaN</td>\n",
              "    </tr>\n",
              "    <tr>\n",
              "      <th>103</th>\n",
              "      <td>108</td>\n",
              "      <td>3</td>\n",
              "      <td>2059176357</td>\n",
              "      <td>2018567473</td>\n",
              "      <td>12119</td>\n",
              "      <td>0</td>\n",
              "      <td>591</td>\n",
              "      <td>20000.0</td>\n",
              "      <td>True</td>\n",
              "      <td>NaN</td>\n",
              "      <td>NaN</td>\n",
              "    </tr>\n",
              "  </tbody>\n",
              "</table>\n",
              "<p>104 rows × 11 columns</p>\n",
              "</div>"
            ],
            "text/plain": [
              "     row_id  group_num  ...  prior_group_answers_correct  prior_group_responses\n",
              "0         0          0  ...                           []                     []\n",
              "1         1          0  ...                          NaN                    NaN\n",
              "2         2          0  ...                          NaN                    NaN\n",
              "3         3          0  ...                          NaN                    NaN\n",
              "4         4          0  ...                          NaN                    NaN\n",
              "..      ...        ...  ...                          ...                    ...\n",
              "99      104          3  ...                          NaN                    NaN\n",
              "100     105          3  ...                          NaN                    NaN\n",
              "101     106          3  ...                          NaN                    NaN\n",
              "102     107          3  ...                          NaN                    NaN\n",
              "103     108          3  ...                          NaN                    NaN\n",
              "\n",
              "[104 rows x 11 columns]"
            ]
          },
          "metadata": {
            "tags": []
          },
          "execution_count": 123
        }
      ]
    },
    {
      "cell_type": "code",
      "metadata": {
        "colab": {
          "base_uri": "https://localhost:8080/"
        },
        "id": "ZnKs2ngs50aY",
        "outputId": "80012375-5a44-437e-be71-65a278829199"
      },
      "source": [
        "batches_test = set(list(example_test.task_container_id.unique()))\r\n",
        "batches_train = set(list(train.task_container_id.unique()))\r\n",
        "print(batches_test.issubset(batches_train))"
      ],
      "execution_count": null,
      "outputs": [
        {
          "output_type": "stream",
          "text": [
            "True\n"
          ],
          "name": "stdout"
        }
      ]
    },
    {
      "cell_type": "code",
      "metadata": {
        "colab": {
          "base_uri": "https://localhost:8080/"
        },
        "id": "pAJaZ60a8oJ6",
        "outputId": "3d7eac82-62ea-4040-b9e5-a08f3fa8a3f8"
      },
      "source": [
        "user_id_test = set(list(example_test.user_id))\r\n",
        "user_id_train = set(list(train.user_id))\r\n",
        "print(user_id_test - user_id_train)"
      ],
      "execution_count": null,
      "outputs": [
        {
          "output_type": "stream",
          "text": [
            "{275030867}\n"
          ],
          "name": "stdout"
        }
      ]
    },
    {
      "cell_type": "code",
      "metadata": {
        "id": "DH0NYA9h836O"
      },
      "source": [
        "### BaseLine Model\r\n",
        "### Clear everything loaded except libraries\r\n",
        "%reset -f"
      ],
      "execution_count": null,
      "outputs": []
    },
    {
      "cell_type": "code",
      "metadata": {
        "colab": {
          "base_uri": "https://localhost:8080/"
        },
        "id": "vy4UjaeX9dAl",
        "outputId": "6d77a6d2-53cb-46f7-815d-6eb7e6de08a5"
      },
      "source": [
        "import os\r\n",
        "os.listdir()"
      ],
      "execution_count": null,
      "outputs": [
        {
          "output_type": "execute_result",
          "data": {
            "text/plain": [
              "['.config',\n",
              " 'competition.cpython-37m-x86_64-linux-gnu.so',\n",
              " 'riiideducation',\n",
              " 'questions.csv',\n",
              " 'train.csv',\n",
              " 'gdrive',\n",
              " 'example_test.csv',\n",
              " 'lectures.csv',\n",
              " 'example_sample_submission.csv',\n",
              " 'riid',\n",
              " 'kaggle.json',\n",
              " 'train.csv.zip',\n",
              " 'riideducation',\n",
              " '__init__.py',\n",
              " 'sample_data']"
            ]
          },
          "metadata": {
            "tags": []
          },
          "execution_count": 2
        }
      ]
    },
    {
      "cell_type": "code",
      "metadata": {
        "id": "bh_0k9n59i7F"
      },
      "source": [
        "os.makedirs(\"riiideducation\", exist_ok=True)\r\n",
        "!cp __init__.py riideducation\r\n",
        "!cp competition.cpython-37m-x86_64-linux-gnu.so riideducation"
      ],
      "execution_count": null,
      "outputs": []
    },
    {
      "cell_type": "code",
      "metadata": {
        "id": "FBSCUUyc9NHb"
      },
      "source": [
        "import numpy as np\r\n",
        "import pandas as pd\r\n",
        "import riiideducation\r\n",
        "import matplotlib.pyplot as plt\r\n",
        "%matplotlib inline\r\n",
        "import matplotlib.style as style\r\n",
        "style.use('fivethirtyeight')\r\n",
        "import seaborn as sns\r\n",
        "import os\r\n",
        "import lightgbm as lgb\r\n",
        "from sklearn.metrics import roc_auc_score\r\n",
        "from sklearn.preprocessing import LabelEncoder\r\n",
        "import gc\r\n",
        "import sys\r\n",
        "# pd.set_option('display.max_rows', None)"
      ],
      "execution_count": null,
      "outputs": []
    },
    {
      "cell_type": "code",
      "metadata": {
        "colab": {
          "base_uri": "https://localhost:8080/"
        },
        "id": "hfee5Nt69V7h",
        "outputId": "0e52de9a-6711-4faf-9fb3-13ea7d36f0bd"
      },
      "source": [
        "# Train load\r\n",
        "%%time\r\n",
        "cols_to_load = ['timestamp', 'user_id', 'answered_correctly', 'content_id',\r\n",
        "                'prior_question_had_explanation', 'prior_question_elapsed_time']\r\n",
        "train = pd.read_csv(\"train.csv\")[cols_to_load]\r\n",
        "train['prior_question_had_explanation'] = train['prior_question_had_explanation'].astype('boolean')\r\n",
        "print(f\"Train size:{train.shape}\") "
      ],
      "execution_count": null,
      "outputs": [
        {
          "output_type": "stream",
          "text": [
            "Train size:(101230332, 7)\n",
            "CPU times: user 1min 14s, sys: 26.4 s, total: 1min 41s\n",
            "Wall time: 1min 48s\n"
          ],
          "name": "stdout"
        }
      ]
    },
    {
      "cell_type": "code",
      "metadata": {
        "colab": {
          "base_uri": "https://localhost:8080/"
        },
        "id": "nYwdrze4_fGz",
        "outputId": "9447561d-675c-4ba6-9d89-99e0c5c56647"
      },
      "source": [
        "%%time\r\n",
        "questions = pd.read_csv('questions.csv')\r\n",
        "lectures = pd.read_csv('lectures.csv')\r\n",
        "example_test = pd.read_csv(\"example_test.csv\")\r\n",
        "example_sample_submission = pd.read_csv(\"example_sample_submission.csv\")"
      ],
      "execution_count": null,
      "outputs": [
        {
          "output_type": "stream",
          "text": [
            "CPU times: user 14.4 ms, sys: 6.16 ms, total: 20.6 ms\n",
            "Wall time: 31.5 ms\n"
          ],
          "name": "stdout"
        }
      ]
    },
    {
      "cell_type": "code",
      "metadata": {
        "id": "h94HFmkYC_UA"
      },
      "source": [
        "user_df = train[train.answered_correctly != -1].groupby('user_id').agg({\"answered_correctly\" : ['count', 'mean']})"
      ],
      "execution_count": null,
      "outputs": []
    },
    {
      "cell_type": "code",
      "metadata": {
        "colab": {
          "base_uri": "https://localhost:8080/",
          "height": 198
        },
        "id": "wVr1yxjGAoE0",
        "outputId": "dbd4605a-f53d-40c8-801d-0e6f61a0e201"
      },
      "source": [
        "## Adding user features\r\n",
        "user_df = train[train.answered_correctly != -1].groupby('user_id').agg({\"answered_correctly\" : ['count', 'mean']}).reset_index()\r\n",
        "user_df.columns = ['user_id', 'user_questions', 'user_mean']\r\n",
        "\r\n",
        "user_lect = train.groupby(['user_id', 'answered_correctly']).size().unstack()\r\n",
        "user_lect.columns = ['Lecture', 'Wrong', \"Right\"]\r\n",
        "user_lect[\"Lecture\"] = user_lect[\"Lecture\"].fillna(0)\r\n",
        "user_lect = user_lect.astype(\"Int64\")\r\n",
        "user_lect['watches_lecture'] = np.where(user_lect.Lecture > 0, 1, 0)\r\n",
        "user_lect = user_lect.reset_index()\r\n",
        "user_lect = user_lect[['user_id', 'watches_lecture']]\r\n",
        "\r\n",
        "user_df = user_df.merge(user_lect, on='user_id', how='left')\r\n",
        "del user_lect\r\n",
        "user_df.head()"
      ],
      "execution_count": null,
      "outputs": [
        {
          "output_type": "execute_result",
          "data": {
            "text/html": [
              "<div>\n",
              "<style scoped>\n",
              "    .dataframe tbody tr th:only-of-type {\n",
              "        vertical-align: middle;\n",
              "    }\n",
              "\n",
              "    .dataframe tbody tr th {\n",
              "        vertical-align: top;\n",
              "    }\n",
              "\n",
              "    .dataframe thead th {\n",
              "        text-align: right;\n",
              "    }\n",
              "</style>\n",
              "<table border=\"1\" class=\"dataframe\">\n",
              "  <thead>\n",
              "    <tr style=\"text-align: right;\">\n",
              "      <th></th>\n",
              "      <th>user_id</th>\n",
              "      <th>user_questions</th>\n",
              "      <th>user_mean</th>\n",
              "      <th>watches_lecture</th>\n",
              "    </tr>\n",
              "  </thead>\n",
              "  <tbody>\n",
              "    <tr>\n",
              "      <th>0</th>\n",
              "      <td>115</td>\n",
              "      <td>46</td>\n",
              "      <td>0.695652</td>\n",
              "      <td>0</td>\n",
              "    </tr>\n",
              "    <tr>\n",
              "      <th>1</th>\n",
              "      <td>124</td>\n",
              "      <td>30</td>\n",
              "      <td>0.233333</td>\n",
              "      <td>0</td>\n",
              "    </tr>\n",
              "    <tr>\n",
              "      <th>2</th>\n",
              "      <td>2746</td>\n",
              "      <td>19</td>\n",
              "      <td>0.578947</td>\n",
              "      <td>1</td>\n",
              "    </tr>\n",
              "    <tr>\n",
              "      <th>3</th>\n",
              "      <td>5382</td>\n",
              "      <td>125</td>\n",
              "      <td>0.672000</td>\n",
              "      <td>1</td>\n",
              "    </tr>\n",
              "    <tr>\n",
              "      <th>4</th>\n",
              "      <td>8623</td>\n",
              "      <td>109</td>\n",
              "      <td>0.642202</td>\n",
              "      <td>1</td>\n",
              "    </tr>\n",
              "  </tbody>\n",
              "</table>\n",
              "</div>"
            ],
            "text/plain": [
              "   user_id  user_questions  user_mean  watches_lecture\n",
              "0      115              46   0.695652                0\n",
              "1      124              30   0.233333                0\n",
              "2     2746              19   0.578947                1\n",
              "3     5382             125   0.672000                1\n",
              "4     8623             109   0.642202                1"
            ]
          },
          "metadata": {
            "tags": []
          },
          "execution_count": 7
        }
      ]
    },
    {
      "cell_type": "code",
      "metadata": {
        "id": "nNsCyxrAFZA9"
      },
      "source": [
        "## adding content_feature\r\n",
        "content_df = train[train.answered_correctly != -1].groupby('content_id').agg({'answered_correctly':['count','mean']}).reset_index()\r\n",
        "content_df.columns = ['content_id', 'content_questions', 'content_mean']"
      ],
      "execution_count": null,
      "outputs": []
    },
    {
      "cell_type": "code",
      "metadata": {
        "id": "b4qmEXj2Yd7i"
      },
      "source": [
        "## adding prior question information\r\n",
        "## pq = train[train.answered_correctly != -1].groupby(['prior_question_had_explanation'], dropna=False).agg({\"answered_correctly\" : ['mean'], ['count']})\r\n",
        "## pq = pq.iloc[:, 0]\r\n"
      ],
      "execution_count": null,
      "outputs": []
    },
    {
      "cell_type": "code",
      "metadata": {
        "id": "B-VY6e6NF1QX"
      },
      "source": [
        "mean_prior = train.prior_question_elapsed_time.astype('float64').mean()"
      ],
      "execution_count": null,
      "outputs": []
    },
    {
      "cell_type": "code",
      "metadata": {
        "id": "VolW3TL8Huj0"
      },
      "source": [
        "# Bin information add\r\n",
        "bin_labels_5 = ['Bin_1', 'Bin_2', 'Bin_3', 'Bin_4', 'Bin_5']\r\n",
        "train['ts_bin'] = pd.qcut(train['timestamp'], q=5, labels=bin_labels_5)\r\n",
        "\r\n",
        "\r\n",
        "def correct(field):\r\n",
        "    correct = train[train.answered_correctly != -1].groupby([field, 'user_id','answered_correctly'], as_index=False).size()\r\n",
        "    correct = correct.pivot(index = [field,'user_id'], columns='answered_correctly', values='size')\r\n",
        "    correct['Bin_Percent_correct'] = round(correct.iloc[:,1] / (correct.iloc[:,0] + correct.iloc[:,1]),2)\r\n",
        "    correct = correct.iloc[:,2].reset_index()\r\n",
        "    return correct\r\n",
        "\r\n",
        "bins_correct = correct('ts_bin')\r\n",
        "#bins_correct = bins_correct.to_dict()\r\n",
        "#train['ts_bin_acc'] = train['ts_bin'].apply(bins_correct)"
      ],
      "execution_count": null,
      "outputs": []
    },
    {
      "cell_type": "code",
      "metadata": {
        "id": "0C5zmQMVW1Ka"
      },
      "source": [
        "train = train.merge(bins_correct, how='left', on=['ts_bin','user_id'])"
      ],
      "execution_count": null,
      "outputs": []
    },
    {
      "cell_type": "code",
      "metadata": {
        "id": "sniv-euitvrD"
      },
      "source": [
        "# Prior question had explanation -> 이미 반영되어 있음\r\n",
        "# Prior question elapsed time -> 의미 없음\r\n"
      ],
      "execution_count": null,
      "outputs": []
    },
    {
      "cell_type": "code",
      "metadata": {
        "id": "WqHZ4BYYuxSj"
      },
      "source": [
        "# Questions check\r\n",
        "os.listdir()\r\n",
        "questions = pd.read_csv(\"questions.csv\")"
      ],
      "execution_count": null,
      "outputs": []
    },
    {
      "cell_type": "code",
      "metadata": {
        "id": "GuaswmOs_G94"
      },
      "source": [
        "questions['tags'] = questions['tags'].astype(str)\r\n",
        "tags = [x.split() for x in questions[questions.tags != \"nan\"].tags.values]\r\n",
        "tags = [item for elem in tags for item in elem]\r\n",
        "tags = set(tags)\r\n",
        "tags = list(tags)"
      ],
      "execution_count": null,
      "outputs": []
    },
    {
      "cell_type": "code",
      "metadata": {
        "id": "5KLsnVeV8mwC",
        "colab": {
          "base_uri": "https://localhost:8080/",
          "height": 198
        },
        "outputId": "aa300188-f527-4cd7-c8c5-7a61457346ba"
      },
      "source": [
        "tags_list = [x.split() for x in questions.tags.values]\r\n",
        "questions['tags'] = tags_list\r\n",
        "\r\n",
        "correct = train[train.answered_correctly != -1].groupby([\"content_id\", \"answered_correctly\"], as_index=False).size()\r\n",
        "correct = correct.pivot(\"content_id\", \"answered_correctly\", \"size\")\r\n",
        "correct.columns = ['Wrong', 'Right']\r\n",
        "correct = correct.fillna(0)\r\n",
        "correct[['Wrong', 'Right']] = correct[['Wrong', 'Right']].astype(int)\r\n",
        "questions = questions.merge(correct, left_on=\"question_id\", right_on=\"content_id\", how='left')\r\n",
        "questions.head()"
      ],
      "execution_count": null,
      "outputs": [
        {
          "output_type": "execute_result",
          "data": {
            "text/html": [
              "<div>\n",
              "<style scoped>\n",
              "    .dataframe tbody tr th:only-of-type {\n",
              "        vertical-align: middle;\n",
              "    }\n",
              "\n",
              "    .dataframe tbody tr th {\n",
              "        vertical-align: top;\n",
              "    }\n",
              "\n",
              "    .dataframe thead th {\n",
              "        text-align: right;\n",
              "    }\n",
              "</style>\n",
              "<table border=\"1\" class=\"dataframe\">\n",
              "  <thead>\n",
              "    <tr style=\"text-align: right;\">\n",
              "      <th></th>\n",
              "      <th>question_id</th>\n",
              "      <th>bundle_id</th>\n",
              "      <th>correct_answer</th>\n",
              "      <th>part</th>\n",
              "      <th>tags</th>\n",
              "      <th>Wrong</th>\n",
              "      <th>Right</th>\n",
              "    </tr>\n",
              "  </thead>\n",
              "  <tbody>\n",
              "    <tr>\n",
              "      <th>0</th>\n",
              "      <td>0</td>\n",
              "      <td>0</td>\n",
              "      <td>0</td>\n",
              "      <td>1</td>\n",
              "      <td>[51, 131, 162, 38]</td>\n",
              "      <td>637</td>\n",
              "      <td>6266</td>\n",
              "    </tr>\n",
              "    <tr>\n",
              "      <th>1</th>\n",
              "      <td>1</td>\n",
              "      <td>1</td>\n",
              "      <td>1</td>\n",
              "      <td>1</td>\n",
              "      <td>[131, 36, 81]</td>\n",
              "      <td>809</td>\n",
              "      <td>6589</td>\n",
              "    </tr>\n",
              "    <tr>\n",
              "      <th>2</th>\n",
              "      <td>2</td>\n",
              "      <td>2</td>\n",
              "      <td>0</td>\n",
              "      <td>1</td>\n",
              "      <td>[131, 101, 162, 92]</td>\n",
              "      <td>20015</td>\n",
              "      <td>24890</td>\n",
              "    </tr>\n",
              "    <tr>\n",
              "      <th>3</th>\n",
              "      <td>3</td>\n",
              "      <td>3</td>\n",
              "      <td>0</td>\n",
              "      <td>1</td>\n",
              "      <td>[131, 149, 162, 29]</td>\n",
              "      <td>5067</td>\n",
              "      <td>17906</td>\n",
              "    </tr>\n",
              "    <tr>\n",
              "      <th>4</th>\n",
              "      <td>4</td>\n",
              "      <td>4</td>\n",
              "      <td>3</td>\n",
              "      <td>1</td>\n",
              "      <td>[131, 5, 162, 38]</td>\n",
              "      <td>12275</td>\n",
              "      <td>19461</td>\n",
              "    </tr>\n",
              "  </tbody>\n",
              "</table>\n",
              "</div>"
            ],
            "text/plain": [
              "   question_id  bundle_id  correct_answer  ...                 tags  Wrong  Right\n",
              "0            0          0               0  ...   [51, 131, 162, 38]    637   6266\n",
              "1            1          1               1  ...        [131, 36, 81]    809   6589\n",
              "2            2          2               0  ...  [131, 101, 162, 92]  20015  24890\n",
              "3            3          3               0  ...  [131, 149, 162, 29]   5067  17906\n",
              "4            4          4               3  ...    [131, 5, 162, 38]  12275  19461\n",
              "\n",
              "[5 rows x 7 columns]"
            ]
          },
          "metadata": {
            "tags": []
          },
          "execution_count": 14
        }
      ]
    },
    {
      "cell_type": "code",
      "metadata": {
        "colab": {
          "base_uri": "https://localhost:8080/",
          "height": 228
        },
        "id": "B2I0H3IN-_83",
        "outputId": "beb4f3a4-c813-4449-9e53-1f077cdeb738"
      },
      "source": [
        "## Tag information\r\n",
        "tags_df = pd.DataFrame()\r\n",
        "for x in range(len(tags)):\r\n",
        "    df = questions[questions.tags.apply(lambda l : tags[x] in l)]\r\n",
        "    df1 = df.agg({\"Wrong\" : ['sum'], \"Right\" : ['sum']})\r\n",
        "    df1['Total_questions'] = df1.Wrong + df1.Right\r\n",
        "    df1['Question_ids_with_tag'] = len(df)\r\n",
        "    df1['tag'] = tags[x]\r\n",
        "    df1 = df1.set_index('tag')\r\n",
        "    tags_df = tags_df.append(df1)\r\n",
        "\r\n",
        "tags_df[[\"Wrong\", \"Right\", \"Total_questions\"]] = tags_df[['Wrong', \"Right\", \"Total_questions\"]].astype(int)\r\n",
        "tags_df[\"Tags_Percent_correct\"] = tags_df.Right / tags_df.Total_questions\r\n",
        "#tags_df = tags_df.reset_index()\r\n",
        "tags_df = tags_df.sort_values(by = \"Tags_Percent_correct\")\r\n",
        "tags_df.head()"
      ],
      "execution_count": null,
      "outputs": [
        {
          "output_type": "execute_result",
          "data": {
            "text/html": [
              "<div>\n",
              "<style scoped>\n",
              "    .dataframe tbody tr th:only-of-type {\n",
              "        vertical-align: middle;\n",
              "    }\n",
              "\n",
              "    .dataframe tbody tr th {\n",
              "        vertical-align: top;\n",
              "    }\n",
              "\n",
              "    .dataframe thead th {\n",
              "        text-align: right;\n",
              "    }\n",
              "</style>\n",
              "<table border=\"1\" class=\"dataframe\">\n",
              "  <thead>\n",
              "    <tr style=\"text-align: right;\">\n",
              "      <th></th>\n",
              "      <th>Wrong</th>\n",
              "      <th>Right</th>\n",
              "      <th>Total_questions</th>\n",
              "      <th>Question_ids_with_tag</th>\n",
              "      <th>Tags_Percent_correct</th>\n",
              "    </tr>\n",
              "    <tr>\n",
              "      <th>tag</th>\n",
              "      <th></th>\n",
              "      <th></th>\n",
              "      <th></th>\n",
              "      <th></th>\n",
              "      <th></th>\n",
              "    </tr>\n",
              "  </thead>\n",
              "  <tbody>\n",
              "    <tr>\n",
              "      <th>24</th>\n",
              "      <td>157631</td>\n",
              "      <td>98982</td>\n",
              "      <td>256613</td>\n",
              "      <td>17</td>\n",
              "      <td>0.385725</td>\n",
              "    </tr>\n",
              "    <tr>\n",
              "      <th>23</th>\n",
              "      <td>261611</td>\n",
              "      <td>204293</td>\n",
              "      <td>465904</td>\n",
              "      <td>11</td>\n",
              "      <td>0.438487</td>\n",
              "    </tr>\n",
              "    <tr>\n",
              "      <th>19</th>\n",
              "      <td>173602</td>\n",
              "      <td>136367</td>\n",
              "      <td>309969</td>\n",
              "      <td>57</td>\n",
              "      <td>0.439938</td>\n",
              "    </tr>\n",
              "    <tr>\n",
              "      <th>151</th>\n",
              "      <td>272267</td>\n",
              "      <td>264913</td>\n",
              "      <td>537180</td>\n",
              "      <td>16</td>\n",
              "      <td>0.493155</td>\n",
              "    </tr>\n",
              "    <tr>\n",
              "      <th>167</th>\n",
              "      <td>170386</td>\n",
              "      <td>170681</td>\n",
              "      <td>341067</td>\n",
              "      <td>11</td>\n",
              "      <td>0.500432</td>\n",
              "    </tr>\n",
              "  </tbody>\n",
              "</table>\n",
              "</div>"
            ],
            "text/plain": [
              "      Wrong   Right  ...  Question_ids_with_tag  Tags_Percent_correct\n",
              "tag                  ...                                             \n",
              "24   157631   98982  ...                     17              0.385725\n",
              "23   261611  204293  ...                     11              0.438487\n",
              "19   173602  136367  ...                     57              0.439938\n",
              "151  272267  264913  ...                     16              0.493155\n",
              "167  170386  170681  ...                     11              0.500432\n",
              "\n",
              "[5 rows x 5 columns]"
            ]
          },
          "metadata": {
            "tags": []
          },
          "execution_count": 15
        }
      ]
    },
    {
      "cell_type": "code",
      "metadata": {
        "id": "ytawecGc1Z4o"
      },
      "source": [
        "tags_df = tags_df.reset_index()\r\n",
        "#tags_df['tag'] = tags_df['tag']\r\n",
        "tag_percent_dict = tags_df[['tag', 'Tags_Percent_correct']].set_index('tag').to_dict()"
      ],
      "execution_count": null,
      "outputs": []
    },
    {
      "cell_type": "code",
      "metadata": {
        "id": "FRLrtE8K2Lix"
      },
      "source": [
        "def tag_to_question(tags):\r\n",
        "    sum = 0\r\n",
        "    try:\r\n",
        "      for x in tags:\r\n",
        "          sum += tag_percent_dict[\"Tags_Percent_correct\"][x]\r\n",
        "      return sum / len(tags)\r\n",
        "    except:\r\n",
        "        return 0\r\n",
        "\r\n",
        "questions[\"Tag_Percent_Correct\"] = questions['tags'].apply(tag_to_question)"
      ],
      "execution_count": null,
      "outputs": []
    },
    {
      "cell_type": "code",
      "metadata": {
        "colab": {
          "base_uri": "https://localhost:8080/",
          "height": 218
        },
        "id": "uVYP2uuAw5y2",
        "outputId": "445ba7ef-a998-4a2e-aa15-3aa2aed66be8"
      },
      "source": [
        "## part별 정확도 및 part 대비 그사람의 정확도\r\n",
        "train.head()"
      ],
      "execution_count": null,
      "outputs": [
        {
          "output_type": "execute_result",
          "data": {
            "text/html": [
              "<div>\n",
              "<style scoped>\n",
              "    .dataframe tbody tr th:only-of-type {\n",
              "        vertical-align: middle;\n",
              "    }\n",
              "\n",
              "    .dataframe tbody tr th {\n",
              "        vertical-align: top;\n",
              "    }\n",
              "\n",
              "    .dataframe thead th {\n",
              "        text-align: right;\n",
              "    }\n",
              "</style>\n",
              "<table border=\"1\" class=\"dataframe\">\n",
              "  <thead>\n",
              "    <tr style=\"text-align: right;\">\n",
              "      <th></th>\n",
              "      <th>timestamp</th>\n",
              "      <th>row_id</th>\n",
              "      <th>user_id</th>\n",
              "      <th>answered_correctly</th>\n",
              "      <th>content_id</th>\n",
              "      <th>prior_question_had_explanation</th>\n",
              "      <th>prior_question_elapsed_time</th>\n",
              "      <th>ts_bin</th>\n",
              "      <th>Bin_Percent_correct</th>\n",
              "    </tr>\n",
              "  </thead>\n",
              "  <tbody>\n",
              "    <tr>\n",
              "      <th>0</th>\n",
              "      <td>0</td>\n",
              "      <td>0</td>\n",
              "      <td>115</td>\n",
              "      <td>1</td>\n",
              "      <td>5692</td>\n",
              "      <td>&lt;NA&gt;</td>\n",
              "      <td>NaN</td>\n",
              "      <td>Bin_1</td>\n",
              "      <td>0.72</td>\n",
              "    </tr>\n",
              "    <tr>\n",
              "      <th>1</th>\n",
              "      <td>56943</td>\n",
              "      <td>1</td>\n",
              "      <td>115</td>\n",
              "      <td>1</td>\n",
              "      <td>5716</td>\n",
              "      <td>False</td>\n",
              "      <td>37000.0</td>\n",
              "      <td>Bin_1</td>\n",
              "      <td>0.72</td>\n",
              "    </tr>\n",
              "    <tr>\n",
              "      <th>2</th>\n",
              "      <td>118363</td>\n",
              "      <td>2</td>\n",
              "      <td>115</td>\n",
              "      <td>1</td>\n",
              "      <td>128</td>\n",
              "      <td>False</td>\n",
              "      <td>55000.0</td>\n",
              "      <td>Bin_1</td>\n",
              "      <td>0.72</td>\n",
              "    </tr>\n",
              "    <tr>\n",
              "      <th>3</th>\n",
              "      <td>131167</td>\n",
              "      <td>3</td>\n",
              "      <td>115</td>\n",
              "      <td>1</td>\n",
              "      <td>7860</td>\n",
              "      <td>False</td>\n",
              "      <td>19000.0</td>\n",
              "      <td>Bin_1</td>\n",
              "      <td>0.72</td>\n",
              "    </tr>\n",
              "    <tr>\n",
              "      <th>4</th>\n",
              "      <td>137965</td>\n",
              "      <td>4</td>\n",
              "      <td>115</td>\n",
              "      <td>1</td>\n",
              "      <td>7922</td>\n",
              "      <td>False</td>\n",
              "      <td>11000.0</td>\n",
              "      <td>Bin_1</td>\n",
              "      <td>0.72</td>\n",
              "    </tr>\n",
              "  </tbody>\n",
              "</table>\n",
              "</div>"
            ],
            "text/plain": [
              "   timestamp  row_id  ...  ts_bin  Bin_Percent_correct\n",
              "0          0       0  ...   Bin_1                 0.72\n",
              "1      56943       1  ...   Bin_1                 0.72\n",
              "2     118363       2  ...   Bin_1                 0.72\n",
              "3     131167       3  ...   Bin_1                 0.72\n",
              "4     137965       4  ...   Bin_1                 0.72\n",
              "\n",
              "[5 rows x 9 columns]"
            ]
          },
          "metadata": {
            "tags": []
          },
          "execution_count": 20
        }
      ]
    },
    {
      "cell_type": "code",
      "metadata": {
        "id": "dXUz6QWa5kiP"
      },
      "source": [
        "## 먼저 part별 정확도 부터 산출\r\n",
        "part = questions.groupby('part').agg({\"Wrong\":['sum'], 'Right':['sum']})"
      ],
      "execution_count": null,
      "outputs": []
    },
    {
      "cell_type": "code",
      "metadata": {
        "id": "9YczM9Zy6OtI"
      },
      "source": [
        "part['Part_correct'] = part.Right / (part.Right + part.Wrong)\r\n",
        "part = part.iloc[:,2]"
      ],
      "execution_count": null,
      "outputs": []
    },
    {
      "cell_type": "code",
      "metadata": {
        "id": "hRyzVPIj6sY3"
      },
      "source": [
        "questions['Part_correct'] = questions['part'].map(part.to_dict())"
      ],
      "execution_count": null,
      "outputs": []
    },
    {
      "cell_type": "code",
      "metadata": {
        "id": "DcIHddh17RUC"
      },
      "source": [
        "train = train.merge(questions[['question_id', 'part', 'Part_correct']], left_on = 'content_id', right_on = 'question_id', how='left')\r\n",
        "del train['question_id']"
      ],
      "execution_count": null,
      "outputs": []
    },
    {
      "cell_type": "code",
      "metadata": {
        "colab": {
          "base_uri": "https://localhost:8080/",
          "height": 218
        },
        "id": "hgC3kJ1Y9KVG",
        "outputId": "90a841fc-11d5-45a9-deb3-bfc70444a4a9"
      },
      "source": [
        "train.head()"
      ],
      "execution_count": null,
      "outputs": [
        {
          "output_type": "execute_result",
          "data": {
            "text/html": [
              "<div>\n",
              "<style scoped>\n",
              "    .dataframe tbody tr th:only-of-type {\n",
              "        vertical-align: middle;\n",
              "    }\n",
              "\n",
              "    .dataframe tbody tr th {\n",
              "        vertical-align: top;\n",
              "    }\n",
              "\n",
              "    .dataframe thead th {\n",
              "        text-align: right;\n",
              "    }\n",
              "</style>\n",
              "<table border=\"1\" class=\"dataframe\">\n",
              "  <thead>\n",
              "    <tr style=\"text-align: right;\">\n",
              "      <th></th>\n",
              "      <th>timestamp</th>\n",
              "      <th>row_id</th>\n",
              "      <th>user_id</th>\n",
              "      <th>answered_correctly</th>\n",
              "      <th>content_id</th>\n",
              "      <th>prior_question_had_explanation</th>\n",
              "      <th>prior_question_elapsed_time</th>\n",
              "      <th>ts_bin</th>\n",
              "      <th>Bin_Percent_correct</th>\n",
              "      <th>part</th>\n",
              "      <th>Part_correct</th>\n",
              "    </tr>\n",
              "  </thead>\n",
              "  <tbody>\n",
              "    <tr>\n",
              "      <th>0</th>\n",
              "      <td>0</td>\n",
              "      <td>0</td>\n",
              "      <td>115</td>\n",
              "      <td>1</td>\n",
              "      <td>5692</td>\n",
              "      <td>&lt;NA&gt;</td>\n",
              "      <td>NaN</td>\n",
              "      <td>Bin_1</td>\n",
              "      <td>0.72</td>\n",
              "      <td>5.0</td>\n",
              "      <td>0.610088</td>\n",
              "    </tr>\n",
              "    <tr>\n",
              "      <th>1</th>\n",
              "      <td>56943</td>\n",
              "      <td>1</td>\n",
              "      <td>115</td>\n",
              "      <td>1</td>\n",
              "      <td>5716</td>\n",
              "      <td>False</td>\n",
              "      <td>37000.0</td>\n",
              "      <td>Bin_1</td>\n",
              "      <td>0.72</td>\n",
              "      <td>5.0</td>\n",
              "      <td>0.610088</td>\n",
              "    </tr>\n",
              "    <tr>\n",
              "      <th>2</th>\n",
              "      <td>118363</td>\n",
              "      <td>2</td>\n",
              "      <td>115</td>\n",
              "      <td>1</td>\n",
              "      <td>128</td>\n",
              "      <td>False</td>\n",
              "      <td>55000.0</td>\n",
              "      <td>Bin_1</td>\n",
              "      <td>0.72</td>\n",
              "      <td>1.0</td>\n",
              "      <td>0.745032</td>\n",
              "    </tr>\n",
              "    <tr>\n",
              "      <th>3</th>\n",
              "      <td>131167</td>\n",
              "      <td>3</td>\n",
              "      <td>115</td>\n",
              "      <td>1</td>\n",
              "      <td>7860</td>\n",
              "      <td>False</td>\n",
              "      <td>19000.0</td>\n",
              "      <td>Bin_1</td>\n",
              "      <td>0.72</td>\n",
              "      <td>1.0</td>\n",
              "      <td>0.745032</td>\n",
              "    </tr>\n",
              "    <tr>\n",
              "      <th>4</th>\n",
              "      <td>137965</td>\n",
              "      <td>4</td>\n",
              "      <td>115</td>\n",
              "      <td>1</td>\n",
              "      <td>7922</td>\n",
              "      <td>False</td>\n",
              "      <td>11000.0</td>\n",
              "      <td>Bin_1</td>\n",
              "      <td>0.72</td>\n",
              "      <td>1.0</td>\n",
              "      <td>0.745032</td>\n",
              "    </tr>\n",
              "  </tbody>\n",
              "</table>\n",
              "</div>"
            ],
            "text/plain": [
              "   timestamp  row_id  user_id  ...  Bin_Percent_correct  part  Part_correct\n",
              "0          0       0      115  ...                 0.72   5.0      0.610088\n",
              "1      56943       1      115  ...                 0.72   5.0      0.610088\n",
              "2     118363       2      115  ...                 0.72   1.0      0.745032\n",
              "3     131167       3      115  ...                 0.72   1.0      0.745032\n",
              "4     137965       4      115  ...                 0.72   1.0      0.745032\n",
              "\n",
              "[5 rows x 11 columns]"
            ]
          },
          "metadata": {
            "tags": []
          },
          "execution_count": 22
        }
      ]
    },
    {
      "cell_type": "code",
      "metadata": {
        "id": "gshdSkWWC0gf"
      },
      "source": [
        "train['part'] = train['part'].astype(\"Int64\")"
      ],
      "execution_count": null,
      "outputs": []
    },
    {
      "cell_type": "code",
      "metadata": {
        "id": "nhHhvRHBEVgc"
      },
      "source": [
        "train_for_part = train[['user_id','part','answered_correctly']]"
      ],
      "execution_count": null,
      "outputs": []
    },
    {
      "cell_type": "code",
      "metadata": {
        "colab": {
          "base_uri": "https://localhost:8080/"
        },
        "id": "rYlGpzk9IPJy",
        "outputId": "7fc6f8ef-8a88-4118-bf57-41edfa165b1c"
      },
      "source": [
        "import gc\r\n",
        "gc.collect()"
      ],
      "execution_count": null,
      "outputs": [
        {
          "output_type": "execute_result",
          "data": {
            "text/plain": [
              "289"
            ]
          },
          "metadata": {
            "tags": []
          },
          "execution_count": 25
        }
      ]
    },
    {
      "cell_type": "code",
      "metadata": {
        "id": "qrTpT2YM8h32"
      },
      "source": [
        "## part별 개인 정답률 산출\r\n",
        "user_part = train_for_part[train_for_part.answered_correctly != -1].groupby(['user_id','part'])['answered_correctly'].mean()\r\n",
        "#train['Ind_part_correct'] =\r\n",
        "\r\n",
        "user_part = user_part.reset_index()\r\n",
        "\r\n",
        "user_part['part'] = user_part['part'].astype(\"Int64\")\r\n",
        "\r\n",
        "user_part = user_part.rename(columns={\"answered_correctly\":\"part_answered_correctly\"})\r\n",
        "\r\n",
        "user_part"
      ],
      "execution_count": null,
      "outputs": []
    },
    {
      "cell_type": "code",
      "metadata": {
        "id": "zqDKuH9pJZ4Z"
      },
      "source": [
        "train = train.merge(user_part[['user_id','part','part_answered_correctly']], on=['user_id','part'])"
      ],
      "execution_count": null,
      "outputs": []
    },
    {
      "cell_type": "code",
      "metadata": {
        "colab": {
          "base_uri": "https://localhost:8080/",
          "height": 218
        },
        "id": "Qu-qPvG5J5NO",
        "outputId": "af99d20e-e5ba-43cc-ee7a-b1d31f3209a9"
      },
      "source": [
        "gc.collect()\r\n",
        "train.head()"
      ],
      "execution_count": null,
      "outputs": [
        {
          "output_type": "execute_result",
          "data": {
            "text/html": [
              "<div>\n",
              "<style scoped>\n",
              "    .dataframe tbody tr th:only-of-type {\n",
              "        vertical-align: middle;\n",
              "    }\n",
              "\n",
              "    .dataframe tbody tr th {\n",
              "        vertical-align: top;\n",
              "    }\n",
              "\n",
              "    .dataframe thead th {\n",
              "        text-align: right;\n",
              "    }\n",
              "</style>\n",
              "<table border=\"1\" class=\"dataframe\">\n",
              "  <thead>\n",
              "    <tr style=\"text-align: right;\">\n",
              "      <th></th>\n",
              "      <th>timestamp</th>\n",
              "      <th>row_id</th>\n",
              "      <th>user_id</th>\n",
              "      <th>answered_correctly</th>\n",
              "      <th>content_id</th>\n",
              "      <th>prior_question_had_explanation</th>\n",
              "      <th>prior_question_elapsed_time</th>\n",
              "      <th>ts_bin</th>\n",
              "      <th>Bin_Percent_correct</th>\n",
              "      <th>part</th>\n",
              "      <th>Part_correct</th>\n",
              "      <th>part_answered_correctly</th>\n",
              "    </tr>\n",
              "  </thead>\n",
              "  <tbody>\n",
              "    <tr>\n",
              "      <th>0</th>\n",
              "      <td>0</td>\n",
              "      <td>0</td>\n",
              "      <td>115</td>\n",
              "      <td>1</td>\n",
              "      <td>5692</td>\n",
              "      <td>&lt;NA&gt;</td>\n",
              "      <td>NaN</td>\n",
              "      <td>Bin_1</td>\n",
              "      <td>0.72</td>\n",
              "      <td>5</td>\n",
              "      <td>0.610088</td>\n",
              "      <td>1.000000</td>\n",
              "    </tr>\n",
              "    <tr>\n",
              "      <th>1</th>\n",
              "      <td>56943</td>\n",
              "      <td>1</td>\n",
              "      <td>115</td>\n",
              "      <td>1</td>\n",
              "      <td>5716</td>\n",
              "      <td>False</td>\n",
              "      <td>37000.0</td>\n",
              "      <td>Bin_1</td>\n",
              "      <td>0.72</td>\n",
              "      <td>5</td>\n",
              "      <td>0.610088</td>\n",
              "      <td>1.000000</td>\n",
              "    </tr>\n",
              "    <tr>\n",
              "      <th>2</th>\n",
              "      <td>118363</td>\n",
              "      <td>2</td>\n",
              "      <td>115</td>\n",
              "      <td>1</td>\n",
              "      <td>128</td>\n",
              "      <td>False</td>\n",
              "      <td>55000.0</td>\n",
              "      <td>Bin_1</td>\n",
              "      <td>0.72</td>\n",
              "      <td>1</td>\n",
              "      <td>0.745032</td>\n",
              "      <td>0.702703</td>\n",
              "    </tr>\n",
              "    <tr>\n",
              "      <th>3</th>\n",
              "      <td>131167</td>\n",
              "      <td>3</td>\n",
              "      <td>115</td>\n",
              "      <td>1</td>\n",
              "      <td>7860</td>\n",
              "      <td>False</td>\n",
              "      <td>19000.0</td>\n",
              "      <td>Bin_1</td>\n",
              "      <td>0.72</td>\n",
              "      <td>1</td>\n",
              "      <td>0.745032</td>\n",
              "      <td>0.702703</td>\n",
              "    </tr>\n",
              "    <tr>\n",
              "      <th>4</th>\n",
              "      <td>137965</td>\n",
              "      <td>4</td>\n",
              "      <td>115</td>\n",
              "      <td>1</td>\n",
              "      <td>7922</td>\n",
              "      <td>False</td>\n",
              "      <td>11000.0</td>\n",
              "      <td>Bin_1</td>\n",
              "      <td>0.72</td>\n",
              "      <td>1</td>\n",
              "      <td>0.745032</td>\n",
              "      <td>0.702703</td>\n",
              "    </tr>\n",
              "  </tbody>\n",
              "</table>\n",
              "</div>"
            ],
            "text/plain": [
              "   timestamp  row_id  user_id  ...  part  Part_correct  part_answered_correctly\n",
              "0          0       0      115  ...     5      0.610088                 1.000000\n",
              "1      56943       1      115  ...     5      0.610088                 1.000000\n",
              "2     118363       2      115  ...     1      0.745032                 0.702703\n",
              "3     131167       3      115  ...     1      0.745032                 0.702703\n",
              "4     137965       4      115  ...     1      0.745032                 0.702703\n",
              "\n",
              "[5 rows x 12 columns]"
            ]
          },
          "metadata": {
            "tags": []
          },
          "execution_count": 38
        }
      ]
    },
    {
      "cell_type": "code",
      "metadata": {
        "colab": {
          "base_uri": "https://localhost:8080/"
        },
        "id": "rkwS83YIKb1W",
        "outputId": "68d12d2b-9cbb-4715-f80e-7e6b2baa3104"
      },
      "source": [
        "del user_part\r\n",
        "gc.collect()"
      ],
      "execution_count": null,
      "outputs": [
        {
          "output_type": "execute_result",
          "data": {
            "text/plain": [
              "122"
            ]
          },
          "metadata": {
            "tags": []
          },
          "execution_count": 39
        }
      ]
    },
    {
      "cell_type": "code",
      "metadata": {
        "colab": {
          "base_uri": "https://localhost:8080/"
        },
        "id": "gbUnUMpIKnF0",
        "outputId": "fde96c2f-88b5-479e-efc9-30a92e27fe59"
      },
      "source": [
        "## 10기가 사용 중\r\n",
        "train.memory_usage()"
      ],
      "execution_count": null,
      "outputs": [
        {
          "output_type": "execute_result",
          "data": {
            "text/plain": [
              "Index                             799751352\n",
              "timestamp                         799751352\n",
              "row_id                            799751352\n",
              "user_id                           799751352\n",
              "answered_correctly                799751352\n",
              "content_id                        799751352\n",
              "prior_question_had_explanation    199937838\n",
              "prior_question_elapsed_time       799751352\n",
              "ts_bin                             99969119\n",
              "Bin_Percent_correct               799751352\n",
              "part                              899720271\n",
              "Part_correct                      799751352\n",
              "part_answered_correctly           799751352\n",
              "dtype: int64"
            ]
          },
          "metadata": {
            "tags": []
          },
          "execution_count": 40
        }
      ]
    }
  ]
}